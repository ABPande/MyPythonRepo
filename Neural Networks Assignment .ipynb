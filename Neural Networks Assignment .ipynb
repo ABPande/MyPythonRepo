{
 "cells": [
  {
   "cell_type": "code",
   "execution_count": 2,
   "metadata": {},
   "outputs": [],
   "source": [
    "import tensorflow\n",
    "import numpy as np\n",
    "import matplotlib.pyplot as plt\n",
    "import h5py\n",
    "%matplotlib inline\n",
    "from sklearn.model_selection import train_test_split\n",
    "import skimage.transform as sk_transform\n",
    "import skimage.filters as sk_filters\n",
    "from skimage.transform import SimilarityTransform\n",
    "from sklearn.metrics import confusion_matrix, classification_report"
   ]
  },
  {
   "cell_type": "code",
   "execution_count": 3,
   "metadata": {},
   "outputs": [
    {
     "ename": "OSError",
     "evalue": "Unable to open file (unable to open file: name = 'SVHN_single_grey1.h5', errno = 2, error message = 'No such file or directory', flags = 0, o_flags = 0)",
     "output_type": "error",
     "traceback": [
      "\u001b[1;31m---------------------------------------------------------------------------\u001b[0m",
      "\u001b[1;31mOSError\u001b[0m                                   Traceback (most recent call last)",
      "\u001b[1;32m<ipython-input-3-216b67d953f1>\u001b[0m in \u001b[0;36m<module>\u001b[1;34m\u001b[0m\n\u001b[1;32m----> 1\u001b[1;33m \u001b[0mSVHN\u001b[0m \u001b[1;33m=\u001b[0m \u001b[0mh5py\u001b[0m\u001b[1;33m.\u001b[0m\u001b[0mFile\u001b[0m\u001b[1;33m(\u001b[0m\u001b[1;34m\"SVHN_single_grey1.h5\"\u001b[0m\u001b[1;33m,\u001b[0m\u001b[1;34m\"r\"\u001b[0m\u001b[1;33m)\u001b[0m\u001b[1;33m\u001b[0m\u001b[1;33m\u001b[0m\u001b[0m\n\u001b[0m",
      "\u001b[1;32m~\\AppData\\Local\\Continuum\\anaconda3\\lib\\site-packages\\h5py\\_hl\\files.py\u001b[0m in \u001b[0;36m__init__\u001b[1;34m(self, name, mode, driver, libver, userblock_size, swmr, rdcc_nslots, rdcc_nbytes, rdcc_w0, track_order, **kwds)\u001b[0m\n\u001b[0;32m    406\u001b[0m                 fid = make_fid(name, mode, userblock_size,\n\u001b[0;32m    407\u001b[0m                                \u001b[0mfapl\u001b[0m\u001b[1;33m,\u001b[0m \u001b[0mfcpl\u001b[0m\u001b[1;33m=\u001b[0m\u001b[0mmake_fcpl\u001b[0m\u001b[1;33m(\u001b[0m\u001b[0mtrack_order\u001b[0m\u001b[1;33m=\u001b[0m\u001b[0mtrack_order\u001b[0m\u001b[1;33m)\u001b[0m\u001b[1;33m,\u001b[0m\u001b[1;33m\u001b[0m\u001b[1;33m\u001b[0m\u001b[0m\n\u001b[1;32m--> 408\u001b[1;33m                                swmr=swmr)\n\u001b[0m\u001b[0;32m    409\u001b[0m \u001b[1;33m\u001b[0m\u001b[0m\n\u001b[0;32m    410\u001b[0m             \u001b[1;32mif\u001b[0m \u001b[0misinstance\u001b[0m\u001b[1;33m(\u001b[0m\u001b[0mlibver\u001b[0m\u001b[1;33m,\u001b[0m \u001b[0mtuple\u001b[0m\u001b[1;33m)\u001b[0m\u001b[1;33m:\u001b[0m\u001b[1;33m\u001b[0m\u001b[1;33m\u001b[0m\u001b[0m\n",
      "\u001b[1;32m~\\AppData\\Local\\Continuum\\anaconda3\\lib\\site-packages\\h5py\\_hl\\files.py\u001b[0m in \u001b[0;36mmake_fid\u001b[1;34m(name, mode, userblock_size, fapl, fcpl, swmr)\u001b[0m\n\u001b[0;32m    171\u001b[0m         \u001b[1;32mif\u001b[0m \u001b[0mswmr\u001b[0m \u001b[1;32mand\u001b[0m \u001b[0mswmr_support\u001b[0m\u001b[1;33m:\u001b[0m\u001b[1;33m\u001b[0m\u001b[1;33m\u001b[0m\u001b[0m\n\u001b[0;32m    172\u001b[0m             \u001b[0mflags\u001b[0m \u001b[1;33m|=\u001b[0m \u001b[0mh5f\u001b[0m\u001b[1;33m.\u001b[0m\u001b[0mACC_SWMR_READ\u001b[0m\u001b[1;33m\u001b[0m\u001b[1;33m\u001b[0m\u001b[0m\n\u001b[1;32m--> 173\u001b[1;33m         \u001b[0mfid\u001b[0m \u001b[1;33m=\u001b[0m \u001b[0mh5f\u001b[0m\u001b[1;33m.\u001b[0m\u001b[0mopen\u001b[0m\u001b[1;33m(\u001b[0m\u001b[0mname\u001b[0m\u001b[1;33m,\u001b[0m \u001b[0mflags\u001b[0m\u001b[1;33m,\u001b[0m \u001b[0mfapl\u001b[0m\u001b[1;33m=\u001b[0m\u001b[0mfapl\u001b[0m\u001b[1;33m)\u001b[0m\u001b[1;33m\u001b[0m\u001b[1;33m\u001b[0m\u001b[0m\n\u001b[0m\u001b[0;32m    174\u001b[0m     \u001b[1;32melif\u001b[0m \u001b[0mmode\u001b[0m \u001b[1;33m==\u001b[0m \u001b[1;34m'r+'\u001b[0m\u001b[1;33m:\u001b[0m\u001b[1;33m\u001b[0m\u001b[1;33m\u001b[0m\u001b[0m\n\u001b[0;32m    175\u001b[0m         \u001b[0mfid\u001b[0m \u001b[1;33m=\u001b[0m \u001b[0mh5f\u001b[0m\u001b[1;33m.\u001b[0m\u001b[0mopen\u001b[0m\u001b[1;33m(\u001b[0m\u001b[0mname\u001b[0m\u001b[1;33m,\u001b[0m \u001b[0mh5f\u001b[0m\u001b[1;33m.\u001b[0m\u001b[0mACC_RDWR\u001b[0m\u001b[1;33m,\u001b[0m \u001b[0mfapl\u001b[0m\u001b[1;33m=\u001b[0m\u001b[0mfapl\u001b[0m\u001b[1;33m)\u001b[0m\u001b[1;33m\u001b[0m\u001b[1;33m\u001b[0m\u001b[0m\n",
      "\u001b[1;32mh5py\\_objects.pyx\u001b[0m in \u001b[0;36mh5py._objects.with_phil.wrapper\u001b[1;34m()\u001b[0m\n",
      "\u001b[1;32mh5py\\_objects.pyx\u001b[0m in \u001b[0;36mh5py._objects.with_phil.wrapper\u001b[1;34m()\u001b[0m\n",
      "\u001b[1;32mh5py\\h5f.pyx\u001b[0m in \u001b[0;36mh5py.h5f.open\u001b[1;34m()\u001b[0m\n",
      "\u001b[1;31mOSError\u001b[0m: Unable to open file (unable to open file: name = 'SVHN_single_grey1.h5', errno = 2, error message = 'No such file or directory', flags = 0, o_flags = 0)"
     ]
    }
   ],
   "source": [
    "SVHN = h5py.File(\"SVHN_single_grey1.h5\",\"r\")"
   ]
  },
  {
   "cell_type": "code",
   "execution_count": null,
   "metadata": {},
   "outputs": [],
   "source": [
    "X_train_val = SVHN[\"X_train\"][:]\n",
    "y_train_val = SVHN[\"y_train\"][:]\n",
    "X_test = SVHN[\"X_test\"][:]\n",
    "y_test = SVHN[\"y_test\"][:]"
   ]
  },
  {
   "cell_type": "code",
   "execution_count": 4,
   "metadata": {},
   "outputs": [],
   "source": [
    "SVHN.close()"
   ]
  },
  {
   "cell_type": "code",
   "execution_count": 5,
   "metadata": {},
   "outputs": [
    {
     "data": {
      "text/plain": [
       "<matplotlib.image.AxesImage at 0x21f5565bc18>"
      ]
     },
     "execution_count": 5,
     "metadata": {},
     "output_type": "execute_result"
    },
    {
     "data": {
      "image/png": "[encoded data removed]",
      "text/plain": [
       "<Figure size 432x288 with 1 Axes>"
      ]
     },
     "metadata": {
      "needs_background": "light"
     },
     "output_type": "display_data"
    }
   ],
   "source": [
    "plt.imshow(X_train_val[25], cmap = \"gray\")"
   ]
  },
  {
   "cell_type": "code",
   "execution_count": 6,
   "metadata": {},
   "outputs": [
    {
     "data": {
      "text/plain": [
       "0"
      ]
     },
     "execution_count": 6,
     "metadata": {},
     "output_type": "execute_result"
    }
   ],
   "source": [
    "y_train_val[25]"
   ]
  },
  {
   "cell_type": "code",
   "execution_count": 7,
   "metadata": {},
   "outputs": [
    {
     "name": "stdout",
     "output_type": "stream",
     "text": [
      "(33600, 32, 32)\n",
      "(33600,)\n",
      "(8400, 32, 32)\n",
      "(8400,)\n",
      "(18000, 32, 32)\n",
      "(18000,)\n"
     ]
    }
   ],
   "source": [
    "X_train, X_val, y_train, y_val = train_test_split(X_train_val, y_train_val, test_size = 0.2)\n",
    "print (X_train.shape)\n",
    "print (y_train.shape)\n",
    "print (X_val.shape)\n",
    "print (y_val.shape)\n",
    "print (X_test.shape)\n",
    "print (y_test.shape)\n",
    "train_dim = X_train.shape[0]\n",
    "test_dim = X_test.shape[0]\n",
    "val_dim = X_val.shape[0]"
   ]
  },
  {
   "cell_type": "code",
   "execution_count": 8,
   "metadata": {},
   "outputs": [],
   "source": [
    "class Linear():\n",
    "    def __init__(self, in_, out_):\n",
    "        self.W = np.random.randn(in_,out_) * 0.01\n",
    "        self.b = np.zeros((1,out_))\n",
    "        self.params = [self.W, self.b]\n",
    "        self.gradW = None\n",
    "        self.gradb = None\n",
    "        self.gradInput = None\n",
    "    \n",
    "    def forward(self, X):\n",
    "        self.X = X\n",
    "        self.output = np.dot(X, self.W) + self.b\n",
    "        return self.output\n",
    "    \n",
    "    def backward(self, nextgrad):\n",
    "        self.gradW = np.dot(self.X.T, nextgrad)\n",
    "        self.gradb = np.sum(nextgrad, axis = 0)\n",
    "        self.gradInput = np.dot(nextgrad, self.W.T)\n",
    "        return self.gradInput, [self.gradW, self.gradb]"
   ]
  },
  {
   "cell_type": "code",
   "execution_count": 9,
   "metadata": {},
   "outputs": [],
   "source": [
    "class Normalize():\n",
    "    def __init__(self):\n",
    "        self.params = []\n",
    "        self.gradInput = None\n",
    "    \n",
    "    def forward(self, X):\n",
    "        self.output = (X - np.mean(X))/(np.std(X)+0.0000001)\n",
    "        return self.output\n",
    "    \n",
    "    def backward(self, nextgrad):\n",
    "        return nextgrad, []"
   ]
  },
  {
   "cell_type": "code",
   "execution_count": 10,
   "metadata": {},
   "outputs": [],
   "source": [
    "class ReLU():\n",
    "    def __init__(self):\n",
    "        self.params = []\n",
    "        self.gradInput = None\n",
    "    \n",
    "    def forward(self, X):\n",
    "        self.output = np.maximum(X,0)\n",
    "        return self.output\n",
    "    \n",
    "    def backward(self, nextgrad):\n",
    "        self.gradInput = nextgrad.copy()\n",
    "        self.gradInput [self.output<=0] = 0 \n",
    "        return self.gradInput, []"
   ]
  },
  {
   "cell_type": "code",
   "execution_count": 11,
   "metadata": {},
   "outputs": [],
   "source": [
    "def softmax(X):\n",
    "    exp_x = np.exp(X - np.max(X, axis = 1, keepdims = True))\n",
    "    return exp_x/np.sum(exp_x, axis = 1, keepdims = True)"
   ]
  },
  {
   "cell_type": "code",
   "execution_count": 12,
   "metadata": {},
   "outputs": [],
   "source": [
    "class CrossEntropy():\n",
    "    def forward(self, X, y):\n",
    "        self.m = y.shape[0]\n",
    "        self.p = softmax(X)\n",
    "        cross_entropy = -np.log(self.p[range(self.m),y])\n",
    "        loss = np.sum(cross_entropy) /self.m\n",
    "        return loss\n",
    "    \n",
    "    def backward(self, X, y):\n",
    "        y_idx = y.argmax()\n",
    "        grad = softmax(X)\n",
    "        grad[range(self.m),y] -= 1\n",
    "        grad /=self.m\n",
    "        return grad"
   ]
  },
  {
   "cell_type": "code",
   "execution_count": 13,
   "metadata": {},
   "outputs": [],
   "source": [
    "class NN():\n",
    "    def __init__(self, lossfunc = CrossEntropy()):\n",
    "        self.params = []\n",
    "        self.layers = []\n",
    "        self.loss_func = lossfunc\n",
    "        self.grads = []\n",
    "    \n",
    "    def add_layer(self, layer):\n",
    "        self.layers.append(layer)\n",
    "        self.params.append(layer.params)\n",
    "    \n",
    "    def forward(self, X):\n",
    "        for layer in self.layers:\n",
    "            X = layer.forward(X)\n",
    "        return X\n",
    "    \n",
    "    def backward(self, nextgrad):\n",
    "        self.clear_grad_param()\n",
    "        for layer in reversed(self.layers):\n",
    "            nextgrad, grad = layer.backward(nextgrad)\n",
    "            self.grads.append(grad)\n",
    "        return self.grads\n",
    "    \n",
    "    def train_step(self, X, y):\n",
    "        out = self.forward(X)\n",
    "        loss = self.loss_func.forward(out, y)\n",
    "        nextgrad = self.loss_func.backward(out, y)\n",
    "        grads = self.backward(nextgrad)\n",
    "        return loss, grads\n",
    "    \n",
    "    def predict(self, X):\n",
    "        X = self.forward(X)\n",
    "        return np.argmax(X, axis = 1)\n",
    "\n",
    "    def predict_scores(self, X):\n",
    "        X = self.forward(X)\n",
    "        return X\n",
    "    \n",
    "    def clear_grad_param(self):\n",
    "        self.grads = []"
   ]
  },
  {
   "cell_type": "code",
   "execution_count": 14,
   "metadata": {},
   "outputs": [],
   "source": [
    "def update_params(velocity, params, grads, learning_rate = 0.01, mu = 0.9, epoch=1):\n",
    "    for v, p, g, in zip(velocity, params, reversed(grads)):\n",
    "        for i in range(len(g)):\n",
    "            v[i] = mu * v[i] + learning_rate * g[i]\n",
    "            p[i] -= v[i]"
   ]
  },
  {
   "cell_type": "code",
   "execution_count": 15,
   "metadata": {},
   "outputs": [],
   "source": [
    "def minibatch (X, y, minibatch_size):\n",
    "    n = X.shape[0]\n",
    "    minibatches = []\n",
    "    permutation = np.random.permutation(X.shape[0])\n",
    "    X = X[permutation]\n",
    "    y = y[permutation]\n",
    "    \n",
    "    for i in range(0, n, minibatch_size):\n",
    "        X_batch = X[i:i + minibatch_size, :]\n",
    "        X_batch = (X_batch - np.mean(X_batch))/(np.std(X_batch)+0.0000001)\n",
    "        y_batch = y[i:i + minibatch_size, ]\n",
    "        minibatches.append((X_batch, y_batch))\n",
    "    \n",
    "    return minibatches"
   ]
  },
  {
   "cell_type": "code",
   "execution_count": 16,
   "metadata": {},
   "outputs": [],
   "source": [
    "def train(net, X_train, y_train, minibatch_size, epoch, learning_rate, mu = 0.9, X_val=None, y_val = None):\n",
    "    val_loss_epoch = []\n",
    "    minibatches = minibatch(X_train, y_train, minibatch_size)\n",
    "    minibatches_val = minibatch(X_val, y_val, minibatch_size)    \n",
    "    for i in range (epoch):\n",
    "        loss_batch = []\n",
    "        val_loss_batch = []\n",
    "        velocity = []\n",
    "        for param_layer in net.params:\n",
    "            p = [np.zeros_like(param) for param in list(param_layer)]\n",
    "            velocity.append(p)\n",
    "            \n",
    "        for X_mini, y_mini in minibatches:\n",
    "            loss, grads = net.train_step(X_mini, y_mini)\n",
    "            loss_batch.append(loss)\n",
    "            update_params(velocity, net.params, grads, learning_rate = learning_rate, mu = mu, epoch = epoch)\n",
    "        \n",
    "        for X_mini_val, y_mini_val in minibatches_val:\n",
    "            val_loss, _ = net.train_step(X_mini, y_mini)\n",
    "            val_loss_batch.append(val_loss)\n",
    "        \n",
    "        m_train = X_train.shape[0]\n",
    "        m_val = X_val.shape[0]\n",
    "        \n",
    "        y_train_pred = np.array([], dtype = \"int64\")\n",
    "        y_val_pred = np.array([], dtype = \"int64\")\n",
    "        y_train1 = []\n",
    "        y_val1 = []        \n",
    "        for i in range(0, m_train, minibatch_size):\n",
    "            X_tr = X_train[i:i + minibatch_size, :]\n",
    "            y_tr = y_train[i:i + minibatch_size, ]\n",
    "            y_train1 = np.append(y_train1, y_tr)\n",
    "            y_train_pred = np.append(y_train_pred, net.predict(X_tr) )\n",
    "        \n",
    "        for i in range(0, m_val, minibatch_size):\n",
    "            X_va = X_val[i:i + minibatch_size, :]\n",
    "            y_va = y_val[i:i + minibatch_size, ]\n",
    "            y_val1 = np.append(y_val1, y_va)\n",
    "            y_val_pred = np.append(y_val_pred, net.predict(X_va) )\n",
    "            \n",
    "        train_acc = check_accuracy(y_train1, y_train_pred)\n",
    "        val_acc = check_accuracy(y_train1, y_train_pred)\n",
    "        \n",
    "        mean_train_loss = sum(loss_batch)/float(len(loss_batch))\n",
    "        mean_val_loss = sum(val_loss_batch)/float(len(val_loss_batch))\n",
    "        \n",
    "        val_loss_epoch.append(mean_val_loss)\n",
    "        print (\"validation loss\", mean_val_loss, \" Validation Accuracy \", val_acc)\n",
    "        #if mean_val_loss < np.min(val_loss_epoch):\n",
    "         #   best_net = net.deepcopy()\n",
    "    return net"
   ]
  },
  {
   "cell_type": "code",
   "execution_count": 17,
   "metadata": {},
   "outputs": [],
   "source": [
    "def check_accuracy(y_true, y_pred):\n",
    "    return (np.mean(y_true==y_pred))"
   ]
  },
  {
   "cell_type": "code",
   "execution_count": 18,
   "metadata": {},
   "outputs": [],
   "source": [
    "X_train_flip = np.fliplr(X_train)\n",
    "tform = SimilarityTransform(translation=(0, 2))\n",
    "X_train_warp_up = []\n",
    "j=0\n",
    "for i in range(X_train.shape[0]):    \n",
    "    X_train_warp_up.append(sk_transform.warp(X_train[i], tform))"
   ]
  },
  {
   "cell_type": "code",
   "execution_count": 19,
   "metadata": {},
   "outputs": [],
   "source": [
    "tform = SimilarityTransform(translation=(0, -2))\n",
    "X_train_warp_down = []\n",
    "j=0\n",
    "for i in range(X_train.shape[0]):    \n",
    "    X_train_warp_down.append(sk_transform.warp(X_train[i], tform))"
   ]
  },
  {
   "cell_type": "code",
   "execution_count": 20,
   "metadata": {},
   "outputs": [],
   "source": [
    "tform = SimilarityTransform(translation=(2, 0))\n",
    "X_train_warp_left = []\n",
    "j=0\n",
    "for i in range(X_train.shape[0]):    \n",
    "    X_train_warp_left.append(sk_transform.warp(X_train[i], tform))"
   ]
  },
  {
   "cell_type": "code",
   "execution_count": 21,
   "metadata": {},
   "outputs": [],
   "source": [
    "tform = SimilarityTransform(translation=(-2, 0))\n",
    "X_train_warp_right = []\n",
    "j=0\n",
    "for i in range(X_train.shape[0]):    \n",
    "    X_train_warp_right.append(sk_transform.warp(X_train[i], tform))"
   ]
  },
  {
   "cell_type": "code",
   "execution_count": 22,
   "metadata": {},
   "outputs": [],
   "source": [
    "X_train_warp_up = np.array(X_train_warp_up)\n",
    "X_train_warp_right = np.array(X_train_warp_right)\n",
    "X_train_warp_left = np.array(X_train_warp_left)\n",
    "X_train_warp_down = np.array(X_train_warp_down)"
   ]
  },
  {
   "cell_type": "code",
   "execution_count": 23,
   "metadata": {},
   "outputs": [
    {
     "data": {
      "text/plain": [
       "<matplotlib.image.AxesImage at 0x21f5fb46320>"
      ]
     },
     "execution_count": 23,
     "metadata": {},
     "output_type": "execute_result"
    },
    {
     "data": {
      "image/png": "[encoded data removed]",
      "text/plain": [
       "<Figure size 432x288 with 1 Axes>"
      ]
     },
     "metadata": {
      "needs_background": "light"
     },
     "output_type": "display_data"
    }
   ],
   "source": [
    "plt.imshow(X_train_warp_right[24].reshape(32,32), cmap = \"gray\")"
   ]
  },
  {
   "cell_type": "code",
   "execution_count": 24,
   "metadata": {},
   "outputs": [],
   "source": [
    "X_train = X_train.reshape(train_dim,1024)\n",
    "X_train_warp_right = X_train_warp_right.reshape(train_dim,1024)\n",
    "X_train_warp_left = X_train_warp_left.reshape(train_dim,1024)\n",
    "X_train_warp_up = X_train_warp_up.reshape(train_dim,1024)\n",
    "X_train_warp_down = X_train_warp_down.reshape(train_dim,1024)\n",
    "X_test = X_test.reshape(test_dim,1024)\n",
    "X_val = X_val.reshape(val_dim,1024)\n",
    "X_train = (X_train - np.mean(X_train))/(np.std(X_train)+0.0000001)\n",
    "X_test = (X_test - np.mean(X_test))/(np.std(X_test)+0.0000001)\n",
    "X_val = (X_val - np.mean(X_val))/(np.std(X_val)+0.0000001)"
   ]
  },
  {
   "cell_type": "code",
   "execution_count": 30,
   "metadata": {},
   "outputs": [
    {
     "name": "stdout",
     "output_type": "stream",
     "text": [
      "validation loss 1.1696257330151756  Validation Accuracy  0.61625\n",
      "validation loss 1.0349163189923192  Validation Accuracy  0.6788690476190476\n",
      "validation loss 0.962369355681732  Validation Accuracy  0.7152678571428571\n",
      "validation loss 0.9012315607991398  Validation Accuracy  0.7295833333333334\n",
      "validation loss 0.8762709298747081  Validation Accuracy  0.7429464285714286\n",
      "validation loss 0.8263990063302143  Validation Accuracy  0.7582440476190476\n",
      "validation loss 0.8220505364896661  Validation Accuracy  0.7626785714285714\n",
      "validation loss 0.7982625578230851  Validation Accuracy  0.773125\n",
      "validation loss 0.7945331781076649  Validation Accuracy  0.7767857142857143\n",
      "validation loss 0.7668182086118847  Validation Accuracy  0.7861309523809524\n",
      "validation loss 0.7510635876933484  Validation Accuracy  0.794047619047619\n",
      "validation loss 0.7382926888104973  Validation Accuracy  0.7974702380952381\n",
      "validation loss 0.7332663834852882  Validation Accuracy  0.8033928571428571\n",
      "validation loss 0.7358392177126014  Validation Accuracy  0.8041964285714286\n",
      "validation loss 0.729419613873689  Validation Accuracy  0.8066666666666666\n",
      "validation loss 0.7123898580954153  Validation Accuracy  0.8127380952380953\n",
      "validation loss 0.7121150418997917  Validation Accuracy  0.813422619047619\n",
      "validation loss 0.7147825161880668  Validation Accuracy  0.8132440476190477\n",
      "validation loss 0.7218346925496952  Validation Accuracy  0.8082738095238096\n",
      "validation loss 0.7310813940905565  Validation Accuracy  0.8059226190476191\n",
      "validation loss 0.620254683721287  Validation Accuracy  0.8272321428571429\n",
      "validation loss 0.6397434832490348  Validation Accuracy  0.8276488095238095\n",
      "validation loss 0.638562898281747  Validation Accuracy  0.8290773809523809\n",
      "validation loss 0.644607111894917  Validation Accuracy  0.8302083333333333\n",
      "validation loss 0.6371086623520191  Validation Accuracy  0.8308035714285714\n",
      "validation loss 0.639257822307214  Validation Accuracy  0.8321726190476191\n",
      "validation loss 0.6353142871153852  Validation Accuracy  0.8354166666666667\n",
      "validation loss 0.6320249442884851  Validation Accuracy  0.8373214285714285\n",
      "validation loss 0.6396130589428292  Validation Accuracy  0.8361309523809524\n",
      "validation loss 0.6268904870012812  Validation Accuracy  0.8397023809523809\n",
      "validation loss 0.637909387919719  Validation Accuracy  0.8399107142857143\n",
      "validation loss 0.6476782920140084  Validation Accuracy  0.8390178571428571\n",
      "validation loss 0.6560457243760477  Validation Accuracy  0.8394345238095238\n",
      "validation loss 0.6590343748833546  Validation Accuracy  0.839047619047619\n",
      "validation loss 0.6637983992346186  Validation Accuracy  0.8400595238095238\n",
      "validation loss 0.6592441533072319  Validation Accuracy  0.84375\n",
      "validation loss 0.6747817659154542  Validation Accuracy  0.8369047619047619\n",
      "validation loss 0.6676504477025789  Validation Accuracy  0.8394047619047619\n",
      "validation loss 0.6623992173174396  Validation Accuracy  0.8425297619047619\n",
      "validation loss 0.6722384028685366  Validation Accuracy  0.8434226190476191\n",
      "validation loss 0.7837923243582676  Validation Accuracy  0.5791071428571428\n",
      "validation loss 0.7266925746432252  Validation Accuracy  0.6316964285714286\n",
      "validation loss 0.6896431992159854  Validation Accuracy  0.6598214285714286\n",
      "validation loss 0.662283220852468  Validation Accuracy  0.7266369047619048\n",
      "validation loss 0.6526228197824417  Validation Accuracy  0.7041369047619047\n",
      "validation loss 0.6422385778708881  Validation Accuracy  0.748125\n",
      "validation loss 0.6348553521202353  Validation Accuracy  0.7314880952380952\n",
      "validation loss 0.6289430533437105  Validation Accuracy  0.7535416666666667\n",
      "validation loss 0.6266681898612411  Validation Accuracy  0.7576488095238095\n",
      "validation loss 0.6265960868305236  Validation Accuracy  0.7605059523809524\n",
      "validation loss 0.6202255708045196  Validation Accuracy  0.7869047619047619\n",
      "validation loss 0.6201537589770929  Validation Accuracy  0.7849404761904762\n",
      "validation loss 0.6192871286132869  Validation Accuracy  0.7974107142857143\n",
      "validation loss 0.6211107759171297  Validation Accuracy  0.8000297619047619\n",
      "validation loss 0.6210721796666371  Validation Accuracy  0.803422619047619\n",
      "validation loss 0.6166868863604547  Validation Accuracy  0.7945535714285714\n",
      "validation loss 0.6160789814861809  Validation Accuracy  0.7938392857142857\n",
      "validation loss 0.6139931048602583  Validation Accuracy  0.7894642857142857\n",
      "validation loss 0.611386713153112  Validation Accuracy  0.787797619047619\n",
      "validation loss 0.612459201344169  Validation Accuracy  0.7944642857142857\n",
      "validation loss 1.319935142657346  Validation Accuracy  0.2225892857142857\n",
      "validation loss 0.9916504540946979  Validation Accuracy  0.47345238095238096\n",
      "validation loss 0.8708845701152458  Validation Accuracy  0.6607440476190476\n",
      "validation loss 0.8148494379332335  Validation Accuracy  0.702827380952381\n",
      "validation loss 0.7755831891179759  Validation Accuracy  0.7336607142857143\n",
      "validation loss 0.7508435464914205  Validation Accuracy  0.7448511904761905\n",
      "validation loss 0.7322671851009096  Validation Accuracy  0.7460119047619047\n",
      "validation loss 0.7226329063471566  Validation Accuracy  0.7429761904761905\n",
      "validation loss 0.7097963191569481  Validation Accuracy  0.7421130952380952\n",
      "validation loss 0.6987448424954816  Validation Accuracy  0.7524107142857143\n",
      "validation loss 0.6850524383098147  Validation Accuracy  0.7633928571428571\n",
      "validation loss 0.6731389798129123  Validation Accuracy  0.7768154761904762\n",
      "validation loss 0.6680152496646048  Validation Accuracy  0.777797619047619\n",
      "validation loss 0.6664794387243144  Validation Accuracy  0.7786011904761905\n",
      "validation loss 0.6631116845692712  Validation Accuracy  0.7794345238095238\n",
      "validation loss 0.6509386602657975  Validation Accuracy  0.7875892857142858\n",
      "validation loss 0.6463677626640509  Validation Accuracy  0.7896130952380952\n",
      "validation loss 0.640598147731417  Validation Accuracy  0.7933928571428571\n",
      "validation loss 0.6371353112044698  Validation Accuracy  0.8014583333333334\n",
      "validation loss 0.6375297888555813  Validation Accuracy  0.8000297619047619\n",
      "validation loss 0.866754351260015  Validation Accuracy  0.6301488095238095\n",
      "validation loss 0.7925380195913255  Validation Accuracy  0.6743154761904762\n",
      "validation loss 0.7614523067133765  Validation Accuracy  0.6763988095238095\n",
      "validation loss 0.7355448434927271  Validation Accuracy  0.7004166666666667\n",
      "validation loss 0.7135757034486366  Validation Accuracy  0.7175595238095238\n",
      "validation loss 0.7018966702081677  Validation Accuracy  0.7329166666666667\n",
      "validation loss 0.6884965892101976  Validation Accuracy  0.7357142857142858\n",
      "validation loss 0.6758898684826632  Validation Accuracy  0.7447321428571428\n",
      "validation loss 0.6675946449792793  Validation Accuracy  0.7521130952380952\n",
      "validation loss 0.6602648769245613  Validation Accuracy  0.7544642857142857\n",
      "validation loss 0.6552432380077795  Validation Accuracy  0.7624702380952381\n",
      "validation loss 0.6506363046396136  Validation Accuracy  0.7569642857142858\n",
      "validation loss 0.6426479483996567  Validation Accuracy  0.7594940476190476\n",
      "validation loss 0.6386993295312485  Validation Accuracy  0.7597619047619047\n",
      "validation loss 0.6345436724049145  Validation Accuracy  0.760297619047619\n",
      "validation loss 0.6306717007553325  Validation Accuracy  0.7565773809523809\n",
      "validation loss 0.6290734099469246  Validation Accuracy  0.7633630952380952\n",
      "validation loss 0.6273556059621814  Validation Accuracy  0.7670833333333333\n",
      "validation loss 0.6249209857036444  Validation Accuracy  0.7716071428571428\n",
      "validation loss 0.6223631058225638  Validation Accuracy  0.7702083333333334\n",
      "validation loss 0.8668209437536109  Validation Accuracy  0.6400595238095238\n",
      "validation loss 0.7786123205733161  Validation Accuracy  0.7126190476190476\n",
      "validation loss 0.7358995577155484  Validation Accuracy  0.7309821428571428\n",
      "validation loss 0.70933180750574  Validation Accuracy  0.7316071428571429\n",
      "validation loss 0.6843865874828198  Validation Accuracy  0.7448214285714285\n",
      "validation loss 0.6724874126510977  Validation Accuracy  0.7485714285714286\n",
      "validation loss 0.66271751483168  Validation Accuracy  0.7613690476190477\n",
      "validation loss 0.6517110835729659  Validation Accuracy  0.7680357142857143\n",
      "validation loss 0.6460839007619715  Validation Accuracy  0.7795238095238095\n"
     ]
    },
    {
     "name": "stdout",
     "output_type": "stream",
     "text": [
      "validation loss 0.6419801581132011  Validation Accuracy  0.7858333333333334\n",
      "validation loss 0.6383850849264218  Validation Accuracy  0.7840178571428571\n",
      "validation loss 0.6358832894270058  Validation Accuracy  0.7882440476190476\n",
      "validation loss 0.633541597169427  Validation Accuracy  0.7878869047619048\n",
      "validation loss 0.6304171603475456  Validation Accuracy  0.7885416666666667\n",
      "validation loss 0.6274566120890992  Validation Accuracy  0.7914583333333334\n",
      "validation loss 0.6277502852978881  Validation Accuracy  0.7912797619047619\n",
      "validation loss 0.6268288073442206  Validation Accuracy  0.793422619047619\n",
      "validation loss 0.6264907299690774  Validation Accuracy  0.7918452380952381\n",
      "validation loss 0.6254873452079065  Validation Accuracy  0.7916369047619047\n",
      "validation loss 0.6254471175646756  Validation Accuracy  0.7885119047619048\n"
     ]
    }
   ],
   "source": [
    "input_dim = X_train.shape[1]\n",
    "\n",
    "iterations = 10\n",
    "learning_rate = 0.1\n",
    "hidden_nodes = 48\n",
    "output_nodes = 10\n",
    "\n",
    "nn = NN()\n",
    "nn.add_layer(Linear(input_dim, hidden_nodes))\n",
    "nn.add_layer(Normalize())\n",
    "nn.add_layer(ReLU())\n",
    "nn.add_layer(Normalize())\n",
    "nn.add_layer(Linear(hidden_nodes, output_nodes))\n",
    "\n",
    "random_value = np.random.randint(100)*0.01\n",
    "nn = train(nn, X_train, y_train, minibatch_size=600, epoch = 20, learning_rate= learning_rate, X_val = X_val, y_val = y_val)\n",
    "nn = train(nn, X_train+random_value, y_train, minibatch_size=600, epoch = 20, learning_rate= learning_rate, X_val = X_val, y_val = y_val)\n",
    "nn = train(nn, X_train_warp_right, y_train, minibatch_size=600, epoch = 20, learning_rate= learning_rate, X_val = X_val, y_val = y_val)\n",
    "nn = train(nn, X_train_warp_up, y_train, minibatch_size=600, epoch = 20, learning_rate= learning_rate, X_val = X_val, y_val = y_val)\n",
    "nn = train(nn, X_train_warp_left, y_train, minibatch_size=600, epoch = 20, learning_rate= learning_rate, X_val = X_val, y_val = y_val)\n",
    "nn = train(nn, X_train_warp_down, y_train, minibatch_size=600, epoch = 20, learning_rate= learning_rate, X_val = X_val, y_val = y_val)"
   ]
  },
  {
   "cell_type": "code",
   "execution_count": 31,
   "metadata": {},
   "outputs": [],
   "source": [
    "y_pred = nn.predict(X_test)"
   ]
  },
  {
   "cell_type": "code",
   "execution_count": 32,
   "metadata": {},
   "outputs": [
    {
     "name": "stdout",
     "output_type": "stream",
     "text": [
      "              precision    recall  f1-score   support\n",
      "\n",
      "           0       0.82      0.72      0.77      1814\n",
      "           1       0.75      0.76      0.76      1828\n",
      "           2       0.72      0.81      0.76      1803\n",
      "           3       0.57      0.73      0.64      1719\n",
      "           4       0.81      0.80      0.80      1812\n",
      "           5       0.78      0.75      0.76      1768\n",
      "           6       0.79      0.67      0.73      1832\n",
      "           7       0.89      0.77      0.83      1808\n",
      "           8       0.72      0.72      0.72      1812\n",
      "           9       0.71      0.75      0.73      1804\n",
      "\n",
      "    accuracy                           0.75     18000\n",
      "   macro avg       0.76      0.75      0.75     18000\n",
      "weighted avg       0.76      0.75      0.75     18000\n",
      "\n"
     ]
    }
   ],
   "source": [
    "print(classification_report(y_test, y_pred))"
   ]
  },
  {
   "cell_type": "code",
   "execution_count": 1,
   "metadata": {},
   "outputs": [
    {
     "ename": "NameError",
     "evalue": "name 'tensorflow' is not defined",
     "output_type": "error",
     "traceback": [
      "\u001b[1;31m---------------------------------------------------------------------------\u001b[0m",
      "\u001b[1;31mNameError\u001b[0m                                 Traceback (most recent call last)",
      "\u001b[1;32m<ipython-input-1-3ae37383d41e>\u001b[0m in \u001b[0;36m<module>\u001b[1;34m\u001b[0m\n\u001b[1;32m----> 1\u001b[1;33m \u001b[0my_train1\u001b[0m \u001b[1;33m=\u001b[0m \u001b[0mtensorflow\u001b[0m\u001b[1;33m.\u001b[0m\u001b[0mkeras\u001b[0m\u001b[1;33m.\u001b[0m\u001b[0mutils\u001b[0m\u001b[1;33m.\u001b[0m\u001b[0mto_categorically\u001b[0m\u001b[1;33m(\u001b[0m\u001b[0my_train\u001b[0m\u001b[1;33m,\u001b[0m \u001b[0mnum_classes\u001b[0m \u001b[1;33m=\u001b[0m \u001b[1;36m10\u001b[0m\u001b[1;33m)\u001b[0m\u001b[1;33m\u001b[0m\u001b[1;33m\u001b[0m\u001b[0m\n\u001b[0m\u001b[0;32m      2\u001b[0m \u001b[0my_test1\u001b[0m \u001b[1;33m=\u001b[0m \u001b[0mtensorflow\u001b[0m\u001b[1;33m.\u001b[0m\u001b[0mkeras\u001b[0m\u001b[1;33m.\u001b[0m\u001b[0mutils\u001b[0m\u001b[1;33m.\u001b[0m\u001b[0mto_categorically\u001b[0m\u001b[1;33m(\u001b[0m\u001b[0my_test\u001b[0m\u001b[1;33m,\u001b[0m \u001b[0mnum_classes\u001b[0m \u001b[1;33m=\u001b[0m \u001b[1;36m10\u001b[0m\u001b[1;33m)\u001b[0m\u001b[1;33m\u001b[0m\u001b[1;33m\u001b[0m\u001b[0m\n\u001b[0;32m      3\u001b[0m \u001b[0my_val1\u001b[0m \u001b[1;33m=\u001b[0m \u001b[0mtensorflow\u001b[0m\u001b[1;33m.\u001b[0m\u001b[0mkeras\u001b[0m\u001b[1;33m.\u001b[0m\u001b[0mutils\u001b[0m\u001b[1;33m.\u001b[0m\u001b[0mto_categorically\u001b[0m\u001b[1;33m(\u001b[0m\u001b[0my_val\u001b[0m\u001b[1;33m,\u001b[0m \u001b[0mnum_classes\u001b[0m \u001b[1;33m=\u001b[0m \u001b[1;36m10\u001b[0m\u001b[1;33m)\u001b[0m\u001b[1;33m\u001b[0m\u001b[1;33m\u001b[0m\u001b[0m\n",
      "\u001b[1;31mNameError\u001b[0m: name 'tensorflow' is not defined"
     ]
    }
   ],
   "source": [
    "y_train1 = tensorflow.keras.utils.to_categorically(y_train, num_classes = 10)\n",
    "y_test1 = tensorflow.keras.utils.to_categorically(y_test, num_classes = 10)\n",
    "y_val1 = tensorflow.keras.utils.to_categorically(y_val, num_classes = 10)"
   ]
  },
  {
   "cell_type": "code",
   "execution_count": null,
   "metadata": {},
   "outputs": [],
   "source": []
  }
 ],
 "metadata": {
  "kernelspec": {
   "display_name": "Python 3",
   "language": "python",
   "name": "python3"
  },
  "language_info": {
   "codemirror_mode": {
    "name": "ipython",
    "version": 3
   },
   "file_extension": ".py",
   "mimetype": "text/x-python",
   "name": "python",
   "nbconvert_exporter": "python",
   "pygments_lexer": "ipython3",
   "version": "3.7.3"
  }
 },
 "nbformat": 4,
 "nbformat_minor": 4
}
