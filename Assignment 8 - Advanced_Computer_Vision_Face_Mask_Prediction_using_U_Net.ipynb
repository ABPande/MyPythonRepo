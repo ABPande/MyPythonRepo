{
 "cells": [
  {
   "cell_type": "markdown",
   "metadata": {
    "colab_type": "text",
    "id": "vbFHa0oO8ohV"
   },
   "source": [
    "# **Assignment 8 - Computer Vision**"
   ]
  },
  {
   "cell_type": "markdown",
   "metadata": {
    "colab_type": "text",
    "id": "q24VEuL2PbvT"
   },
   "source": [
    "![alt text](https://drive.google.com/uc?export=view&id=1UXScsVx_Wni_JuDdB8LeTnM6jsPfIwkW)\n",
    "\n",
    "Proprietary content. © Great Learning. All Rights Reserved. Unauthorized use or distribution prohibited."
   ]
  },
  {
   "cell_type": "markdown",
   "metadata": {
    "colab_type": "text",
    "id": "NgR0j5310qqC"
   },
   "source": [
    "## **Face Mask Prediction using U-Net**\n",
    "Task is to predict the mask around the face in a given image."
   ]
  },
  {
   "cell_type": "markdown",
   "metadata": {
    "colab_type": "text",
    "id": "Aju9bfgs_O8z"
   },
   "source": [
    "# **Code**"
   ]
  },
  {
   "cell_type": "markdown",
   "metadata": {
    "colab_type": "text",
    "id": "e_hmG4CD9ddo"
   },
   "source": [
    "### Making Imports here"
   ]
  },
  {
   "cell_type": "code",
   "execution_count": 1,
   "metadata": {
    "colab": {},
    "colab_type": "code",
    "id": "NOuUCIcZ853u"
   },
   "outputs": [],
   "source": [
    "import tensorflow as tf\n",
    "import numpy as np\n",
    "import matplotlib.pyplot as plt\n",
    "import matplotlib.patches as patches\n",
    "import csv\n",
    "import cv2\n",
    "from PIL import Image\n",
    "from tensorflow.keras.models import Sequential, Model\n",
    "from tensorflow.keras.layers import Dense, Flatten, Conv2D, MaxPool2D, UpSampling2D, Concatenate, Reshape, ZeroPadding2D\n",
    "from tensorflow.keras.utils import to_categorical \n",
    "from tensorflow.keras.applications.mobilenet import MobileNet\n",
    "from tensorflow.keras.applications.mobilenet import preprocess_input\n",
    "from tensorflow.keras.optimizers import Adam\n",
    "from tensorflow.keras.losses import binary_crossentropy\n",
    "from tensorflow.keras.callbacks import ModelCheckpoint, EarlyStopping, ReduceLROnPlateau\n",
    "%matplotlib inline\n",
    "import warnings\n",
    "warnings.filterwarnings(\"ignore\")\n",
    "import random \n",
    "random.seed(0)"
   ]
  },
  {
   "cell_type": "markdown",
   "metadata": {
    "colab_type": "text",
    "id": "CjRTlPkp1LC2"
   },
   "source": [
    "### Mount Google drive if you are using google colab\n",
    "- Mounted my own Gdrive and hosted the different datasets and models there as shortcuts (based on existing links shared)\n",
    "\n"
   ]
  },
  {
   "cell_type": "code",
   "execution_count": 2,
   "metadata": {
    "colab": {
     "base_uri": "https://localhost:8080/",
     "height": 54
    },
    "colab_type": "code",
    "id": "sBWMoTJ9cf3Z",
    "outputId": "086b3a40-c797-4668-fce9-e1ccbfe2828f"
   },
   "outputs": [
    {
     "name": "stdout",
     "output_type": "stream",
     "text": [
      "Drive already mounted at /content/drive/; to attempt to forcibly remount, call drive.mount(\"/content/drive/\", force_remount=True).\n"
     ]
    }
   ],
   "source": [
    "#### mounting google drive ####\n",
    "from google.colab import drive\n",
    "drive.mount(\"/content/drive/\")\n",
    "folder_path = (\"/content/drive/My Drive/Data/\")  ##this path is specific to my drive; you will need to configure yours"
   ]
  },
  {
   "cell_type": "markdown",
   "metadata": {
    "colab_type": "text",
    "id": "3srplE-FEpKa"
   },
   "source": [
    "### Load the \"images.npy\" file (2 marks)\n",
    "1. Faces in images marked with bounding boxes. Have around 409 images with around 1000 faces manually tagged via bounding box.\n",
    "2. Data file name: images.npy\n",
    "3. Filepath to images.npy"
   ]
  },
  {
   "cell_type": "code",
   "execution_count": 3,
   "metadata": {
    "colab": {},
    "colab_type": "code",
    "id": "MqFE_tZDf0sM"
   },
   "outputs": [],
   "source": [
    "imagesdata = np.load(folder_path + \"images.npy\",allow_pickle=True)"
   ]
  },
  {
   "cell_type": "markdown",
   "metadata": {
    "colab_type": "text",
    "id": "_SMP8zliFT7R"
   },
   "source": [
    "### Check one sample from the loaded \"images.npy\" file  (2 marks)\n",
    "- Showing the images, the data and the shape of the structures"
   ]
  },
  {
   "cell_type": "code",
   "execution_count": 4,
   "metadata": {
    "colab": {
     "base_uri": "https://localhost:8080/",
     "height": 921
    },
    "colab_type": "code",
    "id": "NoqNvPK-iXqG",
    "outputId": "d211f76d-0736-4ce2-fe7a-aa3cde887e39"
   },
   "outputs": [
    {
     "name": "stdout",
     "output_type": "stream",
     "text": [
      "(409, 2)\n",
      "[[[207 216 227 255]\n",
      "  [206 216 227 255]\n",
      "  [207 216 227 255]\n",
      "  ...\n",
      "  [ 35  33  34 255]\n",
      "  [ 35  33  34 255]\n",
      "  [ 35  33  34 255]]\n",
      "\n",
      " [[207 216 227 255]\n",
      "  [207 216 227 255]\n",
      "  [207 216 227 255]\n",
      "  ...\n",
      "  [ 35  32  33 255]\n",
      "  [ 35  33  34 255]\n",
      "  [ 35  33  34 255]]\n",
      "\n",
      " [[207 216 227 255]\n",
      "  [207 216 227 255]\n",
      "  [207 215 227 255]\n",
      "  ...\n",
      "  [ 35  33  33 255]\n",
      "  [ 35  33  34 255]\n",
      "  [ 35  33  34 255]]\n",
      "\n",
      " ...\n",
      "\n",
      " [[ 31  21  17 255]\n",
      "  [ 31  22  18 255]\n",
      "  [ 31  22  18 255]\n",
      "  ...\n",
      "  [  0   1   4 255]\n",
      "  [  0   1   4 255]\n",
      "  [  0   1   4 255]]\n",
      "\n",
      " [[ 31  22  18 255]\n",
      "  [ 31  22  18 255]\n",
      "  [ 31  22  18 255]\n",
      "  ...\n",
      "  [  0   1   4 255]\n",
      "  [  0   1   4 255]\n",
      "  [  0   1   4 255]]\n",
      "\n",
      " [[ 31  22  18 255]\n",
      "  [ 30  22  17 255]\n",
      "  [ 31  22  18 255]\n",
      "  ...\n",
      "  [  0   1   4 255]\n",
      "  [  0   1   4 255]\n",
      "  [  0   1   4 255]]]\n",
      "[{'label': ['Face'], 'notes': '', 'points': [{'x': 0.7053087757313109, 'y': 0.23260437375745527}, {'x': 0.7692307692307693, 'y': 0.36182902584493043}], 'imageWidth': 1280, 'imageHeight': 697}]\n",
      "(697, 1280, 4)\n"
     ]
    }
   ],
   "source": [
    "print(imagesdata.shape)\n",
    "print(imagesdata[1][0])\n",
    "print(imagesdata[1][1])\n",
    "print(imagesdata[1][0].shape)"
   ]
  },
  {
   "cell_type": "markdown",
   "metadata": {
    "colab_type": "text",
    "id": "-1x7Qj4rPRf-"
   },
   "source": [
    "#### Showing the image and the bounded boxes"
   ]
  },
  {
   "cell_type": "code",
   "execution_count": 5,
   "metadata": {
    "colab": {
     "base_uri": "https://localhost:8080/",
     "height": 234
    },
    "colab_type": "code",
    "id": "_tOTlCsYB21j",
    "outputId": "ff1ee0e2-6008-41b8-839f-a07d2e525352"
   },
   "outputs": [
    {
     "data": {
      "image/png": "[encoded data removed]",
      "text/plain": [
       "<Figure size 432x288 with 1 Axes>"
      ]
     },
     "metadata": {
      "needs_background": "light",
      "tags": []
     },
     "output_type": "display_data"
    }
   ],
   "source": [
    "fig, ax = plt.subplots(1) \n",
    "ax.imshow(imagesdata[1][0])\n",
    "x0 = imagesdata[1][1][0][\"points\"][0][\"x\"] * imagesdata[1][1][0][\"imageWidth\"]\n",
    "y0 = imagesdata[1][1][0][\"points\"][0][\"y\"] * imagesdata[1][1][0][\"imageHeight\"]\n",
    "x1 = imagesdata[1][1][0][\"points\"][1][\"x\"] * imagesdata[1][1][0][\"imageWidth\"]\n",
    "y1 = imagesdata[1][1][0][\"points\"][1][\"y\"] * imagesdata[1][1][0][\"imageHeight\"]\n",
    "rect = patches.Rectangle((x0 ,y0), x1 - x0, y1 - y0, linewidth = 2, edgecolor = \"r\", facecolor = \"none\")\n",
    "ax.add_patch(rect)\n",
    "plt.show()"
   ]
  },
  {
   "cell_type": "markdown",
   "metadata": {
    "colab_type": "text",
    "id": "m94G4p3CE5Cj"
   },
   "source": [
    "### Set image dimensions   (1 mark)\n",
    "- Initialize image height, image width with value: 224 \n",
    "- Unlike our training lectures, the output here is in 224*224 format, so we are setting everything to 224"
   ]
  },
  {
   "cell_type": "code",
   "execution_count": 6,
   "metadata": {
    "colab": {},
    "colab_type": "code",
    "id": "kuZmtOASevDo"
   },
   "outputs": [],
   "source": [
    "ALPHA = 1.0\n",
    "IMAGE_WIDTH = 224\n",
    "IMAGE_HEIGHT = 224\n",
    "IMAGE_SIZE = 224\n",
    "\n",
    "HEIGHT_CELLS = 224\n",
    "WIDTH_CELLS = 224"
   ]
  },
  {
   "cell_type": "markdown",
   "metadata": {
    "colab_type": "text",
    "id": "wY6FEsCjG47s"
   },
   "source": [
    "### Create features and labels (PREWRITTEN CODE)\n",
    "- Here feature is the image\n",
    "- The label is the mask\n",
    "- Images will be stored in \"X\" array\n",
    "- Masks will be stored in \"masks\" array"
   ]
  },
  {
   "cell_type": "code",
   "execution_count": 7,
   "metadata": {
    "colab": {},
    "colab_type": "code",
    "id": "XjCT9EVTgAvr"
   },
   "outputs": [],
   "source": [
    "##commented imports as they are already done\n",
    "##import cv2\n",
    "##from tensorflow.keras.applications.mobilenet import preprocess_input\n",
    "\n",
    "## creating a mask of the size 224, 224. initially values are set to 0 for all pixels\n",
    "masks = np.zeros((int(imagesdata.shape[0]), IMAGE_HEIGHT, IMAGE_WIDTH))\n",
    "## Initializing array for storing X(images) \n",
    "x = np.zeros((int(imagesdata.shape[0]), IMAGE_HEIGHT, IMAGE_WIDTH, 3))\n",
    "for index in range(imagesdata.shape[0]):\n",
    "    img = imagesdata[index][0]\n",
    "    ## resizing the image\n",
    "    img = cv2.resize(img, dsize=(IMAGE_HEIGHT, IMAGE_WIDTH), interpolation=cv2.INTER_CUBIC)\n",
    "    try:\n",
    "      img = img[:, :, :3]\n",
    "    except:\n",
    "      continue\n",
    "    ## storing the images here\n",
    "    x[index] = preprocess_input(np.array(img, dtype=np.float32))\n",
    "    for i in imagesdata[index][1]:\n",
    "        x1 = int(i[\"points\"][0]['x'] * IMAGE_WIDTH)\n",
    "        x2 = int(i[\"points\"][1]['x'] * IMAGE_WIDTH)\n",
    "        y1 = int(i[\"points\"][0]['y'] * IMAGE_HEIGHT)\n",
    "        y2 = int(i[\"points\"][1]['y'] * IMAGE_HEIGHT)\n",
    "        ## setting the slice which is boxed by the points as all ones. This is the area that will be be unaffected\n",
    "        masks[index][y1:y2, x1:x2] = 1"
   ]
  },
  {
   "cell_type": "markdown",
   "metadata": {
    "colab_type": "text",
    "id": "N3AYbP79bFtJ"
   },
   "source": [
    "### Split the data into training and testing (2 marks)\n",
    "- 400 images in training ( We further split this into train and val)\n",
    "- 9 images in testing data"
   ]
  },
  {
   "cell_type": "markdown",
   "metadata": {
    "colab_type": "text",
    "id": "-Uc0NmqXQtPK"
   },
   "source": [
    "Creating the Training and Testing data\n",
    "\n",
    "  We shuffle the indices and then use them to create data. \n",
    "  There are 3 sets of data created. Train, Val and Test"
   ]
  },
  {
   "cell_type": "code",
   "execution_count": 8,
   "metadata": {
    "colab": {
     "base_uri": "https://localhost:8080/",
     "height": 119
    },
    "colab_type": "code",
    "id": "uK2Q5OdpNX4R",
    "outputId": "4fa8494d-879d-4a97-c715-63e259c228c7"
   },
   "outputs": [
    {
     "name": "stdout",
     "output_type": "stream",
     "text": [
      "(380, 224, 224, 3)\n",
      "(20, 224, 224, 3)\n",
      "(9, 224, 224, 3)\n",
      "(380, 224, 224)\n",
      "(20, 224, 224)\n",
      "(9, 224, 224)\n"
     ]
    }
   ],
   "source": [
    "indices = np.random.permutation(imagesdata.shape[0]) ##creating a random permutation of the array indices\n",
    "train_idx, val_idx, test_idx = indices[:380], indices[380:400], indices[400:] #breaking up the indices generated\n",
    "x_train, x_val, x_test = x[train_idx,:], x[val_idx,:], x[test_idx,:] #using indices to create train and test sets\n",
    "print (x_train.shape)\n",
    "print (x_val.shape)\n",
    "print (x_test.shape)\n",
    "y_train, y_val, y_test = masks[train_idx,:], masks[val_idx,:], masks[test_idx,:]\n",
    "print (y_train.shape)\n",
    "print (y_val.shape)\n",
    "print (y_test.shape)"
   ]
  },
  {
   "cell_type": "markdown",
   "metadata": {
    "colab_type": "text",
    "id": "R4wgkWq1bk5F"
   },
   "source": [
    "### Print a sample training image, image array and its mask (2 marks)"
   ]
  },
  {
   "cell_type": "markdown",
   "metadata": {
    "colab_type": "text",
    "id": "nDUphPWTh1JH"
   },
   "source": [
    "Sample training image"
   ]
  },
  {
   "cell_type": "code",
   "execution_count": 9,
   "metadata": {
    "colab": {
     "base_uri": "https://localhost:8080/",
     "height": 286
    },
    "colab_type": "code",
    "id": "QWFJ-0BUSYVS",
    "outputId": "b92b8a23-97b1-4f2b-e9d9-e1c7ab8c6ec8"
   },
   "outputs": [
    {
     "name": "stderr",
     "output_type": "stream",
     "text": [
      "Clipping input data to the valid range for imshow with RGB data ([0..1] for floats or [0..255] for integers).\n"
     ]
    },
    {
     "data": {
      "image/png": "[encoded data removed]",
      "text/plain": [
       "<Figure size 432x288 with 1 Axes>"
      ]
     },
     "metadata": {
      "needs_background": "light",
      "tags": []
     },
     "output_type": "display_data"
    }
   ],
   "source": [
    "fig, ax = plt.subplots(1) \n",
    "ax.imshow(x_train[1])\n",
    "plt.show()"
   ]
  },
  {
   "cell_type": "markdown",
   "metadata": {
    "colab_type": "text",
    "id": "XNJ6gUAaiIDd"
   },
   "source": [
    "Print the image array"
   ]
  },
  {
   "cell_type": "code",
   "execution_count": 10,
   "metadata": {
    "colab": {
     "base_uri": "https://localhost:8080/",
     "height": 850
    },
    "colab_type": "code",
    "id": "huwkN2tTiFKl",
    "outputId": "45018c65-480b-4f97-b41f-e4b75ebe8cb2"
   },
   "outputs": [
    {
     "name": "stdout",
     "output_type": "stream",
     "text": [
      "[[[-0.83529413 -0.83529413 -0.81960785]\n",
      "  [-0.83529413 -0.83529413 -0.81960785]\n",
      "  [-0.83529413 -0.83529413 -0.81960785]\n",
      "  ...\n",
      "  [-0.19999999 -0.4588235  -0.58431375]\n",
      "  [-0.20784312 -0.43529409 -0.54509807]\n",
      "  [-0.19215685 -0.41960782 -0.52941179]]\n",
      "\n",
      " [[-0.84313726 -0.84313726 -0.82745099]\n",
      "  [-0.84313726 -0.84313726 -0.82745099]\n",
      "  [-0.84313726 -0.84313726 -0.82745099]\n",
      "  ...\n",
      "  [-0.17647058 -0.44313723 -0.5529412 ]\n",
      "  [-0.1607843  -0.38823527 -0.49803919]\n",
      "  [-0.14509803 -0.372549   -0.48235291]]\n",
      "\n",
      " [[-0.8509804  -0.8509804  -0.83529413]\n",
      "  [-0.8509804  -0.8509804  -0.83529413]\n",
      "  [-0.8509804  -0.8509804  -0.83529413]\n",
      "  ...\n",
      "  [-0.1607843  -0.41176468 -0.51372552]\n",
      "  [-0.12941176 -0.35686272 -0.46666664]\n",
      "  [-0.11372548 -0.34117645 -0.45098037]]\n",
      "\n",
      " ...\n",
      "\n",
      " [[-0.4588235  -0.75686276 -0.85882354]\n",
      "  [-0.40392154 -0.7019608  -0.80392158]\n",
      "  [-0.45098037 -0.75686276 -0.85882354]\n",
      "  ...\n",
      "  [-1.         -1.         -1.        ]\n",
      "  [-1.         -1.         -1.        ]\n",
      "  [-1.         -1.         -1.        ]]\n",
      "\n",
      " [[-0.44313723 -0.74117649 -0.84313726]\n",
      "  [-0.53725493 -0.83529413 -0.93725491]\n",
      "  [-0.45098037 -0.74901962 -0.8509804 ]\n",
      "  ...\n",
      "  [-1.         -1.         -1.        ]\n",
      "  [-1.         -1.         -1.        ]\n",
      "  [-1.         -1.         -1.        ]]\n",
      "\n",
      " [[-0.43529409 -0.73333335 -0.83529413]\n",
      "  [-0.48235291 -0.78039217 -0.88235295]\n",
      "  [-0.49019605 -0.78823531 -0.89019608]\n",
      "  ...\n",
      "  [-1.         -1.         -1.        ]\n",
      "  [-1.         -1.         -1.        ]\n",
      "  [-1.         -1.         -1.        ]]]\n"
     ]
    }
   ],
   "source": [
    "print(x_train[1])"
   ]
  },
  {
   "cell_type": "markdown",
   "metadata": {
    "colab_type": "text",
    "id": "owVnILqth57p"
   },
   "source": [
    "Printing the Mask"
   ]
  },
  {
   "cell_type": "code",
   "execution_count": 11,
   "metadata": {
    "colab": {
     "base_uri": "https://localhost:8080/",
     "height": 269
    },
    "colab_type": "code",
    "id": "XkZOImTielJf",
    "outputId": "03cd5f1d-21e4-4565-91d1-13e9c14aaa9a"
   },
   "outputs": [
    {
     "data": {
      "image/png": "[encoded data removed]",
      "text/plain": [
       "<Figure size 432x288 with 1 Axes>"
      ]
     },
     "metadata": {
      "needs_background": "light",
      "tags": []
     },
     "output_type": "display_data"
    }
   ],
   "source": [
    "fig, ax = plt.subplots(1) \n",
    "ax.imshow(y_train[1])\n",
    "plt.show()"
   ]
  },
  {
   "cell_type": "markdown",
   "metadata": {
    "colab_type": "text",
    "id": "Z0Qa1UOue9TE"
   },
   "source": [
    "## Create the model (5 marks)\n",
    "- Add MobileNet as model with below parameter values\n",
    "  - input_shape: IMAGE_HEIGHT, IMAGE_WIDTH, 3\n",
    "  - include_top: False\n",
    "  - alpha: 1.0\n",
    "  - weights: \"imagenet\"\n",
    "- Add UNET architecture layers\n",
    "  - This is the trickiest part of the project, you need to research and implement it correctly"
   ]
  },
  {
   "cell_type": "markdown",
   "metadata": {
    "colab_type": "text",
    "id": "Y9kBWV5bQc_s"
   },
   "source": [
    "#### **We want accuracy to be high, so we will concatenate the layers with the earlier mobilenet layers as well**"
   ]
  },
  {
   "cell_type": "code",
   "execution_count": 12,
   "metadata": {
    "colab": {},
    "colab_type": "code",
    "id": "BTVYOvANrUVx"
   },
   "outputs": [],
   "source": [
    "def create_model(trainable=True):\n",
    "  model = MobileNet(input_shape=(IMAGE_HEIGHT, IMAGE_WIDTH, 3), include_top=False, alpha=1.0, weights=\"imagenet\")\n",
    "\n",
    "  for layer in model.layers:\n",
    "    layer.trainable = trainable\n",
    "  ## We retain last 4 layers as trainable to increase accuracy\n",
    "  model.get_layer(\"conv_pw_10_relu\").trainable = True\n",
    "  model.get_layer(\"conv_pw_11_relu\").trainable = True\n",
    "  model.get_layer(\"conv_pw_12_relu\").trainable = True\n",
    "  model.get_layer(\"conv_pw_13_relu\").trainable = True\n",
    "  \n",
    "  ## we want multiple levels of features so we are taking concats at 112*112, 28*28, 14*14 \n",
    "  block1 = model.get_layer(\"conv_pw_1_relu\").output\n",
    "  block2 = model.get_layer(\"conv_pw_5_relu\").output\n",
    "  block3 = model.get_layer(\"conv_pw_11_relu\").output\n",
    "  block4 = model.get_layer(\"conv_pw_13_relu\").output\n",
    "  \n",
    "  x = Concatenate()([UpSampling2D()(block4), block3])\n",
    "  x = Conv2D(128, kernel_size=1, activation=\"relu\")(x)##reducing the number of filters to a manageable level\n",
    "  x = Concatenate()([UpSampling2D()(x), block2])\n",
    "  x = Conv2D(128, kernel_size=1, activation=\"relu\")(x)##reducing the number of filters to a manageable level\n",
    "  x = UpSampling2D()(x)\n",
    "  x = Concatenate()([UpSampling2D()(x), block1])\n",
    "  x = Conv2D(128, kernel_size=1, activation=\"relu\")(x)##reducing the number of filters to a manageable level\n",
    "  x = UpSampling2D()(x)\n",
    "  ## the final activation is applied to an output 224*224. This helps us be close to the actual face.\n",
    "  x = Conv2D(1, kernel_size=1, activation=\"sigmoid\")(x)\n",
    "  ## Reshaping to 224*224\n",
    "  x = Reshape((HEIGHT_CELLS, WIDTH_CELLS))(x) \n",
    "\n",
    "\n",
    "  return Model(inputs = model.input, outputs = x)\n"
   ]
  },
  {
   "cell_type": "markdown",
   "metadata": {
    "colab_type": "text",
    "id": "_snZ9o0ZBAiv"
   },
   "source": [
    "## Call the create_model function (1 mark)\n",
    "- Give trainable=False as argument, if you want to freeze lower layers for fast training (but low accuracy)"
   ]
  },
  {
   "cell_type": "code",
   "execution_count": 13,
   "metadata": {
    "colab": {},
    "colab_type": "code",
    "id": "9TfSSP51uPoO"
   },
   "outputs": [],
   "source": [
    "model = create_model(False)"
   ]
  },
  {
   "cell_type": "markdown",
   "metadata": {
    "colab_type": "text",
    "id": "lUr_ZSHkKb5G"
   },
   "source": [
    "## Print model summary (1 mark)"
   ]
  },
  {
   "cell_type": "code",
   "execution_count": 14,
   "metadata": {
    "colab": {
     "base_uri": "https://localhost:8080/",
     "height": 1000
    },
    "colab_type": "code",
    "id": "xXCbBt78KfT-",
    "outputId": "850e47a0-3e5f-4a40-f107-eff414227c82"
   },
   "outputs": [
    {
     "name": "stdout",
     "output_type": "stream",
     "text": [
      "Model: \"functional_1\"\n",
      "__________________________________________________________________________________________________\n",
      "Layer (type)                    Output Shape         Param #     Connected to                     \n",
      "==================================================================================================\n",
      "input_1 (InputLayer)            [(None, 224, 224, 3) 0                                            \n",
      "__________________________________________________________________________________________________\n",
      "conv1_pad (ZeroPadding2D)       (None, 225, 225, 3)  0           input_1[0][0]                    \n",
      "__________________________________________________________________________________________________\n",
      "conv1 (Conv2D)                  (None, 112, 112, 32) 864         conv1_pad[0][0]                  \n",
      "__________________________________________________________________________________________________\n",
      "conv1_bn (BatchNormalization)   (None, 112, 112, 32) 128         conv1[0][0]                      \n",
      "__________________________________________________________________________________________________\n",
      "conv1_relu (ReLU)               (None, 112, 112, 32) 0           conv1_bn[0][0]                   \n",
      "__________________________________________________________________________________________________\n",
      "conv_dw_1 (DepthwiseConv2D)     (None, 112, 112, 32) 288         conv1_relu[0][0]                 \n",
      "__________________________________________________________________________________________________\n",
      "conv_dw_1_bn (BatchNormalizatio (None, 112, 112, 32) 128         conv_dw_1[0][0]                  \n",
      "__________________________________________________________________________________________________\n",
      "conv_dw_1_relu (ReLU)           (None, 112, 112, 32) 0           conv_dw_1_bn[0][0]               \n",
      "__________________________________________________________________________________________________\n",
      "conv_pw_1 (Conv2D)              (None, 112, 112, 64) 2048        conv_dw_1_relu[0][0]             \n",
      "__________________________________________________________________________________________________\n",
      "conv_pw_1_bn (BatchNormalizatio (None, 112, 112, 64) 256         conv_pw_1[0][0]                  \n",
      "__________________________________________________________________________________________________\n",
      "conv_pw_1_relu (ReLU)           (None, 112, 112, 64) 0           conv_pw_1_bn[0][0]               \n",
      "__________________________________________________________________________________________________\n",
      "conv_pad_2 (ZeroPadding2D)      (None, 113, 113, 64) 0           conv_pw_1_relu[0][0]             \n",
      "__________________________________________________________________________________________________\n",
      "conv_dw_2 (DepthwiseConv2D)     (None, 56, 56, 64)   576         conv_pad_2[0][0]                 \n",
      "__________________________________________________________________________________________________\n",
      "conv_dw_2_bn (BatchNormalizatio (None, 56, 56, 64)   256         conv_dw_2[0][0]                  \n",
      "__________________________________________________________________________________________________\n",
      "conv_dw_2_relu (ReLU)           (None, 56, 56, 64)   0           conv_dw_2_bn[0][0]               \n",
      "__________________________________________________________________________________________________\n",
      "conv_pw_2 (Conv2D)              (None, 56, 56, 128)  8192        conv_dw_2_relu[0][0]             \n",
      "__________________________________________________________________________________________________\n",
      "conv_pw_2_bn (BatchNormalizatio (None, 56, 56, 128)  512         conv_pw_2[0][0]                  \n",
      "__________________________________________________________________________________________________\n",
      "conv_pw_2_relu (ReLU)           (None, 56, 56, 128)  0           conv_pw_2_bn[0][0]               \n",
      "__________________________________________________________________________________________________\n",
      "conv_dw_3 (DepthwiseConv2D)     (None, 56, 56, 128)  1152        conv_pw_2_relu[0][0]             \n",
      "__________________________________________________________________________________________________\n",
      "conv_dw_3_bn (BatchNormalizatio (None, 56, 56, 128)  512         conv_dw_3[0][0]                  \n",
      "__________________________________________________________________________________________________\n",
      "conv_dw_3_relu (ReLU)           (None, 56, 56, 128)  0           conv_dw_3_bn[0][0]               \n",
      "__________________________________________________________________________________________________\n",
      "conv_pw_3 (Conv2D)              (None, 56, 56, 128)  16384       conv_dw_3_relu[0][0]             \n",
      "__________________________________________________________________________________________________\n",
      "conv_pw_3_bn (BatchNormalizatio (None, 56, 56, 128)  512         conv_pw_3[0][0]                  \n",
      "__________________________________________________________________________________________________\n",
      "conv_pw_3_relu (ReLU)           (None, 56, 56, 128)  0           conv_pw_3_bn[0][0]               \n",
      "__________________________________________________________________________________________________\n",
      "conv_pad_4 (ZeroPadding2D)      (None, 57, 57, 128)  0           conv_pw_3_relu[0][0]             \n",
      "__________________________________________________________________________________________________\n",
      "conv_dw_4 (DepthwiseConv2D)     (None, 28, 28, 128)  1152        conv_pad_4[0][0]                 \n",
      "__________________________________________________________________________________________________\n",
      "conv_dw_4_bn (BatchNormalizatio (None, 28, 28, 128)  512         conv_dw_4[0][0]                  \n",
      "__________________________________________________________________________________________________\n",
      "conv_dw_4_relu (ReLU)           (None, 28, 28, 128)  0           conv_dw_4_bn[0][0]               \n",
      "__________________________________________________________________________________________________\n",
      "conv_pw_4 (Conv2D)              (None, 28, 28, 256)  32768       conv_dw_4_relu[0][0]             \n",
      "__________________________________________________________________________________________________\n",
      "conv_pw_4_bn (BatchNormalizatio (None, 28, 28, 256)  1024        conv_pw_4[0][0]                  \n",
      "__________________________________________________________________________________________________\n",
      "conv_pw_4_relu (ReLU)           (None, 28, 28, 256)  0           conv_pw_4_bn[0][0]               \n",
      "__________________________________________________________________________________________________\n",
      "conv_dw_5 (DepthwiseConv2D)     (None, 28, 28, 256)  2304        conv_pw_4_relu[0][0]             \n",
      "__________________________________________________________________________________________________\n",
      "conv_dw_5_bn (BatchNormalizatio (None, 28, 28, 256)  1024        conv_dw_5[0][0]                  \n",
      "__________________________________________________________________________________________________\n",
      "conv_dw_5_relu (ReLU)           (None, 28, 28, 256)  0           conv_dw_5_bn[0][0]               \n",
      "__________________________________________________________________________________________________\n",
      "conv_pw_5 (Conv2D)              (None, 28, 28, 256)  65536       conv_dw_5_relu[0][0]             \n",
      "__________________________________________________________________________________________________\n",
      "conv_pw_5_bn (BatchNormalizatio (None, 28, 28, 256)  1024        conv_pw_5[0][0]                  \n",
      "__________________________________________________________________________________________________\n",
      "conv_pw_5_relu (ReLU)           (None, 28, 28, 256)  0           conv_pw_5_bn[0][0]               \n",
      "__________________________________________________________________________________________________\n",
      "conv_pad_6 (ZeroPadding2D)      (None, 29, 29, 256)  0           conv_pw_5_relu[0][0]             \n",
      "__________________________________________________________________________________________________\n",
      "conv_dw_6 (DepthwiseConv2D)     (None, 14, 14, 256)  2304        conv_pad_6[0][0]                 \n",
      "__________________________________________________________________________________________________\n",
      "conv_dw_6_bn (BatchNormalizatio (None, 14, 14, 256)  1024        conv_dw_6[0][0]                  \n",
      "__________________________________________________________________________________________________\n",
      "conv_dw_6_relu (ReLU)           (None, 14, 14, 256)  0           conv_dw_6_bn[0][0]               \n",
      "__________________________________________________________________________________________________\n",
      "conv_pw_6 (Conv2D)              (None, 14, 14, 512)  131072      conv_dw_6_relu[0][0]             \n",
      "__________________________________________________________________________________________________\n",
      "conv_pw_6_bn (BatchNormalizatio (None, 14, 14, 512)  2048        conv_pw_6[0][0]                  \n",
      "__________________________________________________________________________________________________\n",
      "conv_pw_6_relu (ReLU)           (None, 14, 14, 512)  0           conv_pw_6_bn[0][0]               \n",
      "__________________________________________________________________________________________________\n",
      "conv_dw_7 (DepthwiseConv2D)     (None, 14, 14, 512)  4608        conv_pw_6_relu[0][0]             \n",
      "__________________________________________________________________________________________________\n",
      "conv_dw_7_bn (BatchNormalizatio (None, 14, 14, 512)  2048        conv_dw_7[0][0]                  \n",
      "__________________________________________________________________________________________________\n",
      "conv_dw_7_relu (ReLU)           (None, 14, 14, 512)  0           conv_dw_7_bn[0][0]               \n",
      "__________________________________________________________________________________________________\n",
      "conv_pw_7 (Conv2D)              (None, 14, 14, 512)  262144      conv_dw_7_relu[0][0]             \n",
      "__________________________________________________________________________________________________\n",
      "conv_pw_7_bn (BatchNormalizatio (None, 14, 14, 512)  2048        conv_pw_7[0][0]                  \n",
      "__________________________________________________________________________________________________\n",
      "conv_pw_7_relu (ReLU)           (None, 14, 14, 512)  0           conv_pw_7_bn[0][0]               \n",
      "__________________________________________________________________________________________________\n",
      "conv_dw_8 (DepthwiseConv2D)     (None, 14, 14, 512)  4608        conv_pw_7_relu[0][0]             \n",
      "__________________________________________________________________________________________________\n",
      "conv_dw_8_bn (BatchNormalizatio (None, 14, 14, 512)  2048        conv_dw_8[0][0]                  \n",
      "__________________________________________________________________________________________________\n",
      "conv_dw_8_relu (ReLU)           (None, 14, 14, 512)  0           conv_dw_8_bn[0][0]               \n",
      "__________________________________________________________________________________________________\n",
      "conv_pw_8 (Conv2D)              (None, 14, 14, 512)  262144      conv_dw_8_relu[0][0]             \n",
      "__________________________________________________________________________________________________\n",
      "conv_pw_8_bn (BatchNormalizatio (None, 14, 14, 512)  2048        conv_pw_8[0][0]                  \n",
      "__________________________________________________________________________________________________\n",
      "conv_pw_8_relu (ReLU)           (None, 14, 14, 512)  0           conv_pw_8_bn[0][0]               \n",
      "__________________________________________________________________________________________________\n",
      "conv_dw_9 (DepthwiseConv2D)     (None, 14, 14, 512)  4608        conv_pw_8_relu[0][0]             \n",
      "__________________________________________________________________________________________________\n",
      "conv_dw_9_bn (BatchNormalizatio (None, 14, 14, 512)  2048        conv_dw_9[0][0]                  \n",
      "__________________________________________________________________________________________________\n",
      "conv_dw_9_relu (ReLU)           (None, 14, 14, 512)  0           conv_dw_9_bn[0][0]               \n",
      "__________________________________________________________________________________________________\n",
      "conv_pw_9 (Conv2D)              (None, 14, 14, 512)  262144      conv_dw_9_relu[0][0]             \n",
      "__________________________________________________________________________________________________\n",
      "conv_pw_9_bn (BatchNormalizatio (None, 14, 14, 512)  2048        conv_pw_9[0][0]                  \n",
      "__________________________________________________________________________________________________\n",
      "conv_pw_9_relu (ReLU)           (None, 14, 14, 512)  0           conv_pw_9_bn[0][0]               \n",
      "__________________________________________________________________________________________________\n",
      "conv_dw_10 (DepthwiseConv2D)    (None, 14, 14, 512)  4608        conv_pw_9_relu[0][0]             \n",
      "__________________________________________________________________________________________________\n",
      "conv_dw_10_bn (BatchNormalizati (None, 14, 14, 512)  2048        conv_dw_10[0][0]                 \n",
      "__________________________________________________________________________________________________\n",
      "conv_dw_10_relu (ReLU)          (None, 14, 14, 512)  0           conv_dw_10_bn[0][0]              \n",
      "__________________________________________________________________________________________________\n",
      "conv_pw_10 (Conv2D)             (None, 14, 14, 512)  262144      conv_dw_10_relu[0][0]            \n",
      "__________________________________________________________________________________________________\n",
      "conv_pw_10_bn (BatchNormalizati (None, 14, 14, 512)  2048        conv_pw_10[0][0]                 \n",
      "__________________________________________________________________________________________________\n",
      "conv_pw_10_relu (ReLU)          (None, 14, 14, 512)  0           conv_pw_10_bn[0][0]              \n",
      "__________________________________________________________________________________________________\n",
      "conv_dw_11 (DepthwiseConv2D)    (None, 14, 14, 512)  4608        conv_pw_10_relu[0][0]            \n",
      "__________________________________________________________________________________________________\n",
      "conv_dw_11_bn (BatchNormalizati (None, 14, 14, 512)  2048        conv_dw_11[0][0]                 \n",
      "__________________________________________________________________________________________________\n",
      "conv_dw_11_relu (ReLU)          (None, 14, 14, 512)  0           conv_dw_11_bn[0][0]              \n",
      "__________________________________________________________________________________________________\n",
      "conv_pw_11 (Conv2D)             (None, 14, 14, 512)  262144      conv_dw_11_relu[0][0]            \n",
      "__________________________________________________________________________________________________\n",
      "conv_pw_11_bn (BatchNormalizati (None, 14, 14, 512)  2048        conv_pw_11[0][0]                 \n",
      "__________________________________________________________________________________________________\n",
      "conv_pw_11_relu (ReLU)          (None, 14, 14, 512)  0           conv_pw_11_bn[0][0]              \n",
      "__________________________________________________________________________________________________\n",
      "conv_pad_12 (ZeroPadding2D)     (None, 15, 15, 512)  0           conv_pw_11_relu[0][0]            \n",
      "__________________________________________________________________________________________________\n",
      "conv_dw_12 (DepthwiseConv2D)    (None, 7, 7, 512)    4608        conv_pad_12[0][0]                \n",
      "__________________________________________________________________________________________________\n",
      "conv_dw_12_bn (BatchNormalizati (None, 7, 7, 512)    2048        conv_dw_12[0][0]                 \n",
      "__________________________________________________________________________________________________\n",
      "conv_dw_12_relu (ReLU)          (None, 7, 7, 512)    0           conv_dw_12_bn[0][0]              \n",
      "__________________________________________________________________________________________________\n",
      "conv_pw_12 (Conv2D)             (None, 7, 7, 1024)   524288      conv_dw_12_relu[0][0]            \n",
      "__________________________________________________________________________________________________\n",
      "conv_pw_12_bn (BatchNormalizati (None, 7, 7, 1024)   4096        conv_pw_12[0][0]                 \n",
      "__________________________________________________________________________________________________\n",
      "conv_pw_12_relu (ReLU)          (None, 7, 7, 1024)   0           conv_pw_12_bn[0][0]              \n",
      "__________________________________________________________________________________________________\n",
      "conv_dw_13 (DepthwiseConv2D)    (None, 7, 7, 1024)   9216        conv_pw_12_relu[0][0]            \n",
      "__________________________________________________________________________________________________\n",
      "conv_dw_13_bn (BatchNormalizati (None, 7, 7, 1024)   4096        conv_dw_13[0][0]                 \n",
      "__________________________________________________________________________________________________\n",
      "conv_dw_13_relu (ReLU)          (None, 7, 7, 1024)   0           conv_dw_13_bn[0][0]              \n",
      "__________________________________________________________________________________________________\n",
      "conv_pw_13 (Conv2D)             (None, 7, 7, 1024)   1048576     conv_dw_13_relu[0][0]            \n",
      "__________________________________________________________________________________________________\n",
      "conv_pw_13_bn (BatchNormalizati (None, 7, 7, 1024)   4096        conv_pw_13[0][0]                 \n",
      "__________________________________________________________________________________________________\n",
      "conv_pw_13_relu (ReLU)          (None, 7, 7, 1024)   0           conv_pw_13_bn[0][0]              \n",
      "__________________________________________________________________________________________________\n",
      "up_sampling2d (UpSampling2D)    (None, 14, 14, 1024) 0           conv_pw_13_relu[0][0]            \n",
      "__________________________________________________________________________________________________\n",
      "concatenate (Concatenate)       (None, 14, 14, 1536) 0           up_sampling2d[0][0]              \n",
      "                                                                 conv_pw_11_relu[0][0]            \n",
      "__________________________________________________________________________________________________\n",
      "conv2d (Conv2D)                 (None, 14, 14, 128)  196736      concatenate[0][0]                \n",
      "__________________________________________________________________________________________________\n",
      "up_sampling2d_1 (UpSampling2D)  (None, 28, 28, 128)  0           conv2d[0][0]                     \n",
      "__________________________________________________________________________________________________\n",
      "concatenate_1 (Concatenate)     (None, 28, 28, 384)  0           up_sampling2d_1[0][0]            \n",
      "                                                                 conv_pw_5_relu[0][0]             \n",
      "__________________________________________________________________________________________________\n",
      "conv2d_1 (Conv2D)               (None, 28, 28, 128)  49280       concatenate_1[0][0]              \n",
      "__________________________________________________________________________________________________\n",
      "up_sampling2d_2 (UpSampling2D)  (None, 56, 56, 128)  0           conv2d_1[0][0]                   \n",
      "__________________________________________________________________________________________________\n",
      "up_sampling2d_3 (UpSampling2D)  (None, 112, 112, 128 0           up_sampling2d_2[0][0]            \n",
      "__________________________________________________________________________________________________\n",
      "concatenate_2 (Concatenate)     (None, 112, 112, 192 0           up_sampling2d_3[0][0]            \n",
      "                                                                 conv_pw_1_relu[0][0]             \n",
      "__________________________________________________________________________________________________\n",
      "conv2d_2 (Conv2D)               (None, 112, 112, 128 24704       concatenate_2[0][0]              \n",
      "__________________________________________________________________________________________________\n",
      "up_sampling2d_4 (UpSampling2D)  (None, 224, 224, 128 0           conv2d_2[0][0]                   \n",
      "__________________________________________________________________________________________________\n",
      "conv2d_3 (Conv2D)               (None, 224, 224, 1)  129         up_sampling2d_4[0][0]            \n",
      "__________________________________________________________________________________________________\n",
      "reshape (Reshape)               (None, 224, 224)     0           conv2d_3[0][0]                   \n",
      "==================================================================================================\n",
      "Total params: 3,499,713\n",
      "Trainable params: 270,849\n",
      "Non-trainable params: 3,228,864\n",
      "__________________________________________________________________________________________________\n"
     ]
    }
   ],
   "source": [
    "model.summary()"
   ]
  },
  {
   "cell_type": "markdown",
   "metadata": {
    "colab_type": "text",
    "id": "2spcE4TvfEZw"
   },
   "source": [
    "## Define dice coefficient function (2 marks)\n",
    "- Create a function to calculate dice coefficient\n"
   ]
  },
  {
   "cell_type": "code",
   "execution_count": 15,
   "metadata": {
    "colab": {},
    "colab_type": "code",
    "id": "8H8aViXZuWz1"
   },
   "outputs": [],
   "source": [
    "def dice_coeff(y_true, y_pred):\n",
    "  numerator = 2 * tf.reduce_sum(y_true * y_pred)\n",
    "  denominator = tf.reduce_sum(y_true * y_pred)\n",
    "\n",
    "  return numerator/(denominator + (0.00001))"
   ]
  },
  {
   "cell_type": "markdown",
   "metadata": {
    "colab_type": "text",
    "id": "Nkp5SDM1fIu2"
   },
   "source": [
    "## Define loss function (2 marks)\n",
    "- We use binary_crossentropy as a measure of loss "
   ]
  },
  {
   "cell_type": "code",
   "execution_count": 16,
   "metadata": {
    "colab": {},
    "colab_type": "code",
    "id": "FEOVfs19KVLv"
   },
   "outputs": [],
   "source": [
    "def loss(y_true, y_pred):\n",
    "  return binary_crossentropy(y_true, y_pred) - tf.keras.backend.log(dice_coeff(y_true, y_pred) + tf.keras.backend.epsilon())"
   ]
  },
  {
   "cell_type": "markdown",
   "metadata": {
    "colab_type": "text",
    "id": "Thltv_akfOMS"
   },
   "source": [
    "## Compile the model (2 marks)\n",
    "- Complie the model using below parameters\n",
    "  - loss: use the loss function defined above\n",
    "  - optimizers: use Adam optimizer\n",
    "  - metrics: use dice_coefficient function defined above"
   ]
  },
  {
   "cell_type": "code",
   "execution_count": 17,
   "metadata": {
    "colab": {},
    "colab_type": "code",
    "id": "atPb8xm2qkK5"
   },
   "outputs": [],
   "source": [
    "optimizer = Adam(lr = 1e-4, beta_1 = 0.9, beta_2 = 0.999, epsilon = None, decay = 0.0, amsgrad=False)\n",
    "model.compile(loss = loss, optimizer = optimizer, metrics = [dice_coeff])"
   ]
  },
  {
   "cell_type": "markdown",
   "metadata": {
    "colab_type": "text",
    "id": "VTumZyg0fuVy"
   },
   "source": [
    "## Define callbacks (2 marks)\n",
    "- Use ModelCheckpoint\n",
    "- Use EarlyStopping\n",
    "- Use ReduceLROnPlateau"
   ]
  },
  {
   "cell_type": "code",
   "execution_count": 18,
   "metadata": {
    "colab": {},
    "colab_type": "code",
    "id": "QNlQHt8DMy7h"
   },
   "outputs": [],
   "source": [
    "checkpoint = ModelCheckpoint(\"model-{val_loss:.2f}.h5\", monitor = \"val_loss\", verbose = 1, save_best_only = True, save_weights_only = True)\n",
    "stop = EarlyStopping (monitor = \"val_loss\", patience = 3)\n",
    "reduce_lr = ReduceLROnPlateau(monitor = \"val_loss\", factor = 0.3, patience = 3, min_lr = 1e-7, verbose = 1)"
   ]
  },
  {
   "cell_type": "markdown",
   "metadata": {
    "colab_type": "text",
    "id": "LxxbwvXEf07e"
   },
   "source": [
    "## Fit the model (2 marks)\n",
    "- Fit the model using below parameters\n",
    "  - epochs: you can decide\n",
    "  - batch_size: 1\n",
    "  - callbacks: use the callbacks defined above"
   ]
  },
  {
   "cell_type": "code",
   "execution_count": 19,
   "metadata": {
    "colab": {
     "base_uri": "https://localhost:8080/",
     "height": 394
    },
    "colab_type": "code",
    "id": "guFfKsEmq58j",
    "outputId": "451e3c62-9cfd-400d-d8e8-722a0f9e110e"
   },
   "outputs": [
    {
     "name": "stdout",
     "output_type": "stream",
     "text": [
      "Epoch 1/5\n",
      "380/380 [==============================] - ETA: 0s - loss: -0.4086 - dice_coeff: 1.9947\n",
      "Epoch 00001: val_loss improved from inf to -0.43735, saving model to model--0.44.h5\n",
      "380/380 [==============================] - 67s 175ms/step - loss: -0.4086 - dice_coeff: 1.9947 - val_loss: -0.4373 - val_dice_coeff: 2.0000\n",
      "Epoch 2/5\n",
      "380/380 [==============================] - ETA: 0s - loss: -0.4610 - dice_coeff: 1.9947\n",
      "Epoch 00002: val_loss did not improve from -0.43735\n",
      "380/380 [==============================] - 66s 173ms/step - loss: -0.4610 - dice_coeff: 1.9947 - val_loss: -0.4155 - val_dice_coeff: 2.0000\n",
      "Epoch 3/5\n",
      "380/380 [==============================] - ETA: 0s - loss: -0.4743 - dice_coeff: 1.9947\n",
      "Epoch 00003: val_loss improved from -0.43735 to -0.45732, saving model to model--0.46.h5\n",
      "380/380 [==============================] - 67s 176ms/step - loss: -0.4743 - dice_coeff: 1.9947 - val_loss: -0.4573 - val_dice_coeff: 2.0000\n",
      "Epoch 4/5\n",
      "380/380 [==============================] - ETA: 0s - loss: -0.4851 - dice_coeff: 1.9947\n",
      "Epoch 00004: val_loss did not improve from -0.45732\n",
      "380/380 [==============================] - 69s 181ms/step - loss: -0.4851 - dice_coeff: 1.9947 - val_loss: -0.4324 - val_dice_coeff: 2.0000\n",
      "Epoch 5/5\n",
      "380/380 [==============================] - ETA: 0s - loss: -0.4938 - dice_coeff: 1.9947\n",
      "Epoch 00005: val_loss did not improve from -0.45732\n",
      "380/380 [==============================] - 67s 175ms/step - loss: -0.4938 - dice_coeff: 1.9947 - val_loss: -0.4547 - val_dice_coeff: 2.0000\n"
     ]
    },
    {
     "data": {
      "text/plain": [
       "<tensorflow.python.keras.callbacks.History at 0x7f31c67ce6a0>"
      ]
     },
     "execution_count": 19,
     "metadata": {
      "tags": []
     },
     "output_type": "execute_result"
    }
   ],
   "source": [
    "model.fit(x_train, y_train, validation_data = (x_val, y_val), epochs = 5, batch_size = 1, verbose = 1, callbacks = [checkpoint, stop, reduce_lr])"
   ]
  },
  {
   "cell_type": "markdown",
   "metadata": {
    "colab_type": "text",
    "id": "5VtnuzlOf4uL"
   },
   "source": [
    "## Get the predicted mask for a test image   (2 marks)"
   ]
  },
  {
   "cell_type": "markdown",
   "metadata": {
    "colab_type": "text",
    "id": "EKeEPrQJNqpq"
   },
   "source": [
    "Show the test image"
   ]
  },
  {
   "cell_type": "code",
   "execution_count": 20,
   "metadata": {
    "colab": {
     "base_uri": "https://localhost:8080/",
     "height": 303
    },
    "colab_type": "code",
    "id": "o-CBCMysrchu",
    "outputId": "22e8a6ee-93ee-4b3b-99db-49d6a69c8a65"
   },
   "outputs": [
    {
     "name": "stderr",
     "output_type": "stream",
     "text": [
      "Clipping input data to the valid range for imshow with RGB data ([0..1] for floats or [0..255] for integers).\n"
     ]
    },
    {
     "data": {
      "text/plain": [
       "<matplotlib.image.AxesImage at 0x7f31c1c83e10>"
      ]
     },
     "execution_count": 20,
     "metadata": {
      "tags": []
     },
     "output_type": "execute_result"
    },
    {
     "data": {
      "image/png": "[encoded data removed]",
      "text/plain": [
       "<Figure size 432x288 with 1 Axes>"
      ]
     },
     "metadata": {
      "needs_background": "light",
      "tags": []
     },
     "output_type": "display_data"
    }
   ],
   "source": [
    "unscaled = x_test[3]\n",
    "image = cv2.resize(unscaled, (IMAGE_WIDTH, IMAGE_HEIGHT))\n",
    "plt.imshow(image)"
   ]
  },
  {
   "cell_type": "markdown",
   "metadata": {
    "colab_type": "text",
    "id": "0HuDvCJHNuwF"
   },
   "source": [
    "Show original mask for test image"
   ]
  },
  {
   "cell_type": "code",
   "execution_count": 21,
   "metadata": {
    "colab": {
     "base_uri": "https://localhost:8080/",
     "height": 286
    },
    "colab_type": "code",
    "id": "fvUuZu2zNxuj",
    "outputId": "bf8f2d5d-309c-4f88-a8c6-f05ca096e1a0"
   },
   "outputs": [
    {
     "data": {
      "text/plain": [
       "<matplotlib.image.AxesImage at 0x7f31c3422f60>"
      ]
     },
     "execution_count": 21,
     "metadata": {
      "tags": []
     },
     "output_type": "execute_result"
    },
    {
     "data": {
      "image/png": "[encoded data removed]",
      "text/plain": [
       "<Figure size 432x288 with 1 Axes>"
      ]
     },
     "metadata": {
      "needs_background": "light",
      "tags": []
     },
     "output_type": "display_data"
    }
   ],
   "source": [
    "plt.imshow(y_test[3])"
   ]
  },
  {
   "cell_type": "markdown",
   "metadata": {
    "colab_type": "text",
    "id": "IJjNguwlN6rI"
   },
   "source": [
    "Predict the mask on the test image"
   ]
  },
  {
   "cell_type": "code",
   "execution_count": 22,
   "metadata": {
    "colab": {
     "base_uri": "https://localhost:8080/",
     "height": 286
    },
    "colab_type": "code",
    "id": "X2dmz90gOcIr",
    "outputId": "235e9943-e395-4f0b-a76b-e0c41fd70d37"
   },
   "outputs": [
    {
     "data": {
      "text/plain": [
       "<matplotlib.image.AxesImage at 0x7f31c32a9438>"
      ]
     },
     "execution_count": 22,
     "metadata": {
      "tags": []
     },
     "output_type": "execute_result"
    },
    {
     "data": {
      "image/png": "[encoded data removed]",
      "text/plain": [
       "<Figure size 432x288 with 1 Axes>"
      ]
     },
     "metadata": {
      "needs_background": "light",
      "tags": []
     },
     "output_type": "display_data"
    }
   ],
   "source": [
    "pred_mask = model.predict(x = np.array([image]))\n",
    "pred_mask = pred_mask.reshape(224,224)\n",
    "pred_mask = 1.0 * (pred_mask > 0.6)\n",
    "plt.imshow(pred_mask)"
   ]
  },
  {
   "cell_type": "markdown",
   "metadata": {
    "colab_type": "text",
    "id": "fDIetz0HgA4R"
   },
   "source": [
    "## Impose the mask on the test image (2 marks)\n",
    "- In imshow use the alpha parameter and set it to greater than 0.5"
   ]
  },
  {
   "cell_type": "code",
   "execution_count": 23,
   "metadata": {
    "colab": {
     "base_uri": "https://localhost:8080/",
     "height": 303
    },
    "colab_type": "code",
    "id": "MTAHGkb5xdzu",
    "outputId": "5f5bb3e2-5893-4ea6-b83a-2e3a6bc381c2"
   },
   "outputs": [
    {
     "name": "stderr",
     "output_type": "stream",
     "text": [
      "Clipping input data to the valid range for imshow with RGB data ([0..1] for floats or [0..255] for integers).\n"
     ]
    },
    {
     "data": {
      "text/plain": [
       "<matplotlib.image.AxesImage at 0x7f31c328b198>"
      ]
     },
     "execution_count": 23,
     "metadata": {
      "tags": []
     },
     "output_type": "execute_result"
    },
    {
     "data": {
      "image/png": "[encoded data removed]",
      "text/plain": [
       "<Figure size 432x288 with 1 Axes>"
      ]
     },
     "metadata": {
      "needs_background": "light",
      "tags": []
     },
     "output_type": "display_data"
    }
   ],
   "source": [
    "image2 = image\n",
    "image2[:,:,0] = pred_mask * image[:,:,0]\n",
    "image2[:,:,1] = pred_mask * image[:,:,1]\n",
    "image2[:,:,2] = pred_mask * image[:,:,2]\n",
    "plt.imshow(image2)"
   ]
  },
  {
   "cell_type": "code",
   "execution_count": 23,
   "metadata": {
    "colab": {},
    "colab_type": "code",
    "id": "-4LLU-zvC-ib"
   },
   "outputs": [],
   "source": []
  }
 ],
 "metadata": {
  "colab": {
   "collapsed_sections": [],
   "name": "Assignment - Advanced Computer Vision - Face Mask Prediction using U-Net.ipynb",
   "provenance": [],
   "toc_visible": true
  },
  "kernelspec": {
   "display_name": "Python 3",
   "language": "python",
   "name": "python3"
  },
  "language_info": {
   "codemirror_mode": {
    "name": "ipython",
    "version": 3
   },
   "file_extension": ".py",
   "mimetype": "text/x-python",
   "name": "python",
   "nbconvert_exporter": "python",
   "pygments_lexer": "ipython3",
   "version": "3.7.3"
  }
 },
 "nbformat": 4,
 "nbformat_minor": 1
}
