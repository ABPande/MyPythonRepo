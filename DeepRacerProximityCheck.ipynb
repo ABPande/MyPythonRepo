{
 "cells": [
  {
   "cell_type": "code",
   "execution_count": 18,
   "metadata": {},
   "outputs": [
    {
     "name": "stdout",
     "output_type": "stream",
     "text": [
      "[4.000710678118655, 4.000710678118655]\n",
      "0.0010050506338840034\n",
      "[4, 4]\n",
      "[4.062582521472478, 4.062582521472478]\n",
      "0.08850505063388321\n",
      "[4, 4]\n",
      "[4.124454364826301, 4.124454364826301]\n",
      "0.17600505063388366\n",
      "[4, 4]\n",
      "[4.186326208180124, 4.186326208180124]\n",
      "0.26350505063388413\n",
      "[4, 4]\n",
      "[4.248198051533946, 4.248198051533946]\n",
      "0.3510050506338833\n",
      "[4, 4]\n",
      "[4.31006989488777, 4.31006989488777]\n",
      "0.4385050506338838\n",
      "[4, 4]\n",
      "[4.371941738241592, 4.371941738241592]\n",
      "0.5260050506338829\n",
      "[4, 4]\n",
      "[4.433813581595415, 4.433813581595415]\n",
      "0.6135050506338834\n",
      "[4, 4]\n",
      "[4.495685424949238, 4.495685424949238]\n",
      "0.7010050506338839\n",
      "[4, 4]\n",
      "[4.557557268303061, 4.557557268303061]\n",
      "0.7885050506338831\n",
      "[4, 4]\n",
      "[4.619429111656884, 4.619429111656884]\n",
      "0.8760050506338836\n",
      "[4, 4]\n",
      "[4.681300955010707, 4.681300955010707]\n",
      "0.963505050633884\n",
      "[4, 4]\n"
     ]
    }
   ],
   "source": [
    "import math\n",
    "def check_proximate(point, waypoints, next_idx, max_dist_from_center, total_wp):\n",
    "    for i in range(7):\n",
    "        wp_idx = (next_idx + i) % total_wp\n",
    "        wp = waypoints[wp_idx]\n",
    "        print(((wp[0] - point[0])**2 + (wp[1] - point[1])**2)**0.5)\n",
    "        print(wp)\n",
    "        if ((wp[0] - point[0])**2 + (wp[1] - point[1])**2)**0.5 < max_dist_from_center:            \n",
    "            return True\n",
    "    return False\n",
    "\n",
    "def calc_point(curr_point, angle, distance):\n",
    "    x = curr_point[0] + (distance * math.cos(math.radians(angle)))\n",
    "    y = curr_point[1] + (distance * math.sin(math.radians(angle)))\n",
    "    return [x,y]\n",
    "\n",
    "rc_count = 0\n",
    "decay = 0.0125\n",
    "for i in range(12):\n",
    "    p_point = calc_point([3.93,3.93], 45, (0.1 * (i+1)) - (decay * i))\n",
    "    print(p_point)\n",
    "    racing_line = check_proximate(p_point, [[2,2],[3,3],[4,4],[5,5],[6,6],[7,7],[8,9],[9,10],[10,11],[11,12],[12,13],[13,14],[14,16],[15,17]], 2, 1, 14)\n",
    "    if racing_line == True:\n",
    "        rc_count = rc_count + 1\n",
    "    else:\n",
    "        break"
   ]
  },
  {
   "cell_type": "code",
   "execution_count": 19,
   "metadata": {},
   "outputs": [
    {
     "data": {
      "text/plain": [
       "12"
      ]
     },
     "execution_count": 19,
     "metadata": {},
     "output_type": "execute_result"
    }
   ],
   "source": [
    "rc_count"
   ]
  },
  {
   "cell_type": "code",
   "execution_count": 24,
   "metadata": {},
   "outputs": [
    {
     "data": {
      "text/plain": [
       "2"
      ]
     },
     "execution_count": 24,
     "metadata": {},
     "output_type": "execute_result"
    }
   ],
   "source": [
    "round(1.9)"
   ]
  },
  {
   "cell_type": "code",
   "execution_count": null,
   "metadata": {},
   "outputs": [],
   "source": []
  }
 ],
 "metadata": {
  "kernelspec": {
   "display_name": "Python 3",
   "language": "python",
   "name": "python3"
  },
  "language_info": {
   "codemirror_mode": {
    "name": "ipython",
    "version": 3
   },
   "file_extension": ".py",
   "mimetype": "text/x-python",
   "name": "python",
   "nbconvert_exporter": "python",
   "pygments_lexer": "ipython3",
   "version": "3.7.3"
  }
 },
 "nbformat": 4,
 "nbformat_minor": 2
}
