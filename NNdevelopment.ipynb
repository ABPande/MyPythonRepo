{
 "cells": [
  {
   "cell_type": "code",
   "execution_count": 69,
   "metadata": {},
   "outputs": [],
   "source": [
    "import numpy as np\n",
    "class NeuralNetwork():\n",
    "    def __init__ (self):\n",
    "        print(\"Created\")\n",
    "    def initVar(self, layers, neurons, weights, biases):\n",
    "        self.layers = layers\n",
    "        self.neurons = neurons\n",
    "        self.weights = weights\n",
    "        self.biases = biases\n",
    "    def getNeurons(self):\n",
    "        return self.neurons\n",
    "    def getLayers(self):\n",
    "        return self.layers\n",
    "    def getWeights(self):\n",
    "        return self.weights\n",
    "    def getBiases(self):\n",
    "        return self.biases"
   ]
  },
  {
   "cell_type": "code",
   "execution_count": 29,
   "metadata": {},
   "outputs": [
    {
     "name": "stdout",
     "output_type": "stream",
     "text": [
      "Created\n"
     ]
    }
   ],
   "source": [
    "nn = NeuralNetwork()\n",
    "nn.initVar(1,[3],[0.03,0.04,0.05], [0.001, 0.002, 0.003])"
   ]
  },
  {
   "cell_type": "code",
   "execution_count": 30,
   "metadata": {},
   "outputs": [
    {
     "data": {
      "text/plain": [
       "[3]"
      ]
     },
     "execution_count": 30,
     "metadata": {},
     "output_type": "execute_result"
    }
   ],
   "source": [
    "nn.getNeurons()"
   ]
  },
  {
   "cell_type": "code",
   "execution_count": 31,
   "metadata": {},
   "outputs": [],
   "source": [
    "class Operation():\n",
    "    def __init__(self, inputNodes = []):\n",
    "        \n",
    "        self.inputNodes = inputNodes\n",
    "        self.outputNodes = []\n",
    "        for node in self.inputNodes:\n",
    "            node.outputNodes.append(self)\n",
    "        _default_graph.operations.append(self)\n",
    "    def compute(self, x_var, y_var):\n",
    "        pass\n",
    "    \n",
    "    \n",
    "    \n",
    "class add(Operation):\n",
    "    def __init__ (self, x, y):\n",
    "        super().__init__([x, y])\n",
    "    \n",
    "    def compute (self, x_var, y_var):\n",
    "        self.inputs = [x_var, y_var]\n",
    "        return x_var + y_var \n",
    "    \n",
    "class mult(Operation):\n",
    "    def __init__ (self, x, y):\n",
    "        super().__init__([x, y])\n",
    "    \n",
    "    def compute (self, x_var, y_var):\n",
    "        self.inputs = [x_var, y_var]\n",
    "        return x_var * y_var "
   ]
  },
  {
   "cell_type": "code",
   "execution_count": 32,
   "metadata": {},
   "outputs": [],
   "source": [
    "class mat_mult(Operation):\n",
    "    def __init__ (self, x, y):\n",
    "        super().__init__([x, y])\n",
    "    \n",
    "    def compute (self, x_var, y_var):\n",
    "        self.inputs = [x_var, y_var]\n",
    "        return x_var.dot(y_var)"
   ]
  },
  {
   "cell_type": "code",
   "execution_count": 33,
   "metadata": {},
   "outputs": [],
   "source": [
    "class Placeholder():\n",
    "    def __init__(self):\n",
    "        self.outputNodes = []\n",
    "        _default_graph.placeholders.append(self)\n",
    "class Variable():\n",
    "    def __init__(self, initial_value):\n",
    "        self.value = initial_value\n",
    "        self.outputNodes = []\n",
    "        _default_graph.variables.append(self)"
   ]
  },
  {
   "cell_type": "code",
   "execution_count": 34,
   "metadata": {},
   "outputs": [],
   "source": [
    "class Graph():\n",
    "    def __init__ (self):\n",
    "        self.operations = [] \n",
    "        self.variables = []\n",
    "        self.placeholders = []\n",
    "    def set_as_default(self):\n",
    "        global _default_graph\n",
    "        _default_graph = self"
   ]
  },
  {
   "cell_type": "code",
   "execution_count": 35,
   "metadata": {},
   "outputs": [],
   "source": [
    "g = Graph()\n",
    "g.set_as_default()"
   ]
  },
  {
   "cell_type": "code",
   "execution_count": 41,
   "metadata": {},
   "outputs": [],
   "source": [
    "a = Variable(10)\n",
    "b = Variable(1)\n",
    "x = Placeholder()\n",
    "y = mult(a, x)\n",
    "z = add(y, b)"
   ]
  },
  {
   "cell_type": "code",
   "execution_count": 55,
   "metadata": {},
   "outputs": [],
   "source": [
    "def postOrder(operation):\n",
    "    nodesPostOrder = []\n",
    "    def recurse(node):\n",
    "        if isinstance(node, Operation):\n",
    "            for input_node in node.inputNodes:\n",
    "                recurse (input_node)\n",
    "        nodesPostOrder.append(node)\n",
    "    recurse(operation)\n",
    "    return nodesPostOrder\n",
    "                "
   ]
  },
  {
   "cell_type": "code",
   "execution_count": 71,
   "metadata": {},
   "outputs": [],
   "source": [
    "class Session():\n",
    "    def run(self, operation, feedDict = ()):\n",
    "        nodesPostOrder = postOrder(operation)\n",
    "        for node in nodesPostOrder:\n",
    "            if type(node) == Placeholder:\n",
    "                node.output = feedDict[node]\n",
    "            elif type(node) == Variable:\n",
    "                node.output = node.value\n",
    "            else:\n",
    "                node.inputs = [input_node.output for input_node in node.inputNodes]\n",
    "                node.output = node.compute(*node.inputs)\n",
    "            if type(node.output) == list:\n",
    "                node.output = np.array(node.output)\n",
    "        return operation.output"
   ]
  },
  {
   "cell_type": "code",
   "execution_count": 72,
   "metadata": {},
   "outputs": [],
   "source": [
    "sess = Session()"
   ]
  },
  {
   "cell_type": "code",
   "execution_count": 73,
   "metadata": {},
   "outputs": [],
   "source": [
    "result = sess.run(operation = z, feedDict={x:10})"
   ]
  },
  {
   "cell_type": "code",
   "execution_count": 74,
   "metadata": {},
   "outputs": [
    {
     "data": {
      "text/plain": [
       "array([[101, 201],\n",
       "       [151, 251]])"
      ]
     },
     "execution_count": 74,
     "metadata": {},
     "output_type": "execute_result"
    }
   ],
   "source": [
    "result"
   ]
  },
  {
   "cell_type": "code",
   "execution_count": 75,
   "metadata": {},
   "outputs": [],
   "source": [
    "A = Variable([[10,20],[15,25]])\n",
    "B = Variable([[1,2],[3,4]])\n",
    "x = Placeholder()\n",
    "y = mat_mult(A,x)\n",
    "z = add(y,b)"
   ]
  },
  {
   "cell_type": "code",
   "execution_count": 76,
   "metadata": {},
   "outputs": [],
   "source": [
    "sess = Session()"
   ]
  },
  {
   "cell_type": "code",
   "execution_count": 77,
   "metadata": {},
   "outputs": [
    {
     "data": {
      "text/plain": [
       "array([[101, 201],\n",
       "       [151, 251]])"
      ]
     },
     "execution_count": 77,
     "metadata": {},
     "output_type": "execute_result"
    }
   ],
   "source": [
    "sess.run(operation=z, feedDict={x:10})"
   ]
  },
  {
   "cell_type": "code",
   "execution_count": null,
   "metadata": {},
   "outputs": [],
   "source": []
  },
  {
   "cell_type": "code",
   "execution_count": null,
   "metadata": {},
   "outputs": [],
   "source": []
  }
 ],
 "metadata": {
  "kernelspec": {
   "display_name": "Python 3",
   "language": "python",
   "name": "python3"
  },
  "language_info": {
   "codemirror_mode": {
    "name": "ipython",
    "version": 3
   },
   "file_extension": ".py",
   "mimetype": "text/x-python",
   "name": "python",
   "nbconvert_exporter": "python",
   "pygments_lexer": "ipython3",
   "version": "3.7.3"
  }
 },
 "nbformat": 4,
 "nbformat_minor": 2
}
