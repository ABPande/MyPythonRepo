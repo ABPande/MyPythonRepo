{
 "cells": [
  {
   "cell_type": "markdown",
   "metadata": {
    "id": "pp68FAQf9aMN"
   },
   "source": [
    "# **Sarcasm Detection** \n",
    "# **Assignment 11: Sequential NLP Project 2 - Sarcasm Detection**"
   ]
  },
  {
   "cell_type": "markdown",
   "metadata": {
    "id": "Eukag7wEoPZu"
   },
   "source": [
    "## Package Version:\n",
    "- tensorflow==2.2.0\n",
    "- pandas==1.0.5\n",
    "- numpy==1.18.5\n",
    "- google==2.0.3"
   ]
  },
  {
   "cell_type": "markdown",
   "metadata": {
    "id": "bEahVPtWX5ve"
   },
   "source": [
    "## Dataset\n",
    "\n",
    "### Acknowledgement\n",
    "Misra, Rishabh, and Prahal Arora. \"Sarcasm Detection using Hybrid Neural Network.\" arXiv preprint arXiv:1908.07414 (2019).\n",
    "\n",
    "**Required Files given in below link.**\n",
    "\n",
    "https://drive.google.com/drive/folders/1xUnF35naPGU63xwRDVGc-DkZ3M8V5mMk"
   ]
  },
  {
   "cell_type": "markdown",
   "metadata": {
    "id": "YOCQ0LnNgceK"
   },
   "source": [
    "## **Making Necessary Imports**"
   ]
  },
  {
   "cell_type": "code",
   "execution_count": 1,
   "metadata": {
    "colab": {
     "base_uri": "https://localhost:8080/",
     "height": 35
    },
    "id": "Ed2YjSqqiTyB",
    "outputId": "dd2e6d1e-8ce9-4ab3-8a76-27920a681b73"
   },
   "outputs": [
    {
     "data": {
      "application/vnd.google.colaboratory.intrinsic+json": {
       "type": "string"
      },
      "text/plain": [
       "'2.3.0'"
      ]
     },
     "execution_count": 1,
     "metadata": {
      "tags": []
     },
     "output_type": "execute_result"
    }
   ],
   "source": [
    "import tensorflow as tf\n",
    "\n",
    "from tensorflow.keras.preprocessing.text import Tokenizer\n",
    "from tensorflow.keras.preprocessing.sequence import pad_sequences\n",
    "from tensorflow.keras.utils import to_categorical\n",
    "from tensorflow.keras.models import Model, Sequential\n",
    "from tensorflow.keras.layers import LSTM, Embedding, Dense, TimeDistributed, Dropout, Bidirectional, Input, Flatten, GlobalMaxPool1D, SpatialDropout1D\n",
    "\n",
    "from keras.preprocessing import sequence\n",
    "from keras.callbacks import EarlyStopping\n",
    "\n",
    "from gensim.test.utils import datapath, get_tmpfile\n",
    "from gensim.models import KeyedVectors # Gensim contains word2vec models and processing tools\n",
    "from gensim.scripts.glove2word2vec import glove2word2vec\n",
    "\n",
    "from sklearn.model_selection import train_test_split\n",
    "from sklearn.metrics import confusion_matrix, classification_report\n",
    "from sklearn.preprocessing import binarize\n",
    "\n",
    "from nltk import word_tokenize\n",
    "\n",
    "from google.colab import drive\n",
    "\n",
    "import re\n",
    "import os\n",
    "import nltk\n",
    "\n",
    "\n",
    "import random\n",
    "random.seed(0)\n",
    "import warnings\n",
    "warnings.filterwarnings(\"ignore\")\n",
    "\n",
    "import pandas as pd\n",
    "import numpy as np\n",
    "import seaborn as sns\n",
    "import matplotlib.pyplot as plt\n",
    "tf.__version__"
   ]
  },
  {
   "cell_type": "markdown",
   "metadata": {
    "id": "vAk6BRUh8CqL"
   },
   "source": [
    "## **Load Data (5 Marks)**"
   ]
  },
  {
   "cell_type": "markdown",
   "metadata": {
    "id": "azUCj4o3iMTQ"
   },
   "source": [
    "We are connecting to a google drive where the shortcuts to the data are stored"
   ]
  },
  {
   "cell_type": "code",
   "execution_count": 2,
   "metadata": {
    "colab": {
     "base_uri": "https://localhost:8080/"
    },
    "id": "v8-PQsV0DrAZ",
    "outputId": "78be587c-5b20-4c54-9e89-b4deda2a9582"
   },
   "outputs": [
    {
     "name": "stdout",
     "output_type": "stream",
     "text": [
      "Drive already mounted at /content/drive; to attempt to forcibly remount, call drive.mount(\"/content/drive\", force_remount=True).\n"
     ]
    }
   ],
   "source": [
    "drive.mount('/content/drive')"
   ]
  },
  {
   "cell_type": "code",
   "execution_count": 3,
   "metadata": {
    "id": "kC3El_Y1oun1"
   },
   "outputs": [],
   "source": [
    "folder_path = (\"/content/drive/My Drive/\")\n",
    "os.chdir(folder_path)"
   ]
  },
  {
   "cell_type": "markdown",
   "metadata": {
    "id": "5MMYGMO_g2Aj"
   },
   "source": [
    "We can potentially use this code(part of the repository from where the dataset originates) to capture the data as an array of dictionaries. However, for our purpose we are putting it into a dataframe"
   ]
  },
  {
   "cell_type": "code",
   "execution_count": 4,
   "metadata": {
    "id": "jX9X0kZZUBOl"
   },
   "outputs": [],
   "source": [
    "#def parseJson(fname):\n",
    " #   for line in open(fname, 'r'):\n",
    "  #      yield eval(line) ##NOT IN USE"
   ]
  },
  {
   "cell_type": "markdown",
   "metadata": {
    "id": "XkwvavO6kR1k"
   },
   "source": [
    "### **Read data into dataframe**"
   ]
  },
  {
   "cell_type": "code",
   "execution_count": 5,
   "metadata": {
    "id": "W99jAHHASIj1"
   },
   "outputs": [],
   "source": [
    "data = pd.read_json(folder_path + '/Sarcasm_Headlines_Dataset.json', lines=True)\n",
    "#data = list(parseJson(folder_path + '/Sarcasm_Headlines_Dataset.json'))"
   ]
  },
  {
   "cell_type": "markdown",
   "metadata": {
    "id": "YwJfnfC-io60"
   },
   "source": [
    "### **Explore Data**"
   ]
  },
  {
   "cell_type": "code",
   "execution_count": 6,
   "metadata": {
    "colab": {
     "base_uri": "https://localhost:8080/",
     "height": 204
    },
    "id": "q9T7v-NYi1fQ",
    "outputId": "06060528-e4f5-4566-ee66-d07b85a1fab1"
   },
   "outputs": [
    {
     "data": {
      "text/html": [
       "<div>\n",
       "<style scoped>\n",
       "    .dataframe tbody tr th:only-of-type {\n",
       "        vertical-align: middle;\n",
       "    }\n",
       "\n",
       "    .dataframe tbody tr th {\n",
       "        vertical-align: top;\n",
       "    }\n",
       "\n",
       "    .dataframe thead th {\n",
       "        text-align: right;\n",
       "    }\n",
       "</style>\n",
       "<table border=\"1\" class=\"dataframe\">\n",
       "  <thead>\n",
       "    <tr style=\"text-align: right;\">\n",
       "      <th></th>\n",
       "      <th>article_link</th>\n",
       "      <th>headline</th>\n",
       "      <th>is_sarcastic</th>\n",
       "    </tr>\n",
       "  </thead>\n",
       "  <tbody>\n",
       "    <tr>\n",
       "      <th>0</th>\n",
       "      <td>https://www.huffingtonpost.com/entry/versace-b...</td>\n",
       "      <td>former versace store clerk sues over secret 'b...</td>\n",
       "      <td>0</td>\n",
       "    </tr>\n",
       "    <tr>\n",
       "      <th>1</th>\n",
       "      <td>https://www.huffingtonpost.com/entry/roseanne-...</td>\n",
       "      <td>the 'roseanne' revival catches up to our thorn...</td>\n",
       "      <td>0</td>\n",
       "    </tr>\n",
       "    <tr>\n",
       "      <th>2</th>\n",
       "      <td>https://local.theonion.com/mom-starting-to-fea...</td>\n",
       "      <td>mom starting to fear son's web series closest ...</td>\n",
       "      <td>1</td>\n",
       "    </tr>\n",
       "    <tr>\n",
       "      <th>3</th>\n",
       "      <td>https://politics.theonion.com/boehner-just-wan...</td>\n",
       "      <td>boehner just wants wife to listen, not come up...</td>\n",
       "      <td>1</td>\n",
       "    </tr>\n",
       "    <tr>\n",
       "      <th>4</th>\n",
       "      <td>https://www.huffingtonpost.com/entry/jk-rowlin...</td>\n",
       "      <td>j.k. rowling wishes snape happy birthday in th...</td>\n",
       "      <td>0</td>\n",
       "    </tr>\n",
       "  </tbody>\n",
       "</table>\n",
       "</div>"
      ],
      "text/plain": [
       "                                        article_link  ... is_sarcastic\n",
       "0  https://www.huffingtonpost.com/entry/versace-b...  ...            0\n",
       "1  https://www.huffingtonpost.com/entry/roseanne-...  ...            0\n",
       "2  https://local.theonion.com/mom-starting-to-fea...  ...            1\n",
       "3  https://politics.theonion.com/boehner-just-wan...  ...            1\n",
       "4  https://www.huffingtonpost.com/entry/jk-rowlin...  ...            0\n",
       "\n",
       "[5 rows x 3 columns]"
      ]
     },
     "execution_count": 6,
     "metadata": {
      "tags": []
     },
     "output_type": "execute_result"
    }
   ],
   "source": [
    "data.head()"
   ]
  },
  {
   "cell_type": "markdown",
   "metadata": {
    "id": "0PIOLanhhibu"
   },
   "source": [
    "We see three columns in the data, the article itself, the headline and the is_sarcastic column"
   ]
  },
  {
   "cell_type": "code",
   "execution_count": 7,
   "metadata": {
    "colab": {
     "base_uri": "https://localhost:8080/"
    },
    "id": "osPGiCCnkcHI",
    "outputId": "234836e2-5b0d-406a-99ef-f8c889f35bbf"
   },
   "outputs": [
    {
     "name": "stdout",
     "output_type": "stream",
     "text": [
      "<class 'pandas.core.frame.DataFrame'>\n",
      "RangeIndex: 26709 entries, 0 to 26708\n",
      "Data columns (total 3 columns):\n",
      " #   Column        Non-Null Count  Dtype \n",
      "---  ------        --------------  ----- \n",
      " 0   article_link  26709 non-null  object\n",
      " 1   headline      26709 non-null  object\n",
      " 2   is_sarcastic  26709 non-null  int64 \n",
      "dtypes: int64(1), object(2)\n",
      "memory usage: 626.1+ KB\n"
     ]
    }
   ],
   "source": [
    "data.info()"
   ]
  },
  {
   "cell_type": "markdown",
   "metadata": {
    "id": "3iJkjE1IheXc"
   },
   "source": [
    "No Nulls which makes our job easier"
   ]
  },
  {
   "cell_type": "code",
   "execution_count": 8,
   "metadata": {
    "colab": {
     "base_uri": "https://localhost:8080/",
     "height": 297
    },
    "id": "t6cgA2-vkf8l",
    "outputId": "05c0b43c-333d-43b7-9be6-7d5401293715"
   },
   "outputs": [
    {
     "data": {
      "text/html": [
       "<div>\n",
       "<style scoped>\n",
       "    .dataframe tbody tr th:only-of-type {\n",
       "        vertical-align: middle;\n",
       "    }\n",
       "\n",
       "    .dataframe tbody tr th {\n",
       "        vertical-align: top;\n",
       "    }\n",
       "\n",
       "    .dataframe thead th {\n",
       "        text-align: right;\n",
       "    }\n",
       "</style>\n",
       "<table border=\"1\" class=\"dataframe\">\n",
       "  <thead>\n",
       "    <tr style=\"text-align: right;\">\n",
       "      <th></th>\n",
       "      <th>is_sarcastic</th>\n",
       "    </tr>\n",
       "  </thead>\n",
       "  <tbody>\n",
       "    <tr>\n",
       "      <th>count</th>\n",
       "      <td>26709.000000</td>\n",
       "    </tr>\n",
       "    <tr>\n",
       "      <th>mean</th>\n",
       "      <td>0.438953</td>\n",
       "    </tr>\n",
       "    <tr>\n",
       "      <th>std</th>\n",
       "      <td>0.496269</td>\n",
       "    </tr>\n",
       "    <tr>\n",
       "      <th>min</th>\n",
       "      <td>0.000000</td>\n",
       "    </tr>\n",
       "    <tr>\n",
       "      <th>25%</th>\n",
       "      <td>0.000000</td>\n",
       "    </tr>\n",
       "    <tr>\n",
       "      <th>50%</th>\n",
       "      <td>0.000000</td>\n",
       "    </tr>\n",
       "    <tr>\n",
       "      <th>75%</th>\n",
       "      <td>1.000000</td>\n",
       "    </tr>\n",
       "    <tr>\n",
       "      <th>max</th>\n",
       "      <td>1.000000</td>\n",
       "    </tr>\n",
       "  </tbody>\n",
       "</table>\n",
       "</div>"
      ],
      "text/plain": [
       "       is_sarcastic\n",
       "count  26709.000000\n",
       "mean       0.438953\n",
       "std        0.496269\n",
       "min        0.000000\n",
       "25%        0.000000\n",
       "50%        0.000000\n",
       "75%        1.000000\n",
       "max        1.000000"
      ]
     },
     "execution_count": 8,
     "metadata": {
      "tags": []
     },
     "output_type": "execute_result"
    }
   ],
   "source": [
    "data.describe()"
   ]
  },
  {
   "cell_type": "markdown",
   "metadata": {
    "id": "O4v8OJnUG68t"
   },
   "source": [
    "Remaining Exploration/visualization is carried out post addition of headline length."
   ]
  },
  {
   "cell_type": "markdown",
   "metadata": {
    "id": "z6pXf7A78E2H"
   },
   "source": [
    "## **Drop `article_link` from dataset (5 Marks)**"
   ]
  },
  {
   "cell_type": "code",
   "execution_count": 9,
   "metadata": {
    "id": "-WUNHq5zEV0n"
   },
   "outputs": [],
   "source": [
    "data = data.drop(\"article_link\", axis = 1)"
   ]
  },
  {
   "cell_type": "code",
   "execution_count": 10,
   "metadata": {
    "colab": {
     "base_uri": "https://localhost:8080/",
     "height": 204
    },
    "id": "yccBrXQek3iB",
    "outputId": "64ef220b-a90b-4160-8f71-eedf4acb12f6"
   },
   "outputs": [
    {
     "data": {
      "text/html": [
       "<div>\n",
       "<style scoped>\n",
       "    .dataframe tbody tr th:only-of-type {\n",
       "        vertical-align: middle;\n",
       "    }\n",
       "\n",
       "    .dataframe tbody tr th {\n",
       "        vertical-align: top;\n",
       "    }\n",
       "\n",
       "    .dataframe thead th {\n",
       "        text-align: right;\n",
       "    }\n",
       "</style>\n",
       "<table border=\"1\" class=\"dataframe\">\n",
       "  <thead>\n",
       "    <tr style=\"text-align: right;\">\n",
       "      <th></th>\n",
       "      <th>headline</th>\n",
       "      <th>is_sarcastic</th>\n",
       "    </tr>\n",
       "  </thead>\n",
       "  <tbody>\n",
       "    <tr>\n",
       "      <th>0</th>\n",
       "      <td>former versace store clerk sues over secret 'b...</td>\n",
       "      <td>0</td>\n",
       "    </tr>\n",
       "    <tr>\n",
       "      <th>1</th>\n",
       "      <td>the 'roseanne' revival catches up to our thorn...</td>\n",
       "      <td>0</td>\n",
       "    </tr>\n",
       "    <tr>\n",
       "      <th>2</th>\n",
       "      <td>mom starting to fear son's web series closest ...</td>\n",
       "      <td>1</td>\n",
       "    </tr>\n",
       "    <tr>\n",
       "      <th>3</th>\n",
       "      <td>boehner just wants wife to listen, not come up...</td>\n",
       "      <td>1</td>\n",
       "    </tr>\n",
       "    <tr>\n",
       "      <th>4</th>\n",
       "      <td>j.k. rowling wishes snape happy birthday in th...</td>\n",
       "      <td>0</td>\n",
       "    </tr>\n",
       "  </tbody>\n",
       "</table>\n",
       "</div>"
      ],
      "text/plain": [
       "                                            headline  is_sarcastic\n",
       "0  former versace store clerk sues over secret 'b...             0\n",
       "1  the 'roseanne' revival catches up to our thorn...             0\n",
       "2  mom starting to fear son's web series closest ...             1\n",
       "3  boehner just wants wife to listen, not come up...             1\n",
       "4  j.k. rowling wishes snape happy birthday in th...             0"
      ]
     },
     "execution_count": 10,
     "metadata": {
      "tags": []
     },
     "output_type": "execute_result"
    }
   ],
   "source": [
    "data.head()"
   ]
  },
  {
   "cell_type": "markdown",
   "metadata": {
    "id": "D0h6IOxU8OdH"
   },
   "source": [
    "## **Get length of each headline and add a column for that (5 Marks)**"
   ]
  },
  {
   "cell_type": "markdown",
   "metadata": {
    "id": "v-SeVzn-jNaL"
   },
   "source": [
    "#### **Adding length of sentence to dataset**"
   ]
  },
  {
   "cell_type": "code",
   "execution_count": 11,
   "metadata": {
    "colab": {
     "base_uri": "https://localhost:8080/",
     "height": 204
    },
    "id": "MLpiBRDmEV2l",
    "outputId": "2048b50b-bcd2-47db-8d2c-2838ff62b0b2"
   },
   "outputs": [
    {
     "data": {
      "text/html": [
       "<div>\n",
       "<style scoped>\n",
       "    .dataframe tbody tr th:only-of-type {\n",
       "        vertical-align: middle;\n",
       "    }\n",
       "\n",
       "    .dataframe tbody tr th {\n",
       "        vertical-align: top;\n",
       "    }\n",
       "\n",
       "    .dataframe thead th {\n",
       "        text-align: right;\n",
       "    }\n",
       "</style>\n",
       "<table border=\"1\" class=\"dataframe\">\n",
       "  <thead>\n",
       "    <tr style=\"text-align: right;\">\n",
       "      <th></th>\n",
       "      <th>headline</th>\n",
       "      <th>is_sarcastic</th>\n",
       "      <th>length</th>\n",
       "    </tr>\n",
       "  </thead>\n",
       "  <tbody>\n",
       "    <tr>\n",
       "      <th>0</th>\n",
       "      <td>former versace store clerk sues over secret 'b...</td>\n",
       "      <td>0</td>\n",
       "      <td>12</td>\n",
       "    </tr>\n",
       "    <tr>\n",
       "      <th>1</th>\n",
       "      <td>the 'roseanne' revival catches up to our thorn...</td>\n",
       "      <td>0</td>\n",
       "      <td>14</td>\n",
       "    </tr>\n",
       "    <tr>\n",
       "      <th>2</th>\n",
       "      <td>mom starting to fear son's web series closest ...</td>\n",
       "      <td>1</td>\n",
       "      <td>14</td>\n",
       "    </tr>\n",
       "    <tr>\n",
       "      <th>3</th>\n",
       "      <td>boehner just wants wife to listen, not come up...</td>\n",
       "      <td>1</td>\n",
       "      <td>13</td>\n",
       "    </tr>\n",
       "    <tr>\n",
       "      <th>4</th>\n",
       "      <td>j.k. rowling wishes snape happy birthday in th...</td>\n",
       "      <td>0</td>\n",
       "      <td>11</td>\n",
       "    </tr>\n",
       "  </tbody>\n",
       "</table>\n",
       "</div>"
      ],
      "text/plain": [
       "                                            headline  is_sarcastic  length\n",
       "0  former versace store clerk sues over secret 'b...             0      12\n",
       "1  the 'roseanne' revival catches up to our thorn...             0      14\n",
       "2  mom starting to fear son's web series closest ...             1      14\n",
       "3  boehner just wants wife to listen, not come up...             1      13\n",
       "4  j.k. rowling wishes snape happy birthday in th...             0      11"
      ]
     },
     "execution_count": 11,
     "metadata": {
      "tags": []
     },
     "output_type": "execute_result"
    }
   ],
   "source": [
    "def update_headline(headline):\n",
    "    return len(headline.split(\" \"))\n",
    "\n",
    "data[\"length\"] = data[\"headline\"].apply(update_headline)\n",
    "data.head()"
   ]
  },
  {
   "cell_type": "markdown",
   "metadata": {
    "id": "hZPefGGHHI2O"
   },
   "source": [
    "#### **Explore Data (Continued)**"
   ]
  },
  {
   "cell_type": "code",
   "execution_count": 12,
   "metadata": {
    "colab": {
     "base_uri": "https://localhost:8080/",
     "height": 391
    },
    "id": "-hSz0hR1iVXl",
    "outputId": "c2ccdd4d-c733-4ad1-bd03-86036fafb5ac"
   },
   "outputs": [
    {
     "data": {
      "text/plain": [
       "<seaborn.axisgrid.PairGrid at 0x7f2f5a564748>"
      ]
     },
     "execution_count": 12,
     "metadata": {
      "tags": []
     },
     "output_type": "execute_result"
    },
    {
     "data": {
      "image/png": "[encoded data removed]",
      "text/plain": [
       "<Figure size 360x360 with 6 Axes>"
      ]
     },
     "metadata": {
      "needs_background": "light",
      "tags": []
     },
     "output_type": "display_data"
    }
   ],
   "source": [
    "sns.pairplot(data)"
   ]
  },
  {
   "cell_type": "markdown",
   "metadata": {
    "id": "-nx4MJy3kiG-"
   },
   "source": [
    "The data is almost evenly split across sarcastic and non sarcastic across all lengths"
   ]
  },
  {
   "cell_type": "code",
   "execution_count": 13,
   "metadata": {
    "colab": {
     "base_uri": "https://localhost:8080/",
     "height": 287
    },
    "id": "0aOBCgnZkmLw",
    "outputId": "f772a5c2-3a33-4540-f00e-fc966e42cc70"
   },
   "outputs": [
    {
     "data": {
      "text/plain": [
       "<matplotlib.axes._subplots.AxesSubplot at 0x7f2f5911c320>"
      ]
     },
     "execution_count": 13,
     "metadata": {
      "tags": []
     },
     "output_type": "execute_result"
    },
    {
     "data": {
      "image/png": "[encoded data removed]",
      "text/plain": [
       "<Figure size 432x288 with 2 Axes>"
      ]
     },
     "metadata": {
      "needs_background": "light",
      "tags": []
     },
     "output_type": "display_data"
    }
   ],
   "source": [
    "#changing data types to integers\n",
    "data.is_sarcastic = data.is_sarcastic.astype(int)\n",
    "data.headline_length = data.length.astype(int)\n",
    "\n",
    "#generating heatmap\n",
    "sns.heatmap(data.corr(), cmap='coolwarm', annot=True)"
   ]
  },
  {
   "cell_type": "code",
   "execution_count": 14,
   "metadata": {
    "colab": {
     "base_uri": "https://localhost:8080/",
     "height": 279
    },
    "id": "U5PM461NGzu9",
    "outputId": "819f6217-b276-4ad0-fdb4-c7c83e9625f6"
   },
   "outputs": [
    {
     "data": {
      "text/plain": [
       "<matplotlib.axes._subplots.AxesSubplot at 0x7f2f59c9f710>"
      ]
     },
     "execution_count": 14,
     "metadata": {
      "tags": []
     },
     "output_type": "execute_result"
    },
    {
     "data": {
      "image/png": "[encoded data removed]",
      "text/plain": [
       "<Figure size 432x288 with 1 Axes>"
      ]
     },
     "metadata": {
      "needs_background": "light",
      "tags": []
     },
     "output_type": "display_data"
    }
   ],
   "source": [
    "data[\"is_sarcastic\"].value_counts().plot(kind = \"bar\")"
   ]
  },
  {
   "cell_type": "code",
   "execution_count": 15,
   "metadata": {
    "colab": {
     "base_uri": "https://localhost:8080/",
     "height": 297
    },
    "id": "Dv2cQChXGWHV",
    "outputId": "bd64947b-1033-482c-bea2-fce4f6ec318e"
   },
   "outputs": [
    {
     "data": {
      "text/plain": [
       "<matplotlib.axes._subplots.AxesSubplot at 0x7f2f58f42b70>"
      ]
     },
     "execution_count": 15,
     "metadata": {
      "tags": []
     },
     "output_type": "execute_result"
    },
    {
     "data": {
      "image/png": "[encoded data removed]",
      "text/plain": [
       "<Figure size 432x288 with 1 Axes>"
      ]
     },
     "metadata": {
      "needs_background": "light",
      "tags": []
     },
     "output_type": "display_data"
    }
   ],
   "source": [
    "sns.boxplot(x='is_sarcastic', y='length', data=data)"
   ]
  },
  {
   "cell_type": "markdown",
   "metadata": {
    "id": "UVL7UrAslX1y"
   },
   "source": [
    "As seen initially in the pair plot, this is a evenly split dataset across sarcastic, non_sarcastic categories. Numbers favor the non sarcastic posts marginally (which is fine)"
   ]
  },
  {
   "cell_type": "markdown",
   "metadata": {
    "id": "SMF-wjJ2aMwm"
   },
   "source": [
    "### **Initialize parameter values**\n",
    "- Set values for max_features, maxlen, & embedding_size\n",
    "- max_features: Number of words to take from tokenizer(most frequent words)\n",
    "- maxlen: Maximum length of each sentence to be limited to 25\n",
    "- embedding_size: size of embedding vector"
   ]
  },
  {
   "cell_type": "code",
   "execution_count": 16,
   "metadata": {
    "id": "jPw9gAN_EV6m"
   },
   "outputs": [],
   "source": [
    "max_features = 10000\n",
    "maxlen = 25\n",
    "embedding_size = 200"
   ]
  },
  {
   "cell_type": "markdown",
   "metadata": {
    "id": "fIjEUl7ql9m9"
   },
   "source": [
    "### **Cleaning the headlines**"
   ]
  },
  {
   "cell_type": "code",
   "execution_count": 17,
   "metadata": {
    "colab": {
     "base_uri": "https://localhost:8080/",
     "height": 204
    },
    "id": "y8g4l0KfF3eh",
    "outputId": "58bb14a8-7fff-42fd-db87-ba3ce00492e8"
   },
   "outputs": [
    {
     "data": {
      "text/html": [
       "<div>\n",
       "<style scoped>\n",
       "    .dataframe tbody tr th:only-of-type {\n",
       "        vertical-align: middle;\n",
       "    }\n",
       "\n",
       "    .dataframe tbody tr th {\n",
       "        vertical-align: top;\n",
       "    }\n",
       "\n",
       "    .dataframe thead th {\n",
       "        text-align: right;\n",
       "    }\n",
       "</style>\n",
       "<table border=\"1\" class=\"dataframe\">\n",
       "  <thead>\n",
       "    <tr style=\"text-align: right;\">\n",
       "      <th></th>\n",
       "      <th>headline</th>\n",
       "      <th>is_sarcastic</th>\n",
       "      <th>length</th>\n",
       "    </tr>\n",
       "  </thead>\n",
       "  <tbody>\n",
       "    <tr>\n",
       "      <th>0</th>\n",
       "      <td>former versace store clerk sues over secret bl...</td>\n",
       "      <td>0</td>\n",
       "      <td>12</td>\n",
       "    </tr>\n",
       "    <tr>\n",
       "      <th>1</th>\n",
       "      <td>the roseanne revival catches up to our thorny ...</td>\n",
       "      <td>0</td>\n",
       "      <td>14</td>\n",
       "    </tr>\n",
       "    <tr>\n",
       "      <th>2</th>\n",
       "      <td>mom sta ing to fear sons web series closest th...</td>\n",
       "      <td>1</td>\n",
       "      <td>14</td>\n",
       "    </tr>\n",
       "    <tr>\n",
       "      <th>3</th>\n",
       "      <td>boehner just wants wife to listen not come up ...</td>\n",
       "      <td>1</td>\n",
       "      <td>13</td>\n",
       "    </tr>\n",
       "    <tr>\n",
       "      <th>4</th>\n",
       "      <td>jk rowling wishes snape happy bi hday in the m...</td>\n",
       "      <td>0</td>\n",
       "      <td>11</td>\n",
       "    </tr>\n",
       "  </tbody>\n",
       "</table>\n",
       "</div>"
      ],
      "text/plain": [
       "                                            headline  is_sarcastic  length\n",
       "0  former versace store clerk sues over secret bl...             0      12\n",
       "1  the roseanne revival catches up to our thorny ...             0      14\n",
       "2  mom sta ing to fear sons web series closest th...             1      14\n",
       "3  boehner just wants wife to listen not come up ...             1      13\n",
       "4  jk rowling wishes snape happy bi hday in the m...             0      11"
      ]
     },
     "execution_count": 17,
     "metadata": {
      "tags": []
     },
     "output_type": "execute_result"
    }
   ],
   "source": [
    "def update_headline(headline):\n",
    "    headline_new = headline.lower()\n",
    "    headline_new = re.sub('[^a-zA-z0-9\\s]','',headline_new)\n",
    "    headline_new = headline_new.replace('rt',' ')\n",
    "    return headline_new\n",
    "\n",
    "data[\"headline\"] = data[\"headline\"].apply(update_headline)\n",
    "data.head()"
   ]
  },
  {
   "cell_type": "markdown",
   "metadata": {
    "id": "9abSe-bM8fn9"
   },
   "source": [
    "## **Apply `tensorflow.keras` Tokenizer and get indices for words (5 Marks)**\n",
    "- Initialize Tokenizer object with number of words as 10000\n",
    "- Fit the tokenizer object on headline column\n",
    "- Convert the text to sequence\n"
   ]
  },
  {
   "cell_type": "markdown",
   "metadata": {
    "id": "hhWogTO4jc_O"
   },
   "source": [
    "### **Count Sarcastic vs Non Sarcastic**"
   ]
  },
  {
   "cell_type": "code",
   "execution_count": 18,
   "metadata": {
    "colab": {
     "base_uri": "https://localhost:8080/"
    },
    "id": "3BipmPoypqtG",
    "outputId": "7c0b78af-8dbb-4f0f-c123-854d854bef5e"
   },
   "outputs": [
    {
     "name": "stdout",
     "output_type": "stream",
     "text": [
      "11724\n",
      "14985\n"
     ]
    }
   ],
   "source": [
    "print(len(data[ data['is_sarcastic'] == 1]))\n",
    "print(len(data[ data['is_sarcastic'] == 0]))"
   ]
  },
  {
   "cell_type": "markdown",
   "metadata": {
    "id": "Ygk_Sr1gmJj-"
   },
   "source": [
    "### **Create/Seperate the features and the labels**"
   ]
  },
  {
   "cell_type": "code",
   "execution_count": 19,
   "metadata": {
    "id": "Igf0IUr-uO02"
   },
   "outputs": [],
   "source": [
    "x = data['headline'].tolist()\n",
    "y = data['is_sarcastic'].tolist()"
   ]
  },
  {
   "cell_type": "code",
   "execution_count": 20,
   "metadata": {
    "colab": {
     "base_uri": "https://localhost:8080/"
    },
    "id": "uLDQjFx52PAf",
    "outputId": "683876ad-7fc0-488a-8051-09b39e7cdfb9"
   },
   "outputs": [
    {
     "data": {
      "text/plain": [
       "['former versace store clerk sues over secret black code for minority shoppers',\n",
       " 'the roseanne revival catches up to our thorny political mood for better and worse',\n",
       " 'mom sta ing to fear sons web series closest thing she will have to grandchild',\n",
       " 'boehner just wants wife to listen not come up with alternative debtreduction ideas',\n",
       " 'jk rowling wishes snape happy bi hday in the most magical way',\n",
       " 'advancing the worlds women',\n",
       " 'the fascinating case for eating labgrown meat',\n",
       " 'this ceo will send your kids to school if you work for his company',\n",
       " 'top snake handler leaves sinking huckabee campaign',\n",
       " 'fridays morning email inside trumps presser for the ages',\n",
       " 'airline passengers tackle man who rushes cockpit in bomb threat',\n",
       " 'facebook repo edly working on healthcare features and apps',\n",
       " 'no h korea praises trump and urges us voters to reject dull hillary',\n",
       " 'actually cnns jeffrey lord has been indefensible for a while',\n",
       " 'barcelona holds huge protest in suppo  of refugees',\n",
       " 'nuclear bomb detonates during rehearsal for spiderman musical',\n",
       " 'cosby lawyer asks why accusers didnt come forward to be smeared by legal team years ago',\n",
       " 'stock analysts confused frightened by boar market',\n",
       " 'bloombergs program to build better cities just got bigger',\n",
       " 'craig hicks indicted',\n",
       " 'cou room sketch a ist has clear manga influences',\n",
       " 'trump assures nation that decision for syrian airstrikes came after carefully considering all his passing whims',\n",
       " 'qatar depo ing dutch woman who repo ed she was drugged and raped',\n",
       " 'this is why you shouldnt go to the circus',\n",
       " 'ted cruz hits the panic button we could lose both houses of congress',\n",
       " 'why writers must plan to be surprised',\n",
       " 'obama visits arlington national cemetery to honor veterans',\n",
       " 'excon back behind bar',\n",
       " 'after careful consideration bush recommends oil drilling',\n",
       " 'remembrance is the beginning of the task',\n",
       " 'allies islamist motive for killing nemtsov is nonsense',\n",
       " 'gillian jacobs on what its like to kiss adam brody',\n",
       " 'uber vows to repay nyc drivers tens of millions after tax snafu',\n",
       " 'apple may have poached electric motorcycle company to death',\n",
       " 'drugresistant bacteria often lurk in childrens dogs sandboxes',\n",
       " 'if you see a muslim at the airpo ',\n",
       " 'giant altoid heading toward ea h',\n",
       " 'moana sails straight to the top of the box office with massive 811 million opening',\n",
       " 'selig counted money while baseball lost the next generation of fans',\n",
       " 'robin williams inflicted on holiday moviegoers for eighth straight year',\n",
       " 'devin nunes vows to never reveal source of surveillance claims',\n",
       " 'scott used to stop breathing nearly 40 times an hour this device changed his life',\n",
       " 'rescuers heroically help beached garbage back into ocean',\n",
       " 'medics drop soccer player from stretcher hes ticked',\n",
       " 'give the gift of play this holiday season',\n",
       " 'christian bale visits sikh temple victims',\n",
       " 'spicer denies that ending maternity care guarantee would mean women pay more for health care',\n",
       " 'right to live life in complete stunned horror added to constitution',\n",
       " 'nasa now almost positive mars is rocky',\n",
       " 'monster undeterred by nightlight',\n",
       " 'diy spo s equipment closet',\n",
       " '1 dead 3 injured in shooting at ti conce  in nyc',\n",
       " 'longtime teacher retires without changing a single students life',\n",
       " 'donald trump heading for a series of wins in the no heast polls say',\n",
       " 'donald trump wouldnt have had the ready cash to selffinance entire campaign  analysis',\n",
       " 'new star wars film once again disappoints diehard nien nunb fans',\n",
       " 'bats shooed out of nations waterslide tunnels in preparation for summer',\n",
       " 'mobile news crew repo s on own van breaking down',\n",
       " 'un rights chief calls humanitarian situation in syria an outrage',\n",
       " 'how to track santa claus flight around the world this christmas eve',\n",
       " 'obama has colorado appraised',\n",
       " 'trouble again in tvs africa',\n",
       " 'brita unveils new inthroat water filters',\n",
       " 'repo  john grisham slowly but surely climbing list of greatest living american authors',\n",
       " 'ghost cant make a simple cup of coffee without everyone freaking out',\n",
       " 'tupperware will never truly recover from red curry leftovers',\n",
       " 'one of the planets most powerful forces for change an adolescent girl',\n",
       " 'how does draymond green take his game to the next level by tuning in to the wnba',\n",
       " 'area woman said sorry 118 times yesterday',\n",
       " 'ryan lochte apologizes for behavior in rio',\n",
       " 'no h dakota not heard from in 48 hours',\n",
       " '4 lessons prison taught me about power and control',\n",
       " 'sick fucks line up to gape at dead body',\n",
       " 'what is americas first muslim fraternity really like',\n",
       " 'the vicious knot of syria the untangling process contains solutions in our time',\n",
       " 'this congressman thinks we can fix the economy by drinking beer',\n",
       " 'breast implants found to cause problems in laboratory mice',\n",
       " 'trump orders strikes on syria in retaliation for chemical attack',\n",
       " 'ceos funeral a networking dream',\n",
       " 'yearround schooling how it would help minority students',\n",
       " '90 zen teachers pledge to change culture that fosters abuse',\n",
       " 'nypd weighs allowing chokeholds following eric garner death',\n",
       " 'sonny bono foundation prevents atrisk youths from skiing into trees',\n",
       " 'pope francis reminds the world that caring for the ea h is everyones responsibility',\n",
       " '6yearold cries when told mtm productions kitten dead by now',\n",
       " 'exboyfriend just thought hed check in and throw entire day off',\n",
       " 'doctors restore ken burns fullcolor vision after removing massive tumor from filmmakers visual co ex',\n",
       " 'gravity  12 years a slave tie at 2014 pga awards',\n",
       " 'for national coming out day 150 lgbtq spo s people who have come out in the last year',\n",
       " 'john oliver lays out the most disturbing ways in which trump impacts america',\n",
       " 'house gop crackdown continues',\n",
       " 'i must make sure you have the skills to please my grandson says queen elizabeth disrobing before meghan markle',\n",
       " 'man visiting hometown amazed to find all his childhood insecurities still there',\n",
       " 'look world cup star attacked by giant bug',\n",
       " 'clinton becomes first president to clear 18 feet in pole vault',\n",
       " 'hunter s thompson shoots mouth off one last time',\n",
       " 'inhofes grand climate conspiracy theory its all about barbra streisand',\n",
       " '5 questions i wish younger people would stop asking me',\n",
       " 'albuquerque shooter on the loose gunman leaves 1 dead 3 injured',\n",
       " 'what its like to lose everything in a flood',\n",
       " 'demi lovato drops emotional nightingale music vid',\n",
       " 'miley cyrus and liam hemswo h smooch on nye and the world notices',\n",
       " 'jealous gps clearly wants man to back over wife',\n",
       " 'parks and rec star natalie morales comes out as queer',\n",
       " 'the top italy tours for 2015',\n",
       " 'kaia gerber cindy crawfords daughter lands major fashion campaign',\n",
       " 'la grants clippers 12 for new nets',\n",
       " 'james corden roasts david beckham for matching outfits with posh',\n",
       " 'caf adds hea breaking little lunch menu',\n",
       " 'mcdonalds says its packaging will be 100 percent green by 2025',\n",
       " 'kris jenner turned all the way up for drunken valentines day karaoke',\n",
       " 'whale regrets eating 290000 plastic poker chips that fell off container ship',\n",
       " 'texas ebola patient fighting for his life',\n",
       " 'is it too late to audition asks perfect actor for role poking head into room just as producers were giving up hope',\n",
       " 'robe  de niro to turn 58 for movie role',\n",
       " 'scott pruitt so  of answers whether trump believes in climate change',\n",
       " 'accused father and son urinal thieves flushed out by cops',\n",
       " 'just take it slow and youll be fine drunk driver assures self while speeding away in stolen police car',\n",
       " '3 libe arians fuel 7 million super pac in philadelphias mayoral democratic primary',\n",
       " 'air force will no longer require so help me god in enlistment oaths',\n",
       " 'paul newman dies after consuming 51 hardboiled eggs',\n",
       " 'yak chews thoughtfully',\n",
       " 'man worried about drug dealer whos not picking up phone',\n",
       " 'dad recommends hotel 10 miles away from city youre visiting',\n",
       " 'explosion fells building outside paris killing at least 2',\n",
       " 'the source of donald trumps military expe ise finally revealed',\n",
       " 'union claims sanders campaign staffers posed as members to influence workers',\n",
       " 'seattle mayors accuser in sexabuse lawsuit comes forward',\n",
       " 'southern comfo  comfo s southerner',\n",
       " 'swedish police featured in film shown by fox news say they were selectively edited',\n",
       " 'chromat features not 1 but 2 plussize models on its runway',\n",
       " 'councilman calls on baltimore rappers to inspire students',\n",
       " '10 qualities of your inner spirit',\n",
       " 'chubby jewish boy dreams of one day being next apatow muse',\n",
       " 'the only parenting advice id dare to give',\n",
       " 'family chooses different dog than reincarnated grandfather',\n",
       " 'celebrities celebrate fou h of july with some fun in the sun',\n",
       " 'international womens day will western women save the world',\n",
       " 'michelle phan youtubes beauty bestie empowers women from the outside in',\n",
       " 'caitlyn jenner responds to ricky gervais golden globes jokes',\n",
       " 'joy behar responds to michael flynn guilty plea with pure joy',\n",
       " '6 things no one tells women about their weight loss journey',\n",
       " 'fan disappointed to learn l ron hubbard scientologist',\n",
       " 'marriage breaks up over procreative differences',\n",
       " 'neyo helps to raise 23 million for california engineering school',\n",
       " 'elizabeth warren calls donald trump a racist bully',\n",
       " 'six dead 10 hu  in baltimore commuter school bus crash',\n",
       " 'fox news problem solvers in way over their heads',\n",
       " 'kim gordon clarifies her comments on lana del rey and feminism',\n",
       " 'bashar alassad tries tiny bit of sarin gas on self to see what its like',\n",
       " 'my niece has cancer and im ticked about it',\n",
       " 'supermodel stephanie seymour arrested charged with drunken driving',\n",
       " 'scoliosis what you need to know',\n",
       " 'controversy erupts after uk retailer removes gender labels from kids clothes',\n",
       " 'teacher bitches about paycheck to sixthgrade class',\n",
       " 'area insurance salesman celebrates 14th year of quoting fletch',\n",
       " 'friends always on best behavior around neil labute',\n",
       " 'man vows never to watch another scifi movie with physicist friend',\n",
       " 'biologists announce theyre all done with rodents',\n",
       " 'megyn kelly on donald trump i have done my level best to not make this story about me',\n",
       " 'the secret behind a one day project going viral',\n",
       " 'creating leverage where none seems to exist',\n",
       " 'new movie taps into nations love of rapping kangaroos',\n",
       " 'newspaper sta ing to worry spending so much time on facebook not healthy for it',\n",
       " 'the lawsuit against black lives matter and the central meaning of the first amendment',\n",
       " 'vatican putting out feelers for how public would react to another childrens crusade',\n",
       " 'the wire cast reunited in baltimore to uplift community',\n",
       " 'obamas supreme cou  nominee just bragged about sending this man to prison now hes free',\n",
       " 'death of dc man in security guard custody ruled a homicide',\n",
       " 'boehner vows to leave successor with clean slate',\n",
       " 'trump makes lastminute push to appeal to whites',\n",
       " 'facing rising seas remote alaskan village votes to move again',\n",
       " 'all of childs fondest memories times when dad trying to make up for things',\n",
       " 'the worst place in the world for a child',\n",
       " 'mom sentenced for encouraging boyfriends sex assault on baby',\n",
       " 'donald trumps assault on our values',\n",
       " 'the womens march inspired them to run now theyre unseating gop men',\n",
       " 'was it wo h it america',\n",
       " 'gop senators arent ready to accept trump as their champion',\n",
       " 'pricegouging pharma ceo takes over cancer company',\n",
       " 'man failing to heed harsh lessons of past orders sonic bacon cheeseburger toaster',\n",
       " 'ken burns completes documentary about fucking liars who claimed they watched entire jazz series',\n",
       " 'magicmarkered initials fail to deter breakroom ricecake thief',\n",
       " 'straight outta compton is a stunning surprise',\n",
       " 'carly rae jepsen just released her new single all that',\n",
       " 'god humbled to be the answer to jeopardy clue',\n",
       " 'female barista getting a lot better at avoiding touching male patrons hands when they pay',\n",
       " 'gunman kills one wounds four in shooting at german nightclub',\n",
       " 'couple at point where theyre comfo able using toilet at same time',\n",
       " 'mountain lion tracked by scientists is found dead near malibu road',\n",
       " 'noah cyrus makes her latenight debut belting out make me cry',\n",
       " 'scalia goes on abo ion bender after being passed over for chief justice',\n",
       " 'campbells unveils one big cansized noodle',\n",
       " 'is area man going to finish those fries',\n",
       " 'taylor swift used a gremlin voice while writing 1989',\n",
       " 'restaurants eating challenge rewards any patron who can consume reasonably po ioned meal',\n",
       " 'fun sticker placed on childs ventilator',\n",
       " 'the best way to eat avocados avocado pasta',\n",
       " 'that one mcdonalds plate from the 70s holy shit there it is',\n",
       " 'an open letter to progressives tpp is not yet the most progressive trade agreement in history',\n",
       " 'modernday lancelot offers to pay for abo ion',\n",
       " 'united airlines offering immigrants special flights that circle us awaiting gaps in travel ban',\n",
       " 'sun thinking of just collapsing now and getting this all over with',\n",
       " 'justice thomas wife calls supreme cou  retirement repo  bogus',\n",
       " 'trump retweets video from antimuslim hate group',\n",
       " 'longsilent facebook friend comes out of woodwork with post asking about insulating windows',\n",
       " 'struggling airline helped by friendly giant',\n",
       " '7 ways to breakup like a boss',\n",
       " 'sure seems like frankie muniz wants a malcolm in the middle reboot',\n",
       " 'using the united fiasco to flourish in the future',\n",
       " 'unemployed sibling makes last push for group mothers day gift',\n",
       " '3822 voted americas favorite pin number',\n",
       " 'thank a teacher thursday dominic casulli and the power of encouragement pa  1',\n",
       " 'a toe in the arctic ocean canadas no hwest territories on the looney front pa  2',\n",
       " 'it will never happen to me',\n",
       " 'mark zuckerberg cited for contempt of congress after refusing to shut the fuck up about how he sta ed company in dorm room',\n",
       " 'rubio suppo ers get in a scuffle with a rubiobot',\n",
       " 'the music of strangers a film review by dr lloyd sederer',\n",
       " 'dsm5 updated to accommodate man who is legitimately being ordered to kill by the moon',\n",
       " 'purina debuts new slovenly feast for nastyass shelter cats',\n",
       " 'obama chides darrell issa for touting alliance with him in reelection fight',\n",
       " 'pope francis iraq peace message meets the reality of war',\n",
       " 'antman and the wasp trailer brings the fun after avengers infinity war',\n",
       " 'frontier airlines tells customers to just fucking deal with it',\n",
       " 'moses and the red sea',\n",
       " 'everyone forgets to bring swimsuits to coworkers pa y',\n",
       " 'george takei accused of groping former male model in 1981',\n",
       " 'new york times adds color to target under70 demographic',\n",
       " 'the hollywood boys club that suppo s casey affleck is a total disgrace',\n",
       " '3 myths about low libido',\n",
       " 'girl scouts rocked by cookies for cash fundraising scandal',\n",
       " 'christian juggler regrets years wasted as secular juggler',\n",
       " 'huffpollster americans see progress room for improvement on voting rights',\n",
       " 'world will miss goal for universal education by 50 years un',\n",
       " 'jennifer lopezs name is jennifer lopez again',\n",
       " 'how to rebuild your credit after bankruptcy  fast',\n",
       " 'discover how climate change is rapidly transforming our ea h with google timelapse',\n",
       " 'man who does everything at last minute wonders how you do it',\n",
       " 'voting lines are sho er  but mostly for whites',\n",
       " 'conrad bain steps down as national kitschreference laureate',\n",
       " 'amanda slavin not just a statistic',\n",
       " 'laurie hernandez and val chmerkovskiy are already our favorite dancing with the stars couple',\n",
       " 'new photos show hurricane matthews path of destruction in haiti',\n",
       " 'florida lawmakers vote to ban marriage under the age of 17',\n",
       " 'nasa inadve ently launches unmanned space shuttle',\n",
       " 'nick viall is no longer a bachelor',\n",
       " 'why america demonizes its teachers',\n",
       " 'new instant lottery game features three ways to win 19839947 ways to lose',\n",
       " 'podcast a cry for help',\n",
       " 'fashion designer peter soms legendary minestrone soup recipe',\n",
       " 'photography series spotlighting iconic women over 70 proves the best is yet to come',\n",
       " 'clairvoyant vince vaughn accepts movie role before its offered',\n",
       " 'repo  kenan thompson is leaving snl deemed inaccurate',\n",
       " 'woman hid heroin oxy under fake butt cops say',\n",
       " 'dont cry for me',\n",
       " 'isis and the g41 world',\n",
       " 'melania trump hangs decayed badger carcass over white house mantel to finish off traditional slovenian christmas decor',\n",
       " 'woman who admits to having watched golden globes thinks jodie foster embarrassed herself',\n",
       " 'sarah huckabee sanders defends trumps sexist attack on kirsten gillibrand',\n",
       " 'saying goodbye to hollywoods hottest seediest address',\n",
       " 'bush increasingly focused on how revisionist history will see him',\n",
       " '11 years later the human genome paves the way for genomic technonlogy',\n",
       " 'man claiming to be boko haram leader appears in new video',\n",
       " 'how do i live knowing proof of heaven',\n",
       " 'on pilgrimage in india',\n",
       " 'will religious freedom advocates oppose roy moore',\n",
       " 'uaw fca still negotiating under hourbyhour contract extension',\n",
       " 'if bernie sanders wanted to solve problems like donald trump',\n",
       " 'there is no right way just write',\n",
       " 'rest of evening spent declaring asshole not going to ruin evening',\n",
       " 'no h carolina doesnt seem to want people to see police camera footage',\n",
       " 'the education depa ment officially wont deal with transgender students experiencing bathroom discrimination',\n",
       " 'why we wont be pa icipating in black friday',\n",
       " 'hooded members of congress drown another love child in potomac to prevent affair from getting out',\n",
       " 'merkel isis poses major risk to europe',\n",
       " 'alcoholic kinderga en teacher stretches naptime to three hours',\n",
       " 'repo  store out of good kind',\n",
       " 'devastating floods leave 23 dead in west virginia',\n",
       " 'obamas greatest oratory performance',\n",
       " 'grandmother palms grandson 10 like she fixing boxing match',\n",
       " 'bumper nilla crop spells profit for wafer growers',\n",
       " '6 summer salads youll actually crave',\n",
       " 'the black keys new album turn blue is now available to stream in full',\n",
       " 'isis vs isil  whats in a name',\n",
       " 'national trust for historic preservation to pay for andy rooneys upkeep',\n",
       " 'list of names on gchat sidebar like a po al into area mans past lives',\n",
       " 'tomi lahren is suing glenn beck and theblaze',\n",
       " 'greg hardy unapologetically denies domestic abuse allegations',\n",
       " 'tourists describe scenes of horror in tunisian beach massacre',\n",
       " 'trump voters blink',\n",
       " 'photos from ahs set may help explain all those creepy blond children',\n",
       " 'study more couples delaying divorce until kids old enough to remember every painful detail',\n",
       " 'neverbeforeheard buzzword flying around office cant be good',\n",
       " 'man not ce ain what any of his coworkers names are',\n",
       " 'psychologists push for sma phone warning labels',\n",
       " 'clinton receives 400000 honorary degrees for college commencement speech',\n",
       " 'scavengerhunt pa y not leaving without twine',\n",
       " 'the republican obamacare dilemma in one 6minute video',\n",
       " 'mass graves suggest systematic killing of rohingya in myanmar',\n",
       " 'final german uboat surrenders to allied powers',\n",
       " 'private prison companies will still lock up immigrants despite doj decision',\n",
       " 'womans head feared lost forever inside infinity scarf',\n",
       " 'fedup brookstone bodymassage chair now only ente aining serious buyers',\n",
       " 'trump asks entire senate to clear out of chamber so he can speak to comey alone',\n",
       " 'grateful dead lyricist internet pioneer john perry barlow dead at 70',\n",
       " 'new repo  finds americans most interested in science when moon looks different than usual',\n",
       " 'new york times moves all content you wont give a shit about unless you make at least 200k a year into one convenient section',\n",
       " 'philippines president calls on civilians to kill drug addicts',\n",
       " 'woman perfectly breaks down why shes not just a nurse',\n",
       " 'chicago police depa ment to monitor all interactions with public using new bullet cams',\n",
       " 'amid the chattering of the global elite a silent interlude',\n",
       " 'at least 23 ethical issues are dogging epa administrator scott pruitt',\n",
       " 'wont ask dont tell',\n",
       " 'weird black dot actually pa  of bowl',\n",
       " 'vegas baby well minus our babies',\n",
       " 'people really like kanyes new song real friends because its really good',\n",
       " '20 suede pieces youll want to wear all spring',\n",
       " 'fcc sentences a ie lange to death',\n",
       " 'behold the title of american horror story season 7',\n",
       " 'footballloving americans harassed for wearing turbans to nfl game',\n",
       " 'to your health',\n",
       " 'new job posting on craigslist clearly for secretary of the interior',\n",
       " 'seth meyers loses it over thanksgivings proximity to christmas',\n",
       " '15 ways the knicks can trade carmelo anthony',\n",
       " 'parents fight to save their two daughters after tragic diagnosis',\n",
       " 'the quiet practice where i found my voice',\n",
       " 'fcc assures nation their favorite verizon websites wont be affected by net neutrality repeal',\n",
       " 'everyone told me my second child would be so much harder than my first but they were wrong',\n",
       " 'repo  it still nowhere near okay to act like donald trump',\n",
       " 'man repo edly unleashes trumpinspired antilgbtq rant at church',\n",
       " 'white sprinter finishes fifth',\n",
       " 'how im finding my voice with wendy davis',\n",
       " 'obama begins inauguration festivities with ceremonial drone flyover',\n",
       " 'lindsay wagner to star in anything offered her',\n",
       " 'democratic senator strides down corridors of powerlessness',\n",
       " 'heres how trumps rage campaign opened the door to the james comey firing',\n",
       " 'looking for happiness in all the wrong places',\n",
       " 'swarm of 100 drones dance to beethovens symphony no 5 in the night sky',\n",
       " 'fatal school bus crash cements bff status',\n",
       " 'nomakeup look easier to achieve than elle claims',\n",
       " 'the outfit that got this woman kicked out of her schools gym',\n",
       " 'bluetooth headset worn throughout date',\n",
       " 'breakroom tension at alltime high following mug dispute',\n",
       " 'depression symptom checklist speaking to area man as no poem ever could',\n",
       " 'parents formally announce transfer of expectations to second child',\n",
       " 'saturday night live celebrates halloween with spooktacular montage',\n",
       " 'steven spielberg can his career be salvaged',\n",
       " 'local laundromat employs social media coordinator',\n",
       " 'pa ygoer vows to fix keg',\n",
       " 'right to own handheld device that shoots deadly metal pellets at high speed wo h all of this',\n",
       " 'oscar countdown 2002 begins',\n",
       " 'disaster movies are tame compared to what happened 33 billion years ago',\n",
       " 'washington dc officer shoots woman carrying knife',\n",
       " 'in your face the hidden history of plastic surgery and why looks matter',\n",
       " 'a knicks fans open letter to santa',\n",
       " 'wolf blitzer decks boston man who hasnt been healed by red sox baseball',\n",
       " 'donald trump and americas blood spo  of choice',\n",
       " 'time to end subsidies that are destroying forests',\n",
       " 'netflix to shut down planned louis ck comedy special',\n",
       " 'trump undercuts easy obamacare attack with dig about bill clintons infidelities',\n",
       " 'narcissist mentally undresses self',\n",
       " 'we got the exclusive look at hillarys dnc speech notes',\n",
       " 'watch john kasich lead an awkward david bowie singalong',\n",
       " 'pro governing is it faked',\n",
       " 'how a social media detox helped ed burns become more productive',\n",
       " 'outdoor movie guest excited to watch barely audible back to the future while sitting on tree root',\n",
       " 'no h korea claims its planning to fire missiles near guam',\n",
       " 'gorillagram employee shot by white house security',\n",
       " 'how do i make my 4monthold fall in love with reading',\n",
       " '15 weirdest things that people have left behind in an uber',\n",
       " 'arkansas executes first inmate in 12 years',\n",
       " 'meet the other baldwin brother james',\n",
       " 'a sadder pride because of washington inaction',\n",
       " 'brad pitt stumbles across old cardboard box with gwyneth paltrows head in attic',\n",
       " 'shonda rhimes on the motivation behind her weight loss journey',\n",
       " 'obama plans to tackle major education inequality',\n",
       " 'teaching learning and the college ratings framework',\n",
       " 'fashionforward pigeon spo s bread necklace in bold style choice',\n",
       " 'video relaunches investigation into death of man held by chicago police',\n",
       " 'whoopi goldberg says the oscars cant be that racist because she won once',\n",
       " 'housefly tracks dog shit all over cucumber slice',\n",
       " 'hillary clinton opens new presidential library cha ing course of purely theoretical tenure as commander in chief',\n",
       " 'bounty brawny ceos wearing down patience of mutual friend',\n",
       " 'sherman alexie says a ists under trump will be noisecanceling headphones',\n",
       " 'visibly flustricken choir kid really dragging down whole christmas pageant',\n",
       " 'nbc news correspondent ayman mohyeldin returning to gaza',\n",
       " 'tim robbins tired of being typecast as relatively tall characters',\n",
       " 'sen tom cotton thinks tough guy trump is ready to resume waterboarding',\n",
       " 'leatherclad ted cruz greeting voters at renoarea fetish club',\n",
       " 'mans family rises to recordhigh fou h priority',\n",
       " 'mike ditka has not been paying attention to history',\n",
       " 'what mom would have wanted evolving over course of funeral planning',\n",
       " 'simple task of going to post office feels like weight of 10000 boulders',\n",
       " 'repo  some crazy shit probably happened to classmate being raised by grandmother',\n",
       " 'ivanka trump incorrectly names judaism as 1 of the 3 largest world religions',\n",
       " 'rescued lion has been obsessed with blankets since he was a baby',\n",
       " 'county fair judges blown away by heifer',\n",
       " 'the best toys to shop on prime day for kids of all ages',\n",
       " 'the sanders phenomenon',\n",
       " 'clinton staff readies emp launch to disable all nations electronic devices',\n",
       " 'khloe kardashian joins waist gang',\n",
       " 'next weeks republican debate in utah canceled',\n",
       " 'a trove of lost and found photos reveal one mystery couples beautiful life',\n",
       " 'bear family pool pa y is the cutest backyard invasion ever',\n",
       " 'dustin hoffman accusers speak out about alleged abuse in joint nbc interview',\n",
       " 'another open letter to betsy devos from a public school teacher',\n",
       " '6 tips to boost your career',\n",
       " 'video shows transphobic man preaching in target getting shut down by customer',\n",
       " 'xmasgiftsfromtrump wish list will give trump a very unmerry christmas',\n",
       " 'ronda rousey eerily predicted how she would lose',\n",
       " 'police release haircutprogressed photo of missing woman',\n",
       " 'a brief pun intended history of lawyers in movies',\n",
       " 'gifs the memphis grizzlies weathered this epic oklahoma city thunder storm',\n",
       " 'stomach sets aside synthetic additives until it has a few minutes to figure out how to digest them',\n",
       " 'russia denies it has compromising information on donald trump',\n",
       " 'what comics can offer to bible readers',\n",
       " 'breaking uniform',\n",
       " 'congress approves of 250 billion',\n",
       " '7 fascinating but forgotten facts from world war i new book',\n",
       " 'taylor swift now dating wate own boat',\n",
       " 'rapture wreaks havoc on local book club',\n",
       " 'the key to setting achievable goals',\n",
       " 'the only shopping guide for cyber monday you need',\n",
       " 'donald trump says refugee crisis and threats to uk identity drove brexit',\n",
       " 'science fiction writer admits unstoppable killing machine based on mother',\n",
       " 'gunman kills at least two american advisers in kabul shooting',\n",
       " 'kris kobach defends using a private email for government business',\n",
       " '10yearold denies girlliking allegations',\n",
       " 'stray dad found in lumber section of the home depot',\n",
       " 'office manager unveils new rule',\n",
       " 'charles darwin and the sunmine',\n",
       " 'another way companies make it harder for new mothers',\n",
       " 'sheets changed after every breakup',\n",
       " 'want to make meetings more productive sta  walking',\n",
       " 'man overjoyed he no longer has to purchase entire days wo h of egg mcmuffins in morning',\n",
       " 'watch stone brewing evacuates as wildfire approaches',\n",
       " 'military prosecutor senate repo  on cia interrogation program is accurate',\n",
       " 'national park service studies historic lgbtq sites for possible recognition',\n",
       " 'safeguarding americas health system from sabotage',\n",
       " 'jonathan safran foer guesses its time to give up on silly little dream of becoming good writer',\n",
       " 'skydiver luke aikins makes jump without a parachute',\n",
       " 'study universe actually shrunk by about 19 inches last year',\n",
       " 'powercrazed orkin man burns house to ground',\n",
       " 'couples fuckedup presex ritual involves tucking both kids into bed',\n",
       " 'will all senate republicans kowtow to trump and the far right',\n",
       " 'viral photo captures incredible moment between police officer homeless man',\n",
       " 'google employees disappointed 15th anniversary pa y only has one solarpowered lego drag race reffed by david pogue',\n",
       " 'study average american tries getting out of 10000 things each year',\n",
       " 'rnc builds levee out of poor people to protect convention site',\n",
       " 'romney delivers stern warning to china speaking directly into the camera in fluent mandarin',\n",
       " 'the inside story of how congress sent the stock market tumbling',\n",
       " 'voters shocked christie botched such an easy political coverup',\n",
       " 'desperate dole promises best prom ever',\n",
       " 'a different kind of mom',\n",
       " 'uber halts selfdriving car tests in california where it didnt test much anyway',\n",
       " 'from tiger mothers to fresh off the boat eddie huangs mom is not every asianamerican mom',\n",
       " 'donald trump thinks roger goodell is weak stupid and a dope',\n",
       " 'trump says congress wont change libel laws but thats a decision for the states',\n",
       " 'shi less goofball in flag underwear invades field at world series',\n",
       " 'local moviegoer enjoying movie so far',\n",
       " 'why chinese parents dont say i love you',\n",
       " 'americans say the white house is creating more problems than it solves',\n",
       " 'theater major has too long borne shakespeare teachers blunt upbraidings bitter scoffs',\n",
       " 'a lancet breakthrough publishing about faith and health',\n",
       " 'area grasshopper kind of a thorax man himself',\n",
       " 'freemasons return to jupiter',\n",
       " 'banjowielding matt damon makes lastminute bid for best original song',\n",
       " 'after criticism cleveland officials to outline convention security plans',\n",
       " 'new teen trend walking wet and nude couldnt have caught on at worse time',\n",
       " 'justin bieber interrupts performance to scold spanish audience',\n",
       " 'mudbound oscar nominations place netflix in big leagues',\n",
       " 'area man uses wtc attack as excuse to call exgirlfriend',\n",
       " 'mccain gets hammered at local vfw',\n",
       " '12yearolds christmas list demonstrates hea breaking awareness of familys financial predicament',\n",
       " 'kendrick lamar taylor swift and the weeknd lead the 2016 grammy nominations',\n",
       " 'slight inconvenience avoided',\n",
       " 'frustrated fcc unable to stop use of word friggin',\n",
       " 'nbc to dramatize menendez brothers murders in law  order true crime spinoff',\n",
       " 'police assume truck was deliberately driven into berlin christmas market',\n",
       " 'area man cleans apa ment once every relationship',\n",
       " 'after shooting orlando chefs provide thousands of free meals',\n",
       " 'gop sen jeff flake comes out and says it my pa y might not deserve to lead',\n",
       " 'dentist offers to buy back halloween candy',\n",
       " 'mta officials assure new yorkers that todays subway will run just as fucked up as normal',\n",
       " 'routine drunkdriving trip turns tragic for five local teens',\n",
       " 'grizzly bear sprained paw while mauling hunter repo s ranger',\n",
       " 'trump selects longtime personal plane to head faa',\n",
       " 'new antidepressant makes friends problems seem worse',\n",
       " 'restaurant teaches former inmates to cook helps them get back on their feet',\n",
       " '5 entrepreneurial rules to live by',\n",
       " 'laser pointer aimed toward space in 1997 finally annoying planet 13 lightyears away',\n",
       " 'man who skipped airpo s moving walkway immediately realizes what an arrogant fool hes been',\n",
       " '7 things you probably didnt know about christmas',\n",
       " 'paul beatty becomes first american to win man booker prize for fiction',\n",
       " 'your favorite female star wars heroes finally get their own series',\n",
       " 'nation checks out cnncom to see what their old pals the tsarnaevs and castros are up to',\n",
       " 'small town beginning to wonder what taking heroin epidemic so long to get there',\n",
       " 'new ted cruz superpacs take in record haul',\n",
       " 'domestic abuse survivor gives young victims the suppo  she wishes she had',\n",
       " 'dogs smell grandmas scent set off on quest to find her',\n",
       " 'smbs are changing the way they do business',\n",
       " 'presidents american manufacturing council down to ceo of shoe carnival',\n",
       " 'worlds physicists complete study of physics',\n",
       " 'how to really listen in a difficult conversation 62',\n",
       " 'heroic tu le dials most of 911',\n",
       " 'what its really like to have a miscarriage',\n",
       " 'businesses say antilgbt bills could cost texas billions',\n",
       " 'accused killer wanted army of people whod do anything he asked',\n",
       " 'avid fisherman forever ruins fishing for son',\n",
       " 'british public on the hunt for witches marks this halloween',\n",
       " 'nation relieved insufferable little game of thrones fans dont have book to lord over them this season',\n",
       " 'the best volunteer programs do this',\n",
       " 'nasa completely forgot probe was returning today',\n",
       " '3m introduces new line of protective foam eye plugs',\n",
       " 'michael b jordan sets fire to first fahrenheit 451 trailer',\n",
       " 'astronomers predict giant asteroid will hit nations theaters this summer',\n",
       " 'hero of the common man talks to plumber for entire time hes in house',\n",
       " 'social unity is most impo ant says pm modi on indias 70th independence day',\n",
       " 'roe made abo ions legal but it doesnt keep women and providers safe',\n",
       " 'hussein judge hoping for fair speedy assassination',\n",
       " 'savvy man registers sleepy romney twitter account just in case candidate looks tired',\n",
       " 'dreamers face nightmare of trumps depo ation force',\n",
       " 'third world disease eliminated with hotair hand dryers',\n",
       " 'whoops selfie snapper smashes sculpture days after exhibit opens',\n",
       " 'aspiring actor dreams of one day publicly voicing regret for working with woody allen',\n",
       " 'swiss unable to maintain neutrality toward delicious pastries',\n",
       " '9 things all parents of college kids do but hate to admit',\n",
       " 'thousands of new orleans households still without political power',\n",
       " 'watch underrepo ed story  reuniting families with remains of dead migrants',\n",
       " 'yahoos newfront pulses to steve aokis edm beat',\n",
       " 'look at it its goddamn beautiful',\n",
       " 'how to lose to the islamic state obama administration considers deploying troops to iraq focusing on assad in syria',\n",
       " 'erics bogosians operation nemesis can a genocide ever truly be avenged',\n",
       " 'antarctic observational comic running out of ideas',\n",
       " 'thousands protest in moscow against housing plan',\n",
       " 'new pixar employees required to watch adorable sexual harassment video',\n",
       " 'cosmopolitan releases 40year compendium 812683 ways to please your man',\n",
       " 'row of asterisks spices up otherwise ordinary email',\n",
       " 'this tattoo shop is creating a safe and accepting space for queer bodies',\n",
       " 'sears gold card holder pushing weight around area sears',\n",
       " 'author jeff lindsay says goodbye to serial killer dexter with final novel',\n",
       " 'afterwork drinks enter third excruciating minute',\n",
       " 'koch network spent nearly 400 million in 2015',\n",
       " 'those werent nooses at university of delaware',\n",
       " 'man already has whole sentence lined up for later in conversation',\n",
       " 'area waitress has one hell of an ass on her local man will tell you that right now',\n",
       " '30 unbeleafably adorable gifts for plant lovers',\n",
       " 'cuomo makes surprise afghanistan trip',\n",
       " 'drummers girlfriend thinks he should sing',\n",
       " 'nobody watched matthew mcconaugheys forgotten youtube channel until now',\n",
       " 'pope francis admits god really sta ing to look old',\n",
       " 'what has becoming a parent done to me',\n",
       " 'video  icantbreathe poem on house floor',\n",
       " 'man somehow overcomes alcoholism without jesus',\n",
       " 'donald w bush',\n",
       " 'mom uses full name to refer to bisquick impossibly easy cheeseburger pie',\n",
       " 'congressman calls trump an idiot for using egypt mosque attack to promote border wall',\n",
       " 'luke bryan says confederate flag has become a symbol of racism',\n",
       " 'rich firstgrader buys whole sheet of gold stars',\n",
       " 'we aint germans',\n",
       " 'kentucky governor echoes trump all sides to blame for charlottesville violence',\n",
       " 'how caitlyn jenner is helping me be a better me',\n",
       " 'new apple campaign urges consumers to buy iphone for other hand',\n",
       " 'woman dozing at coffee shop has that dave eggers sex dream again',\n",
       " 'manager of combination taco bellkfc secretly considers it mostly a taco bell',\n",
       " 'could hillary clinton have what it takes to defeat the democrats in 2008',\n",
       " 'wild tales  outstanding black comedy at cannes',\n",
       " 'donald trump prefers violent football so more black players get hu  espn analyst',\n",
       " 'black ribbon in the balsam',\n",
       " 'the buttermilk biscuit recipes you want and need',\n",
       " 'ai weiwei commemorates drowned refugees during berlin film festival',\n",
       " 'the restrictions journalists agreed to in order to attend the koch brothers conference',\n",
       " '7yearold puts on uno face',\n",
       " 'little boy stands tall',\n",
       " 'jake tapper has oneword response to creepy kellyanne conway snl sketch',\n",
       " 'poll shows suppo  for bi h control mandate on eve of cou  ruling',\n",
       " 'death row inmate loses fight over kosher food',\n",
       " 'jada pinkett smith and gabrielle union end feud after 17 years',\n",
       " 'huffpost rise what you need to know on february 10',\n",
       " 'dear mr president a dispatch from bowling green',\n",
       " 'shinto priestess killed by brother during sword attack at tokyo shrine',\n",
       " 'journalists push back on correspondents associations response to michelle wolf',\n",
       " 'nina dobrev addresses her rumored return to vampire diaries',\n",
       " 'theresa may edging towards donald trump scolds john kerry over israel',\n",
       " 'child assured it will be long time before he dies',\n",
       " 'new years eve prank leaves 4yearold glued to mcdonalds toilet',\n",
       " 'prosecutors in tamir rice case bizarrely pointed toy gun at witness lawyers allege',\n",
       " 'whats wrong with this picture for us fight against isis everything',\n",
       " 'afi docs where policy meets a ',\n",
       " 'school bully not so tough since being molested',\n",
       " 'the real mothers of mothers day',\n",
       " 'dad shoots daughter while teaching her about gun safety',\n",
       " '3 unexpected ways to help your kids be mindful about screen time',\n",
       " 'dee bogettis gps guide for living in the moment',\n",
       " 'paul ryan confident american people will warm up to tax plan once they realize life a cruel and meaningless farce',\n",
       " 'wa orn bloodsoaked kosovo would bombing it help',\n",
       " 'starving for a fantasy',\n",
       " 'bill clinton waiting until after primaries to endorse candidate',\n",
       " 'what you should do if you own a volkswagen that was just recalled',\n",
       " 'to read or not to read pa  2',\n",
       " 'hillary clinton loses lead over bernie sanders in new iowa poll',\n",
       " 'several women accuse progressive media executive don hazen of sexual harassment',\n",
       " 'success and still enjoying your happy place',\n",
       " 'last 12 years a real wakeup call for area man',\n",
       " 'pollsters admit they underestimated voters adrenal glands',\n",
       " 'linmanuel miranda freestyles about lifes most annoying minor inconveniences on ellen',\n",
       " 'john lewis wont attend civil rights museum opening because trump is going',\n",
       " 'is trouble brewing for the 2015 npt review conference',\n",
       " 'area man going to go ahead and consider that a date',\n",
       " '4 senators mauled during congressional tiger show',\n",
       " 'huffpost hill  secret service agents really glad dark sunglasses hide bloodshot eyes',\n",
       " 'kite flyer in the zone',\n",
       " 'bacon just one of sprints new downloadable ring scents',\n",
       " 'i photograph to remember',\n",
       " 'us bobsled team pays tribute to late gold medalist steven holcomb',\n",
       " 'among santa fes many vi ues history a  culture hospitality and killer vintage clothing',\n",
       " 'power plan foes from mars backers from venus ea h actually',\n",
       " 'journalists who refuse to take the same nonanswer for an answer',\n",
       " 'nukes and the global schism',\n",
       " 'weird relative at family reunion knows how everyone related to each other',\n",
       " 'negro week at the 19391940 new york worlds fair',\n",
       " 'trump threatens to veto spending bill over border wall funding then signs it',\n",
       " '6 diy stress hacks using whats in your closet',\n",
       " 'the major concern with the phone call with taiwan',\n",
       " 'a weird and wonderful cabaret chronicle karen mason revisits her roots at dont tell mama',\n",
       " 'why companies shouldnt hide the financial risks of climate change',\n",
       " 'the louvre gardens are teeming with rats',\n",
       " 'trump is 1 in the polls and so was the macarena',\n",
       " 'boy george opens up about happiness being a us politics junkie and more',\n",
       " 'area woman decides not to post facebook status that would have tipped gun control debate',\n",
       " 'sprint tmobile ceos merge into grotesque executive hybrid',\n",
       " 'patrick stewa  reads hilariously bad reviews of iconic tourist attractions',\n",
       " 'safeguarding the wellbeing of children',\n",
       " 'the public health threat of private anger',\n",
       " 'target dorm room essentials aisle being browsed exclusively by 30yearold men with studio apa ments',\n",
       " 'suzanne somers named us thighmaster general',\n",
       " 'just a friendly and wildly hot reminder that oscar isaac is playing hamlet',\n",
       " 'a new hbo documentary shows what its really like inside a terror attack',\n",
       " 'watch stories you wont believe from some of the worlds di iest jobs',\n",
       " 'golf sensation jordan spieth loses masters after horrible meltdown danny willett wins',\n",
       " 'first gay couple receives marriage license at jailed kentucky clerks office',\n",
       " 'worlds jews celebrate christmas with ceremonial remurdering of christ',\n",
       " 'john mccain czar hater calls for ebola czar',\n",
       " 'father of trump tower climber also has an impo ant message for you',\n",
       " 'that guy from that one show in rehab',\n",
       " 'sanders hits bill clinton on welfare reform trade',\n",
       " 'white nationalist calls trumps denouncement of hate groups kumbaya nonsense',\n",
       " 'old milwaukee book of world records confirms title for most punches to shoulder',\n",
       " 'new details paint unsettling pictures of london attackers',\n",
       " 'dont ask me to get over my history with breast cancer',\n",
       " 'being a facebook wallflower isnt good for you the social site says',\n",
       " 'woody harrelson spends two hours drawing marijuana leaf on binder',\n",
       " 'burger king franchise owner adds sad little personal touches to restaurant',\n",
       " 'verb to follow noun prepositional phrase to follow',\n",
       " 'a valentine for my best friend my life wouldnt be the same without you',\n",
       " 'the impo ance of being collaborative',\n",
       " 'russian officials scrambling as plan to delegitimize western democracy moving way faster than intended',\n",
       " 'obama so  of freaked out after not receiving single email phone call for entire day',\n",
       " 'adele tweets apology after stage rigging hits glasgow conce goer',\n",
       " 'pastor talking to nonchristian who just lost wife can smell blood',\n",
       " 'religious freedom clauses are point of contention as australia crafts marriage equality laws',\n",
       " 'voters are excited for november despite not really loving the likely nominees',\n",
       " 'everyone in family compliments grandmother on how small and feeble shes gotten',\n",
       " 'eating entire box of donuts not originally pa  of evenings plan',\n",
       " 'white house pretty sure uzbekistan diplomat stole a bunch of soap',\n",
       " 'jared kushner quietly transfers solve middle east crisis to next weeks todo list',\n",
       " '15 years in environment of constant fear somehow fails to rehabilitate prisoner',\n",
       " 'internet personality michael buckley on giving sex tips off broadway',\n",
       " 'legends of new yorks latex ball celebrate the history of voguing',\n",
       " 'man unfo unately sleeps like baby',\n",
       " 'one last ruben studdard reference wafts gently into the cool evening air',\n",
       " 'hubble telescope discovers giant amelia earha  statue on distant planet',\n",
       " 'trump is telling jokes but nobodys laughing',\n",
       " 'hundreds of miniature sean hannitys burst from roger ailes corpse',\n",
       " 'kellie pickler hilariously misses the buzzer in celebrity family feud fail',\n",
       " 'military institutes new dont tell let me guess policy',\n",
       " 'jeb bush insists hes a washington outsider',\n",
       " 'washington post journalist jailed in iran has christmas meal with family',\n",
       " 'coloradans who deregistered after trump request for voter data arent signing up again',\n",
       " 'watch vin diesel say i am groot in different languages',\n",
       " 'a ists stunning image honors the moment one woman defied a neonazi march',\n",
       " 'voters glad they got hope in politicians out of system for next election cycle or two',\n",
       " 'new years resolution  let colleges lead the way to a new normal in cuba',\n",
       " 'paris police arrest second couple over notre dame gas cylinders',\n",
       " 'my 8 favorite beauty products',\n",
       " 'financial burden of cancer can harm quality of life',\n",
       " 'high schooler promises to have mans impregnated daughter home by midnight',\n",
       " 'cnn anchor interviews al jazeera anchor who interviewed libyan rebels',\n",
       " 'the quadruple bottom line its time has come',\n",
       " 'this may be holding you back from repairing a broken relationship',\n",
       " 'in the weeks before trump takes office obamas mad dash to save public lands',\n",
       " 'the changing holiday shopping landscape',\n",
       " 'burger king introduces new thing to throw in front of kids after another hellish day at work',\n",
       " 'this road sign is a lot less helpful than it looks',\n",
       " 'day chalked up as loss by 1015 am',\n",
       " 'australian lawmaker shoots opponents in campaign ad draws ire after orlando',\n",
       " 'kinda creepy peter pan pranks disney world',\n",
       " 'brownribboncampaign reminds us oscar diversity isnt just black and white',\n",
       " 'high school elects gay 45yearold homecoming king for first time in school history',\n",
       " 'george thorogood fan disgusted to learn musician licensed bad to the bone for commercial purposes',\n",
       " 'for americas future engineering needs to diversify',\n",
       " 'darrelle revis to be charged in fight that leaves two men unconscious',\n",
       " 'dont pay another bill until you pay this',\n",
       " 'move to houseboat regretted by third day',\n",
       " 'buick regal named best vehicle in class for idling outside offtrack betting parlor',\n",
       " 'arizona iced tea unveils new 4foottall cans',\n",
       " 'blms alicia garza launches census project to mobilize black political power',\n",
       " 'police audio leaked in killing of unarmed black teen christian taylor',\n",
       " 'for a firsttime marathoner theres strength in numbers',\n",
       " 'hate preachers on qatar campus obama gives qatar undeserved a on fighting incitement',\n",
       " '10thgrade prodigy studying mathematics at 10thgrade level',\n",
       " '3 reminders that can help you raise resilient kids',\n",
       " 'nation horrified to learn about war in afghanistan while reading up on petraeus sex scandal',\n",
       " 'trump relaxes after debate by slipping back into nice warm personal reality',\n",
       " 'area liberal no longer recognizes fanciful wildly inaccurate mental picture of country he lives in',\n",
       " 'update the onion is immediately suspending production on our basketball infographic video directed by brett ratner',\n",
       " 'george foreman grill retires to promote own grill',\n",
       " 'study finds having it all leading indicator that everything will come crashing down',\n",
       " 'shooting at copenhagen synagogue leaves 1 dead 2 officers wounded',\n",
       " 'paris hilton impersonates kim kardashian for kanye west fashion line',\n",
       " 'international space station tented to spray for xenomorphs',\n",
       " 'exboyfriend hopes to still be terrible incompatible friends',\n",
       " 'teen accepted into 113 colleges chooses full ride to hbcu',\n",
       " 'transgender lawmaker danica roem trump shows theres no barrier to getting elected',\n",
       " 'shit friend just said something to obnoxious drunk guy on bus',\n",
       " 'weekend encounter with coworker never acknowledged',\n",
       " 'study 74 of home contractors end up accidentally walling themselves in during housing construction',\n",
       " 'goth kid builds scaryass birdhouse',\n",
       " 'outbreak of vavavooms traced to miniski wearing blonde',\n",
       " 'grandmother cant believe they let people with tattoos on price is right',\n",
       " 'the 7th heaven cast reunites for the first time in 8 years',\n",
       " 'are we meeting the needs of our nations rich',\n",
       " 'there is nothing libe arian about conservatives',\n",
       " 'yorkshire terrier monogrammed',\n",
       " 'pope cleans up dead angel who flew into sistine chapel window',\n",
       " 'remainder of ross ice shelf now in smithsonian freezer',\n",
       " 'panicked agriculture secretary momentarily forgets what corn is',\n",
       " 'an introve s guide to throwing a solid holiday pa y',\n",
       " 'area client would like a different font',\n",
       " 'fifth harmonys lauren jauregui blasts toxic homophobia in poignant twitter exchange',\n",
       " 'usda admits weight loss not possible for people who dont like salmon',\n",
       " 'six teenagers in britain suspected of killing polish man in hate crime',\n",
       " 'cubans new dictator doing it all wrong',\n",
       " 'obama fills out lukewarm glassdoor review after exiting presidency',\n",
       " 'bill henderson jazz vocalist and actor dies at 90',\n",
       " 'very specific food pyramid recommends two to three shrimp scampis per year',\n",
       " 'alaskan gray wolf cant believe no one told him hes got snow on nose',\n",
       " 'how to emotionally recover from the election',\n",
       " 'man always taking good mood out on friends',\n",
       " '6 essentials for a trashfree lunch',\n",
       " 'candidate delighted to be in chair factory',\n",
       " 'woman knows exactly which knife shed grab out of cutlery drawer in event of home invasion',\n",
       " 'bored predator drone pumps a few rounds into mountain goat',\n",
       " '30yearold nes still wasting life playing video games',\n",
       " 'schools enact positive change with drama therapy',\n",
       " 'world map rearranged to accommodate poor geography skills of americansnations ordered alphabetically',\n",
       " 'woman leaving meeting worried she came off as too competent',\n",
       " 'professor threatened with firing says wheaton college is changing the rules',\n",
       " 'jfk jr celebrates 10000th coupling',\n",
       " 'man with stupid breaks off codependent relationship',\n",
       " 'internet popup quiz insulting',\n",
       " 'suspension of disbelief goes unrewarded',\n",
       " 'the late show updated trumps election night speech with annotations',\n",
       " 'ancient flying beast named after avatar creature',\n",
       " 'tennessee senate passes a bill to erect a memorial to victims of abo ion',\n",
       " 'repo  no one at white castle wants to make friends',\n",
       " '45yearold to help candidate understand youth vote',\n",
       " 'word millennials forced into headline to boost pageviews',\n",
       " 'dozens of social issues thankful they never had to go toetotoe with muhammad ali',\n",
       " 'fox news struggling to attract younger 6075 demographic',\n",
       " 'after a string of accidents uhaul announces closure of aircraft division',\n",
       " 'why stakes is too high to bother with white tears',\n",
       " 'growing up with the holocaust as a writer',\n",
       " 'the surprising way horses can help ease alzheimers symptoms',\n",
       " 'beaver cant wait to get sta ed on dam',\n",
       " 'huffpollster republican women really dont like trump',\n",
       " 'what we know so far about the new white house org cha ',\n",
       " 'morbidly obese man enjoys disabled privileges with motorized ca ',\n",
       " 'no one will push you into running for president jeb bush softly whispers before tucking in sleeping grandson',\n",
       " 'madcap romp escalates into zany hijinks',\n",
       " '5 longevity secrets from the worlds healthiest cultures',\n",
       " '8 perks of being divorced during the holidays',\n",
       " 'nation healed by awesome spo s highlight',\n",
       " 'why moms demand action will pa icipate in day without a woman',\n",
       " 'hillary clintons asian american outreach director leaving campaign',\n",
       " 'interview with louise munson playwright of luigi',\n",
       " 'suspect repo edly arrested over explosives sent to washington dc area',\n",
       " 'writer calls on women of color to divest from lena dunham after controversy',\n",
       " 'area dad will only watch things in hd',\n",
       " 'the unexpected place youre probably overeating',\n",
       " 'don lemon on sean spicer everyone is dumber for having listened to that',\n",
       " 'kansas state refused to investigate sexual assaults because they happened offcampus lawsuit says',\n",
       " 'nfl player avery williamson wears 911 cleats despite threat of fine',\n",
       " 'trump confidant floats crazy rbgformerrickgarland scotus swap',\n",
       " 'us continues proud tradition of  diversity on front lines',\n",
       " 'south korean president meets no h koreas kim jong un to talk trump summit',\n",
       " 'nations financial advisors recommend capturing magical creature that grants wishes',\n",
       " 'michelle ross and carson on the wild ride to rupauls drag race',\n",
       " 'content writer awkwardly shows parents around website where he works',\n",
       " 'possible viking find could rewrite no h american history',\n",
       " 'new details emerge in forgotten murder that snared attorney highway patrolmen',\n",
       " 'watching faces of students as they finish the lottery highlight of english teachers year',\n",
       " 'no one in prison sure how jared fogle still eating subway every meal',\n",
       " 'sean spicer says donald trump is a champion of first amendment',\n",
       " 'uncovered california community college students quest for mental health services',\n",
       " 'debra messing doesnt want you to freak out about a will  grace revival just yet update',\n",
       " 'nation delighted as many famous people in same room together',\n",
       " 'area man winded after pa icularly lengthy wendys order',\n",
       " 'the 6 real reasons im happy to be married',\n",
       " 'biden busted in dnc parking lot selling bootleg im with her tshi s',\n",
       " 'white person waved past beeping walgreens security barrier',\n",
       " 'khloe kardashian says no one was doing cocaine at kylie jenners graduation pa y',\n",
       " 'genuine happiness now seen only on game shows',\n",
       " 'chewbacca just got himself a chewbacca mom mask',\n",
       " 'yet another donald trump pick has a habit of spreading dangerous conspiracy theories',\n",
       " 'dog trying its absolute hardest',\n",
       " 'mississippi bans soft drinks smaller than 20 ounces',\n",
       " 'explosion at fedex facility outside san antonio may be linked to austin bombings fbi says',\n",
       " 'cupid cop gave out roses cards on valentines day instead of tickets',\n",
       " 'fox news host disavows internment camps after panelists suggest rounding up muslims',\n",
       " 'reince priebus says its too late for a new candidate to stop trump',\n",
       " 'minnesota caf charges 35 cent fee to protest minimum wage hike',\n",
       " 'asshole from plane greeted at baggage claim by whole family',\n",
       " 'an american dreamer in the age of trump',\n",
       " 'hillary clinton celebrates confederate flags removal at mlk day ceremony',\n",
       " 'david brooks obama has a manhood problem in the middle east',\n",
       " 'why terrorists attack us',\n",
       " 'everyone proud of grandma for staying awake',\n",
       " 'the nypd has secretly been spying on cell phones since 2008',\n",
       " 'republicans urge obama administration to crack down on sanctuary cities',\n",
       " 'floor plan of retirement community 90 defibrillator locations',\n",
       " 'voters in 14 states navigating new rules while trying to cast ballots',\n",
       " 'arne duncan stressed about preparing for standardized secretary of education exam',\n",
       " 'tom brokaw touched so many women would go out of their way to defend filthy old perve  like himself',\n",
       " 'stop complaining about the evolution of text language period',\n",
       " 'halfdressed man frantically scrambles out of home after hearing toyotathon deals wont last long',\n",
       " 'tech is the future repo s local dad',\n",
       " 'trump fulfills campaign promise of pushing major immigration decision on someone else so he can watch tv',\n",
       " 'communication matters getting your message out',\n",
       " 'son surprised dad knows johnny cash song',\n",
       " 'man suddenly regretting asking to be taken seriously by peers',\n",
       " 'elevenyearold has miniski  pumps vague notion of what sex is',\n",
       " 'cinemax director wins award for skinematography',\n",
       " 'doctor unable to hide his excitement from patient with ultrarare disease',\n",
       " 'dozens injured after trains collide in pennsylvania',\n",
       " 'ed sheeran sang chasing cars at a wedding and now were swooning',\n",
       " 'game of thrones producers reveal series moved beyond shows written script halfway through current season',\n",
       " 'girls scouts announces theyll never ever let gross fucking boys in',\n",
       " 'un rebukes trumps jerusalem move in overwhelming vote',\n",
       " 'fathers day tribute to a family man',\n",
       " 'white house this is not the geologic era to debate gun control',\n",
       " 'professors try to figure out what bae and on fleek mean',\n",
       " 'house republican spending bill seeks to block obamas carbon rules',\n",
       " 'fred durst spray paints limp bizkit on bridge',\n",
       " 'democrats shouldnt panic over one poll showing donald trump ahead',\n",
       " 'bored kim jongun stacks entire no h korean populace into human pyramid to kill time',\n",
       " 'how humans are laying out the welcome mat for mosquitoes and the diseases they carry',\n",
       " 'jennifer lawrence honored robe  de niro at the glaad media awards the only way she knows how',\n",
       " '11 unexpected ways to use grapefruit',\n",
       " 'study 90 of all meowing comes from owners trying to get cats to meow back',\n",
       " '14 photos that show the special bond between moms and daughters',\n",
       " 'star wars fans are freaking out because jedi in the last jedi is plural',\n",
       " 'study headaches are the bodys way of communicating it wants pills',\n",
       " 'how jimmy ca er learned to make his wife rosalynn a full pa ner',\n",
       " 'gop congressman complains women are in my grill over obamacare repeal',\n",
       " 'religious leaders groups are appalled by trumps immigration orders',\n",
       " 'lice having blast trying out different wigs at costume shop',\n",
       " '10 places you wouldnt have gone 10 years ago',\n",
       " 'chicagos top prosecutor will not try the officer who killed laquan mcdonald',\n",
       " 'big eyes is about the most quiet feminist youve ever met',\n",
       " 'bloomberg gadfly debuts in bid to shakeup financial commentary space',\n",
       " 'harry reid republicans are acting as puppets for the nra',\n",
       " 'little tobacco hit with 35 hundred lawsuit',\n",
       " 'women in business qa rebecca henderson group president randstad professional solutions',\n",
       " 'mike pence disappointed in the 200000 husbands and fathers who permitted women to attend march',\n",
       " 'jeff flake delivers searing critical applause for trump during state of the union',\n",
       " 'michelle obama explains in no unce ain terms why she wont run for office',\n",
       " 'republican food stamp bill would cut benefits but not the size of government',\n",
       " 'russians mint in trump we trust coin ahead of us inauguration',\n",
       " 'kristen wiigs fake trailer from jimmy kimmel needs to be made into a real movie',\n",
       " 'patients with limited english are more likely to return to the er',\n",
       " 'dear baby boomers step aside',\n",
       " 'dont spend a cent on bitcoin until you see john olivers cryptocurrency warning',\n",
       " 'celebrities mourn anne meara on twitter after news of her death',\n",
       " 'heres what you need to know about obamacare enrollment this year',\n",
       " 'relationship expe s recommend single women try bathing in open stream until suitor glimpses them through trees',\n",
       " 'married couple longs for days when they only quietly resented one another',\n",
       " 'group of friends chanting shots make compelling point',\n",
       " 'blind date pronounces every syllable of word comfo able',\n",
       " 'to hope again',\n",
       " 'the sciencebacked reason to see your therapist in the morning',\n",
       " 'turkish president no muslim family should engage in bi h control',\n",
       " 'claire danes is expecting baby number two with hugh dancy',\n",
       " 'vlogger shamed in walma  fitting room because she might stretch clothes',\n",
       " 'at the university of texas  echoes of its confederate past reverberate in the present',\n",
       " 'trump hints at obamacare replacement that would look nothing like what republicans have in mind',\n",
       " 'badass engagement ring also tells the time and temperature',\n",
       " 'director paul feig says men have to speak out after weinstein sexual assault allegations',\n",
       " 'adve ising firm unveils new muteresistant commercials',\n",
       " 'rookie justice gorsuch assigned to supreme cou  overnight shift',\n",
       " 'mike pence takes oath of office as countrys next vice president',\n",
       " 'rex tillerson blindsided by news he still worked for state depa ment',\n",
       " 'fight over obamas treasury nominee underscores battles within democratic pa y',\n",
       " 'rommel hummel dominate parents christmas list',\n",
       " 'a big myth about how to spot a narcissist',\n",
       " 'dollhousing crisis set to worsen mean older brother says',\n",
       " 'slushing in utah at the end of ski season',\n",
       " 'here are the candidates voters think can actually win in november',\n",
       " 'missing maryland toddlers body found in ohio creek',\n",
       " 'terrified jeb bush beginning to fade from visible spectrum',\n",
       " 'adele celebrates titanicthemed 30th bi hday',\n",
       " 'changing weather inspires area conversationalist',\n",
       " 'fou h tool discovered',\n",
       " 'texas public school districts may now store not trash leftover food',\n",
       " 'hentai message board features surprisingly closeknit suppo ive community',\n",
       " 'hootie and the blowfish breaking down racial barriers between black white pussies',\n",
       " 'study snapping three times leading way to recall movies actors',\n",
       " 'donald trump insists he has the complete power to pardon as russia probe persists',\n",
       " 'syria ceasefire backed by russia and turkey holds after initial clashes',\n",
       " 'french parliament debates deep sleep bill for end of life',\n",
       " 'reality risk  reward is us kids tv ripe for authenticity and autonomy',\n",
       " 'transcript emails show how tabloid repo ers helped harvey weinstein get di  on women',\n",
       " 'trumps americaa not so shining city on the hill',\n",
       " 'photographer assumes endless identities in her mothers clothes',\n",
       " 'stripper surprised she only talked to 2 homicide detectives today',\n",
       " 'justin bieber fan jealous of anne frank',\n",
       " 'elevate your leadership in 2016',\n",
       " 'womans facedown halloween dummy gets repeated 911 calls',\n",
       " '259 new objects now available in gummi form',\n",
       " 'kremlin agent not even going to bother trying to compromise trump staffer who will be forced to resign in few months',\n",
       " 'the future is blurry',\n",
       " 'heres a pgrated facebook alternative for evangelical christians',\n",
       " 'donald trump is unqualified to be president majority of american voters say',\n",
       " 'body given false hope with first piece of fruit in 9 days',\n",
       " 'missouri democrats filibuster for 39 hours to stop antigay religious freedom bill',\n",
       " '9yearold repo er told to just be cute has landed a book deal',\n",
       " 'this craigslist missed connection is delightfully feminist',\n",
       " 'african nation not wa orn',\n",
       " 'three chinese tourists dead six people missing in borneo shipwreck',\n",
       " 'god announces successful test of first category 7 hurricane',\n",
       " 'lone geek sits off by self reading the silmarillion throughout recess',\n",
       " 'this is what happens when you ask arya stark to write your yearbook quote',\n",
       " 'alex jones pleads with sandy hook parents to imagine pain an expensive lawsuit would cause him',\n",
       " 'rescue animals get the help they need thanks to online donations',\n",
       " 'goldfish cant stand bowlmate',\n",
       " 'john legend speaks to the crack in the system caused by mass incarceration',\n",
       " 'police launch investigation after video appears to show cop shoving man in wheelchair into street',\n",
       " 'nasa discovers distant planet located outside funding capabilities',\n",
       " 'judge who asked why couldnt you keep knees together resigns',\n",
       " 'white house prepares to send congress 15 billion spending cuts package',\n",
       " 'gop race heads to south carolina known for di y tricks and brawls',\n",
       " 'kinderga ener allegedly barred from school because she has two moms',\n",
       " 'george will trashes bill oreilly wise he is not',\n",
       " 'ohio voters will get to decide on legalizing marijuana',\n",
       " 'the best ifttt recipes to make the most of your vacation',\n",
       " 'last living california raisin dies of prostate cancer',\n",
       " 'microsoft debuts surface book its first laptop plus other new gizmos',\n",
       " 'fda confirms psilocybin reduces risk of mindlessly following societys rules like fucking lemming',\n",
       " 'fou h death in new york legionnaires disease outbreak',\n",
       " 'national weather service to give hurricanes full names',\n",
       " 'william h macy has ultimate dad moment dancing with his daughter before prom',\n",
       " 'warm temperatures bring hot deals on winter gear',\n",
       " 'sarah huckabee sanders flatly rejects jim acostas asse ion that hes jim acosta',\n",
       " 'reno orders investigation of us depa ment of corruption',\n",
       " 'billions of electric signals between neurons allow brain to imagine what michael imperioli looks like',\n",
       " 'unapologetic selfpo raits that shatter perceptions of disability',\n",
       " 'scientists discover eating serves function other than easing anxiety',\n",
       " 'libraries burning from sarajevo to mosul',\n",
       " 'what i realized after years of searching for my soulmate',\n",
       " 'astoria characters the charity stager',\n",
       " 'dolby theatre usher throws out matt damon for attempting to film oscars with camcorder',\n",
       " '600pound butter cow sculpture wins iowa caucus',\n",
       " 'bill oreilly tearfully packs up framed upski  photos from desk',\n",
       " 'trumps army secretary pick is victim of gay gestapo right wing activists claim',\n",
       " 'candidates preparing for colorado debate conditions with highaltitude speaking drills',\n",
       " 'the drama desks all the way mms and more',\n",
       " 'magazine editor undergoes sleek new redesign',\n",
       " 'town nervously welcomes veteran back home',\n",
       " 'local student also a poet',\n",
       " 'its a wonderful life was almost too racy for theaters',\n",
       " 'ariana grande performs break free on snl',\n",
       " 'unconditional love given to 15yearold who just called mom a bitch in middle of hollister',\n",
       " 'newborn prince of cambridge begins consolidating power by having family imprisoned in tower of london',\n",
       " 'congress abandons wikiconstitution',\n",
       " '2016 all about the electorate',\n",
       " 'selfdefense instructor keeps a couple of secrets to himself',\n",
       " 'adorable puppy nets owner handjob',\n",
       " '10 super annoying things we cant help but whine about',\n",
       " 'man bitten by radioactive sloth does the lyingaroundallday of 10 normal men',\n",
       " 'quake claims 500 hours',\n",
       " 'teen football recruit makes bold statement about black lives at training camp',\n",
       " '10 of illinois safest cities',\n",
       " 'unconsciousness faked to make anesthesiologist feel better',\n",
       " 'trump hails gorsuch as fierce protector of future amendment allowing president to temporarily suspend right to assemble',\n",
       " 'historical archives two feared dead in nearby childbi h',\n",
       " 'prison warden vows to take away el chapos tunnel privileges if captured',\n",
       " 'mothers precious and misunderstood the many mothers i have met',\n",
       " 'new baby weinstein tapes prepare infants for career in ente ainment law',\n",
       " '5 steps to get you from shy to sociable',\n",
       " 'who were you on 911',\n",
       " ...]"
      ]
     },
     "execution_count": 20,
     "metadata": {
      "tags": []
     },
     "output_type": "execute_result"
    }
   ],
   "source": [
    "x"
   ]
  },
  {
   "cell_type": "code",
   "execution_count": 21,
   "metadata": {
    "colab": {
     "base_uri": "https://localhost:8080/"
    },
    "id": "GMwKlv-SooaK",
    "outputId": "b1a7577c-c0aa-4dab-ab31-c589cb7fe03a"
   },
   "outputs": [
    {
     "data": {
      "text/plain": [
       "[0,\n",
       " 0,\n",
       " 1,\n",
       " 1,\n",
       " 0,\n",
       " 0,\n",
       " 0,\n",
       " 0,\n",
       " 1,\n",
       " 0,\n",
       " 0,\n",
       " 0,\n",
       " 0,\n",
       " 0,\n",
       " 0,\n",
       " 1,\n",
       " 1,\n",
       " 1,\n",
       " 0,\n",
       " 0,\n",
       " 1,\n",
       " 1,\n",
       " 0,\n",
       " 0,\n",
       " 0,\n",
       " 0,\n",
       " 0,\n",
       " 1,\n",
       " 1,\n",
       " 0,\n",
       " 0,\n",
       " 0,\n",
       " 0,\n",
       " 0,\n",
       " 0,\n",
       " 0,\n",
       " 1,\n",
       " 0,\n",
       " 0,\n",
       " 1,\n",
       " 0,\n",
       " 0,\n",
       " 1,\n",
       " 0,\n",
       " 0,\n",
       " 1,\n",
       " 0,\n",
       " 1,\n",
       " 1,\n",
       " 1,\n",
       " 0,\n",
       " 0,\n",
       " 1,\n",
       " 0,\n",
       " 0,\n",
       " 1,\n",
       " 1,\n",
       " 1,\n",
       " 0,\n",
       " 0,\n",
       " 1,\n",
       " 1,\n",
       " 1,\n",
       " 1,\n",
       " 1,\n",
       " 1,\n",
       " 0,\n",
       " 0,\n",
       " 1,\n",
       " 0,\n",
       " 1,\n",
       " 0,\n",
       " 1,\n",
       " 0,\n",
       " 0,\n",
       " 0,\n",
       " 1,\n",
       " 0,\n",
       " 1,\n",
       " 0,\n",
       " 0,\n",
       " 0,\n",
       " 1,\n",
       " 0,\n",
       " 1,\n",
       " 1,\n",
       " 1,\n",
       " 0,\n",
       " 0,\n",
       " 0,\n",
       " 0,\n",
       " 1,\n",
       " 1,\n",
       " 0,\n",
       " 1,\n",
       " 1,\n",
       " 0,\n",
       " 0,\n",
       " 0,\n",
       " 0,\n",
       " 0,\n",
       " 0,\n",
       " 1,\n",
       " 0,\n",
       " 0,\n",
       " 0,\n",
       " 1,\n",
       " 0,\n",
       " 1,\n",
       " 0,\n",
       " 0,\n",
       " 1,\n",
       " 0,\n",
       " 1,\n",
       " 1,\n",
       " 0,\n",
       " 0,\n",
       " 1,\n",
       " 0,\n",
       " 0,\n",
       " 1,\n",
       " 1,\n",
       " 1,\n",
       " 1,\n",
       " 0,\n",
       " 0,\n",
       " 0,\n",
       " 0,\n",
       " 1,\n",
       " 0,\n",
       " 0,\n",
       " 0,\n",
       " 0,\n",
       " 1,\n",
       " 0,\n",
       " 1,\n",
       " 0,\n",
       " 0,\n",
       " 0,\n",
       " 0,\n",
       " 0,\n",
       " 0,\n",
       " 1,\n",
       " 1,\n",
       " 0,\n",
       " 0,\n",
       " 0,\n",
       " 1,\n",
       " 0,\n",
       " 1,\n",
       " 0,\n",
       " 0,\n",
       " 0,\n",
       " 0,\n",
       " 1,\n",
       " 1,\n",
       " 1,\n",
       " 1,\n",
       " 1,\n",
       " 0,\n",
       " 0,\n",
       " 0,\n",
       " 1,\n",
       " 1,\n",
       " 0,\n",
       " 1,\n",
       " 0,\n",
       " 0,\n",
       " 0,\n",
       " 0,\n",
       " 1,\n",
       " 0,\n",
       " 1,\n",
       " 0,\n",
       " 0,\n",
       " 0,\n",
       " 0,\n",
       " 0,\n",
       " 0,\n",
       " 0,\n",
       " 1,\n",
       " 1,\n",
       " 1,\n",
       " 0,\n",
       " 0,\n",
       " 1,\n",
       " 1,\n",
       " 0,\n",
       " 1,\n",
       " 0,\n",
       " 0,\n",
       " 1,\n",
       " 1,\n",
       " 1,\n",
       " 0,\n",
       " 1,\n",
       " 1,\n",
       " 0,\n",
       " 1,\n",
       " 0,\n",
       " 1,\n",
       " 1,\n",
       " 1,\n",
       " 0,\n",
       " 1,\n",
       " 1,\n",
       " 1,\n",
       " 0,\n",
       " 0,\n",
       " 0,\n",
       " 1,\n",
       " 1,\n",
       " 0,\n",
       " 0,\n",
       " 0,\n",
       " 1,\n",
       " 0,\n",
       " 0,\n",
       " 1,\n",
       " 1,\n",
       " 0,\n",
       " 0,\n",
       " 0,\n",
       " 1,\n",
       " 0,\n",
       " 1,\n",
       " 0,\n",
       " 1,\n",
       " 0,\n",
       " 0,\n",
       " 1,\n",
       " 1,\n",
       " 0,\n",
       " 0,\n",
       " 0,\n",
       " 0,\n",
       " 0,\n",
       " 1,\n",
       " 0,\n",
       " 1,\n",
       " 0,\n",
       " 0,\n",
       " 0,\n",
       " 0,\n",
       " 1,\n",
       " 0,\n",
       " 0,\n",
       " 1,\n",
       " 1,\n",
       " 0,\n",
       " 0,\n",
       " 1,\n",
       " 0,\n",
       " 0,\n",
       " 0,\n",
       " 0,\n",
       " 1,\n",
       " 1,\n",
       " 0,\n",
       " 0,\n",
       " 1,\n",
       " 0,\n",
       " 0,\n",
       " 0,\n",
       " 0,\n",
       " 0,\n",
       " 0,\n",
       " 0,\n",
       " 0,\n",
       " 1,\n",
       " 0,\n",
       " 0,\n",
       " 0,\n",
       " 1,\n",
       " 0,\n",
       " 1,\n",
       " 1,\n",
       " 0,\n",
       " 0,\n",
       " 1,\n",
       " 1,\n",
       " 0,\n",
       " 0,\n",
       " 0,\n",
       " 1,\n",
       " 1,\n",
       " 0,\n",
       " 0,\n",
       " 0,\n",
       " 0,\n",
       " 0,\n",
       " 1,\n",
       " 1,\n",
       " 1,\n",
       " 0,\n",
       " 1,\n",
       " 1,\n",
       " 0,\n",
       " 0,\n",
       " 1,\n",
       " 0,\n",
       " 1,\n",
       " 1,\n",
       " 1,\n",
       " 0,\n",
       " 1,\n",
       " 1,\n",
       " 0,\n",
       " 0,\n",
       " 1,\n",
       " 0,\n",
       " 0,\n",
       " 0,\n",
       " 1,\n",
       " 0,\n",
       " 0,\n",
       " 0,\n",
       " 1,\n",
       " 0,\n",
       " 0,\n",
       " 0,\n",
       " 1,\n",
       " 0,\n",
       " 0,\n",
       " 0,\n",
       " 0,\n",
       " 1,\n",
       " 0,\n",
       " 1,\n",
       " 0,\n",
       " 1,\n",
       " 0,\n",
       " 1,\n",
       " 1,\n",
       " 1,\n",
       " 0,\n",
       " 0,\n",
       " 0,\n",
       " 1,\n",
       " 1,\n",
       " 0,\n",
       " 1,\n",
       " 1,\n",
       " 1,\n",
       " 1,\n",
       " 0,\n",
       " 1,\n",
       " 1,\n",
       " 1,\n",
       " 1,\n",
       " 1,\n",
       " 0,\n",
       " 0,\n",
       " 0,\n",
       " 0,\n",
       " 1,\n",
       " 0,\n",
       " 0,\n",
       " 0,\n",
       " 0,\n",
       " 1,\n",
       " 0,\n",
       " 0,\n",
       " 1,\n",
       " 0,\n",
       " 1,\n",
       " 0,\n",
       " 1,\n",
       " 0,\n",
       " 0,\n",
       " 0,\n",
       " 1,\n",
       " 0,\n",
       " 1,\n",
       " 0,\n",
       " 0,\n",
       " 0,\n",
       " 0,\n",
       " 0,\n",
       " 0,\n",
       " 1,\n",
       " 1,\n",
       " 1,\n",
       " 0,\n",
       " 1,\n",
       " 0,\n",
       " 1,\n",
       " 0,\n",
       " 1,\n",
       " 1,\n",
       " 0,\n",
       " 1,\n",
       " 1,\n",
       " 1,\n",
       " 0,\n",
       " 0,\n",
       " 1,\n",
       " 0,\n",
       " 0,\n",
       " 1,\n",
       " 0,\n",
       " 0,\n",
       " 0,\n",
       " 0,\n",
       " 0,\n",
       " 0,\n",
       " 0,\n",
       " 0,\n",
       " 0,\n",
       " 0,\n",
       " 1,\n",
       " 0,\n",
       " 0,\n",
       " 1,\n",
       " 0,\n",
       " 0,\n",
       " 0,\n",
       " 1,\n",
       " 0,\n",
       " 1,\n",
       " 1,\n",
       " 0,\n",
       " 0,\n",
       " 0,\n",
       " 1,\n",
       " 0,\n",
       " 0,\n",
       " 1,\n",
       " 1,\n",
       " 1,\n",
       " 0,\n",
       " 0,\n",
       " 1,\n",
       " 0,\n",
       " 1,\n",
       " 0,\n",
       " 0,\n",
       " 0,\n",
       " 0,\n",
       " 1,\n",
       " 0,\n",
       " 1,\n",
       " 1,\n",
       " 1,\n",
       " 0,\n",
       " 0,\n",
       " 1,\n",
       " 1,\n",
       " 1,\n",
       " 1,\n",
       " 0,\n",
       " 1,\n",
       " 1,\n",
       " 0,\n",
       " 0,\n",
       " 0,\n",
       " 0,\n",
       " 0,\n",
       " 0,\n",
       " 1,\n",
       " 0,\n",
       " 0,\n",
       " 1,\n",
       " 0,\n",
       " 1,\n",
       " 1,\n",
       " 1,\n",
       " 0,\n",
       " 1,\n",
       " 0,\n",
       " 0,\n",
       " 1,\n",
       " 1,\n",
       " 1,\n",
       " 0,\n",
       " 1,\n",
       " 1,\n",
       " 0,\n",
       " 0,\n",
       " 1,\n",
       " 0,\n",
       " 0,\n",
       " 0,\n",
       " 1,\n",
       " 1,\n",
       " 1,\n",
       " 1,\n",
       " 1,\n",
       " 0,\n",
       " 0,\n",
       " 1,\n",
       " 1,\n",
       " 0,\n",
       " 0,\n",
       " 0,\n",
       " 1,\n",
       " 1,\n",
       " 0,\n",
       " 0,\n",
       " 0,\n",
       " 0,\n",
       " 1,\n",
       " 1,\n",
       " 0,\n",
       " 1,\n",
       " 0,\n",
       " 0,\n",
       " 0,\n",
       " 1,\n",
       " 0,\n",
       " 1,\n",
       " 0,\n",
       " 1,\n",
       " 1,\n",
       " 0,\n",
       " 1,\n",
       " 1,\n",
       " 0,\n",
       " 0,\n",
       " 1,\n",
       " 1,\n",
       " 0,\n",
       " 1,\n",
       " 0,\n",
       " 1,\n",
       " 1,\n",
       " 0,\n",
       " 1,\n",
       " 0,\n",
       " 0,\n",
       " 1,\n",
       " 0,\n",
       " 0,\n",
       " 1,\n",
       " 0,\n",
       " 1,\n",
       " 1,\n",
       " 1,\n",
       " 0,\n",
       " 1,\n",
       " 0,\n",
       " 1,\n",
       " 0,\n",
       " 0,\n",
       " 1,\n",
       " 1,\n",
       " 0,\n",
       " 0,\n",
       " 1,\n",
       " 0,\n",
       " 1,\n",
       " 0,\n",
       " 0,\n",
       " 1,\n",
       " 0,\n",
       " 1,\n",
       " 0,\n",
       " 0,\n",
       " 1,\n",
       " 0,\n",
       " 0,\n",
       " 0,\n",
       " 1,\n",
       " 1,\n",
       " 1,\n",
       " 1,\n",
       " 0,\n",
       " 0,\n",
       " 0,\n",
       " 0,\n",
       " 0,\n",
       " 0,\n",
       " 1,\n",
       " 0,\n",
       " 0,\n",
       " 0,\n",
       " 0,\n",
       " 0,\n",
       " 0,\n",
       " 0,\n",
       " 0,\n",
       " 0,\n",
       " 0,\n",
       " 0,\n",
       " 1,\n",
       " 0,\n",
       " 0,\n",
       " 0,\n",
       " 0,\n",
       " 1,\n",
       " 0,\n",
       " 0,\n",
       " 0,\n",
       " 0,\n",
       " 1,\n",
       " 1,\n",
       " 0,\n",
       " 1,\n",
       " 0,\n",
       " 0,\n",
       " 0,\n",
       " 0,\n",
       " 0,\n",
       " 1,\n",
       " 1,\n",
       " 0,\n",
       " 0,\n",
       " 0,\n",
       " 1,\n",
       " 1,\n",
       " 0,\n",
       " 1,\n",
       " 1,\n",
       " 0,\n",
       " 0,\n",
       " 0,\n",
       " 0,\n",
       " 0,\n",
       " 0,\n",
       " 1,\n",
       " 0,\n",
       " 0,\n",
       " 0,\n",
       " 0,\n",
       " 0,\n",
       " 0,\n",
       " 0,\n",
       " 0,\n",
       " 0,\n",
       " 1,\n",
       " 1,\n",
       " 0,\n",
       " 0,\n",
       " 0,\n",
       " 1,\n",
       " 1,\n",
       " 0,\n",
       " 0,\n",
       " 0,\n",
       " 0,\n",
       " 0,\n",
       " 1,\n",
       " 0,\n",
       " 0,\n",
       " 1,\n",
       " 0,\n",
       " 0,\n",
       " 1,\n",
       " 0,\n",
       " 0,\n",
       " 0,\n",
       " 1,\n",
       " 1,\n",
       " 1,\n",
       " 0,\n",
       " 0,\n",
       " 1,\n",
       " 1,\n",
       " 0,\n",
       " 1,\n",
       " 0,\n",
       " 0,\n",
       " 1,\n",
       " 1,\n",
       " 1,\n",
       " 1,\n",
       " 1,\n",
       " 0,\n",
       " 0,\n",
       " 1,\n",
       " 1,\n",
       " 1,\n",
       " 0,\n",
       " 1,\n",
       " 0,\n",
       " 1,\n",
       " 0,\n",
       " 0,\n",
       " 0,\n",
       " 0,\n",
       " 0,\n",
       " 1,\n",
       " 0,\n",
       " 0,\n",
       " 0,\n",
       " 0,\n",
       " 1,\n",
       " 1,\n",
       " 0,\n",
       " 0,\n",
       " 0,\n",
       " 0,\n",
       " 1,\n",
       " 0,\n",
       " 1,\n",
       " 0,\n",
       " 0,\n",
       " 0,\n",
       " 1,\n",
       " 1,\n",
       " 0,\n",
       " 0,\n",
       " 0,\n",
       " 1,\n",
       " 1,\n",
       " 1,\n",
       " 0,\n",
       " 0,\n",
       " 0,\n",
       " 0,\n",
       " 1,\n",
       " 0,\n",
       " 1,\n",
       " 1,\n",
       " 1,\n",
       " 1,\n",
       " 1,\n",
       " 1,\n",
       " 0,\n",
       " 0,\n",
       " 1,\n",
       " 1,\n",
       " 0,\n",
       " 0,\n",
       " 1,\n",
       " 1,\n",
       " 1,\n",
       " 1,\n",
       " 1,\n",
       " 1,\n",
       " 0,\n",
       " 1,\n",
       " 0,\n",
       " 1,\n",
       " 1,\n",
       " 1,\n",
       " 1,\n",
       " 0,\n",
       " 1,\n",
       " 0,\n",
       " 1,\n",
       " 0,\n",
       " 1,\n",
       " 1,\n",
       " 0,\n",
       " 1,\n",
       " 1,\n",
       " 0,\n",
       " 1,\n",
       " 0,\n",
       " 1,\n",
       " 1,\n",
       " 1,\n",
       " 1,\n",
       " 0,\n",
       " 1,\n",
       " 1,\n",
       " 0,\n",
       " 1,\n",
       " 1,\n",
       " 1,\n",
       " 1,\n",
       " 0,\n",
       " 0,\n",
       " 0,\n",
       " 1,\n",
       " 1,\n",
       " 1,\n",
       " 1,\n",
       " 1,\n",
       " 1,\n",
       " 0,\n",
       " 0,\n",
       " 0,\n",
       " 1,\n",
       " 0,\n",
       " 0,\n",
       " 1,\n",
       " 1,\n",
       " 1,\n",
       " 0,\n",
       " 0,\n",
       " 1,\n",
       " 0,\n",
       " 0,\n",
       " 0,\n",
       " 0,\n",
       " 0,\n",
       " 1,\n",
       " 0,\n",
       " 0,\n",
       " 0,\n",
       " 0,\n",
       " 0,\n",
       " 1,\n",
       " 0,\n",
       " 1,\n",
       " 0,\n",
       " 1,\n",
       " 0,\n",
       " 0,\n",
       " 1,\n",
       " 1,\n",
       " 0,\n",
       " 0,\n",
       " 0,\n",
       " 1,\n",
       " 1,\n",
       " 0,\n",
       " 1,\n",
       " 1,\n",
       " 0,\n",
       " 1,\n",
       " 0,\n",
       " 0,\n",
       " 1,\n",
       " 1,\n",
       " 0,\n",
       " 0,\n",
       " 0,\n",
       " 0,\n",
       " 0,\n",
       " 1,\n",
       " 0,\n",
       " 0,\n",
       " 0,\n",
       " 0,\n",
       " 1,\n",
       " 0,\n",
       " 0,\n",
       " 1,\n",
       " 0,\n",
       " 1,\n",
       " 1,\n",
       " 0,\n",
       " 1,\n",
       " 1,\n",
       " 1,\n",
       " 0,\n",
       " 1,\n",
       " 1,\n",
       " 1,\n",
       " 1,\n",
       " 1,\n",
       " 0,\n",
       " 0,\n",
       " 1,\n",
       " 1,\n",
       " 0,\n",
       " 0,\n",
       " 1,\n",
       " 0,\n",
       " 0,\n",
       " 1,\n",
       " 0,\n",
       " 1,\n",
       " 0,\n",
       " 0,\n",
       " 0,\n",
       " 1,\n",
       " 0,\n",
       " 0,\n",
       " 1,\n",
       " 0,\n",
       " 0,\n",
       " 0,\n",
       " 1,\n",
       " 0,\n",
       " 0,\n",
       " 0,\n",
       " 0,\n",
       " 0,\n",
       " 1,\n",
       " 0,\n",
       " 1,\n",
       " 1,\n",
       " 0,\n",
       " 0,\n",
       " 0,\n",
       " 0,\n",
       " 0,\n",
       " 0,\n",
       " 0,\n",
       " 0,\n",
       " 0,\n",
       " 1,\n",
       " 1,\n",
       " 1,\n",
       " 1,\n",
       " 0,\n",
       " 0,\n",
       " 0,\n",
       " 0,\n",
       " 0,\n",
       " 0,\n",
       " 0,\n",
       " 1,\n",
       " 0,\n",
       " 1,\n",
       " 1,\n",
       " 0,\n",
       " 1,\n",
       " 0,\n",
       " 1,\n",
       " 0,\n",
       " 1,\n",
       " 0,\n",
       " 0,\n",
       " 0,\n",
       " 1,\n",
       " 0,\n",
       " 1,\n",
       " 1,\n",
       " 0,\n",
       " 1,\n",
       " 1,\n",
       " 1,\n",
       " 0,\n",
       " 0,\n",
       " 0,\n",
       " 0,\n",
       " 0,\n",
       " 0,\n",
       " 0,\n",
       " 1,\n",
       " 1,\n",
       " 0,\n",
       " 0,\n",
       " 1,\n",
       " 1,\n",
       " 0,\n",
       " 0,\n",
       " 0,\n",
       " 1,\n",
       " 0,\n",
       " 0,\n",
       " 0,\n",
       " 1,\n",
       " 0,\n",
       " 1,\n",
       " 1,\n",
       " 0,\n",
       " 1,\n",
       " 0,\n",
       " 1,\n",
       " 0,\n",
       " 0,\n",
       " 1,\n",
       " 0,\n",
       " 0,\n",
       " 0,\n",
       " 0,\n",
       " 0,\n",
       " 0,\n",
       " 0,\n",
       " 1,\n",
       " 0,\n",
       " 1,\n",
       " 0,\n",
       " 1,\n",
       " 0,\n",
       " 0,\n",
       " 1,\n",
       " 1,\n",
       " 1,\n",
       " 0,\n",
       " 1,\n",
       " 0,\n",
       " 0,\n",
       " 0,\n",
       " 1,\n",
       " 1,\n",
       " 1,\n",
       " 0,\n",
       " 1,\n",
       " 0,\n",
       " 1,\n",
       " 1,\n",
       " 1,\n",
       " 0,\n",
       " 0,\n",
       " 1,\n",
       " 1,\n",
       " 1,\n",
       " 0,\n",
       " 1,\n",
       " 1,\n",
       " 0,\n",
       " 1,\n",
       " 1,\n",
       " 0,\n",
       " 0,\n",
       " 1,\n",
       " 1,\n",
       " 1,\n",
       " 1,\n",
       " 0,\n",
       " 1,\n",
       " 0,\n",
       " 0,\n",
       " ...]"
      ]
     },
     "execution_count": 21,
     "metadata": {
      "tags": []
     },
     "output_type": "execute_result"
    }
   ],
   "source": [
    "y"
   ]
  },
  {
   "cell_type": "markdown",
   "metadata": {
    "id": "W9NHYflXosKf"
   },
   "source": [
    "### **Apply tokenizer and get words**\n",
    "- We have already taken the headline into x. Plus it is inconvenient to apply tokenization on a DF series. So we use the list x to apply tokenization"
   ]
  },
  {
   "cell_type": "code",
   "execution_count": 22,
   "metadata": {
    "id": "-ViqxDzrqubo"
   },
   "outputs": [],
   "source": [
    "vocabSize = max_features\n",
    "tokenizer = Tokenizer(num_words=vocabSize, split=' ')\n",
    "tokenizer.fit_on_texts(x)\n",
    "x = tokenizer.texts_to_sequences(x)\n",
    "x = pad_sequences(x,maxlen)"
   ]
  },
  {
   "cell_type": "markdown",
   "metadata": {
    "id": "xeZpwPO4bOkZ"
   },
   "source": [
    "## **Pad sequences (5 Marks)**\n",
    "- Pad each example with a maximum length\n",
    "- Convert target column into numpy array"
   ]
  },
  {
   "cell_type": "markdown",
   "metadata": {
    "id": "QMJ0h7AjqB8Z"
   },
   "source": [
    "### **Padding to 25**"
   ]
  },
  {
   "cell_type": "code",
   "execution_count": 23,
   "metadata": {
    "id": "qV0K70E5c9Xl"
   },
   "outputs": [],
   "source": [
    "x = sequence.pad_sequences(x, maxlen=maxlen)\n",
    "y = np.array(y)"
   ]
  },
  {
   "cell_type": "code",
   "execution_count": 24,
   "metadata": {
    "colab": {
     "base_uri": "https://localhost:8080/"
    },
    "id": "0Ve9ljAfwEXK",
    "outputId": "df9be976-01ad-4af7-9859-62367b992392"
   },
   "outputs": [
    {
     "data": {
      "text/plain": [
       "(26709, 25)"
      ]
     },
     "execution_count": 24,
     "metadata": {
      "tags": []
     },
     "output_type": "execute_result"
    }
   ],
   "source": [
    "x.shape"
   ]
  },
  {
   "cell_type": "code",
   "execution_count": 25,
   "metadata": {
    "colab": {
     "base_uri": "https://localhost:8080/"
    },
    "id": "XcOvDlSewTSd",
    "outputId": "9b11da9a-ffc3-499c-ce49-5b4747b5d914"
   },
   "outputs": [
    {
     "data": {
      "text/plain": [
       "array([0, 0, 1, ..., 0, 0, 0])"
      ]
     },
     "execution_count": 25,
     "metadata": {
      "tags": []
     },
     "output_type": "execute_result"
    }
   ],
   "source": [
    "y"
   ]
  },
  {
   "cell_type": "markdown",
   "metadata": {
    "id": "Hr_7FGFiqJdX"
   },
   "source": [
    "### **Create train test split**"
   ]
  },
  {
   "cell_type": "code",
   "execution_count": 26,
   "metadata": {
    "id": "a0sMXb6evyjb"
   },
   "outputs": [],
   "source": [
    "x_train, x_test, y_train, y_test = train_test_split(x, y, test_size=0.20)"
   ]
  },
  {
   "cell_type": "markdown",
   "metadata": {
    "id": "Raisox-1qdW8"
   },
   "source": [
    "### **View shape of x_train, y_train**"
   ]
  },
  {
   "cell_type": "code",
   "execution_count": 27,
   "metadata": {
    "colab": {
     "base_uri": "https://localhost:8080/"
    },
    "id": "L01WE_2FqTZ9",
    "outputId": "3c6f6b4d-3f9e-4c41-b983-8264d93a0b8a"
   },
   "outputs": [
    {
     "data": {
      "text/plain": [
       "(21367, 25)"
      ]
     },
     "execution_count": 27,
     "metadata": {
      "tags": []
     },
     "output_type": "execute_result"
    }
   ],
   "source": [
    "x_train.shape"
   ]
  },
  {
   "cell_type": "code",
   "execution_count": 28,
   "metadata": {
    "colab": {
     "base_uri": "https://localhost:8080/"
    },
    "id": "yKdx1Y7nqVuD",
    "outputId": "beee0c32-9969-4e47-db20-ee40a32b3f6d"
   },
   "outputs": [
    {
     "data": {
      "text/plain": [
       "(5342, 25)"
      ]
     },
     "execution_count": 28,
     "metadata": {
      "tags": []
     },
     "output_type": "execute_result"
    }
   ],
   "source": [
    "x_test.shape"
   ]
  },
  {
   "cell_type": "markdown",
   "metadata": {
    "id": "WJLyKg-98rH_"
   },
   "source": [
    "### **Vocab mapping**\n",
    "- There is no word for 0th index"
   ]
  },
  {
   "cell_type": "code",
   "execution_count": 29,
   "metadata": {
    "colab": {
     "base_uri": "https://localhost:8080/"
    },
    "id": "vCNgtnQqdbZn",
    "outputId": "2fa5a5c9-1443-4418-e3a3-7e9402337764"
   },
   "outputs": [
    {
     "data": {
      "text/plain": [
       "{'to': 1,\n",
       " 'of': 2,\n",
       " 'the': 3,\n",
       " 'in': 4,\n",
       " 'for': 5,\n",
       " 'a': 6,\n",
       " 'on': 7,\n",
       " 'and': 8,\n",
       " 'with': 9,\n",
       " 'is': 10,\n",
       " 'new': 11,\n",
       " 'trump': 12,\n",
       " 'man': 13,\n",
       " 'from': 14,\n",
       " 'at': 15,\n",
       " 'about': 16,\n",
       " 'you': 17,\n",
       " 'this': 18,\n",
       " 'by': 19,\n",
       " 'after': 20,\n",
       " 'be': 21,\n",
       " 'how': 22,\n",
       " 'out': 23,\n",
       " 'it': 24,\n",
       " 'up': 25,\n",
       " 'that': 26,\n",
       " 'as': 27,\n",
       " 'not': 28,\n",
       " 'repo': 29,\n",
       " 'are': 30,\n",
       " 'your': 31,\n",
       " 'what': 32,\n",
       " 'his': 33,\n",
       " 'he': 34,\n",
       " 'just': 35,\n",
       " 'who': 36,\n",
       " 'us': 37,\n",
       " 'has': 38,\n",
       " 'will': 39,\n",
       " 'no': 40,\n",
       " 'more': 41,\n",
       " 'all': 42,\n",
       " 'into': 43,\n",
       " 'one': 44,\n",
       " 'why': 45,\n",
       " 'have': 46,\n",
       " 'area': 47,\n",
       " 'over': 48,\n",
       " 'donald': 49,\n",
       " 'says': 50,\n",
       " 'woman': 51,\n",
       " 'can': 52,\n",
       " 'day': 53,\n",
       " 'its': 54,\n",
       " 'her': 55,\n",
       " 'time': 56,\n",
       " 'first': 57,\n",
       " 'like': 58,\n",
       " 'pa': 59,\n",
       " 'get': 60,\n",
       " 'trumps': 61,\n",
       " 'an': 62,\n",
       " 'people': 63,\n",
       " 'i': 64,\n",
       " 'now': 65,\n",
       " 'obama': 66,\n",
       " 'house': 67,\n",
       " 'h': 68,\n",
       " 'off': 69,\n",
       " 'life': 70,\n",
       " 's': 71,\n",
       " 'make': 72,\n",
       " 'still': 73,\n",
       " 'women': 74,\n",
       " 'was': 75,\n",
       " 'than': 76,\n",
       " 'my': 77,\n",
       " 'white': 78,\n",
       " 'we': 79,\n",
       " 'back': 80,\n",
       " 'clinton': 81,\n",
       " 'down': 82,\n",
       " 'if': 83,\n",
       " 'when': 84,\n",
       " 'world': 85,\n",
       " 'years': 86,\n",
       " 'could': 87,\n",
       " 'family': 88,\n",
       " 'their': 89,\n",
       " 'do': 90,\n",
       " 'before': 91,\n",
       " 'americans': 92,\n",
       " 'so': 93,\n",
       " 'y': 94,\n",
       " 'most': 95,\n",
       " 'way': 96,\n",
       " 'black': 97,\n",
       " 'they': 98,\n",
       " 'gop': 99,\n",
       " 'study': 100,\n",
       " '5': 101,\n",
       " 'bill': 102,\n",
       " 'should': 103,\n",
       " 'would': 104,\n",
       " 'him': 105,\n",
       " 'best': 106,\n",
       " 'police': 107,\n",
       " 'only': 108,\n",
       " 'watch': 109,\n",
       " 'really': 110,\n",
       " 'but': 111,\n",
       " 'american': 112,\n",
       " 'being': 113,\n",
       " 'show': 114,\n",
       " 'school': 115,\n",
       " 'cant': 116,\n",
       " 'know': 117,\n",
       " 'things': 118,\n",
       " 'good': 119,\n",
       " 'home': 120,\n",
       " 'during': 121,\n",
       " 'death': 122,\n",
       " 'president': 123,\n",
       " 'finds': 124,\n",
       " 'year': 125,\n",
       " 'say': 126,\n",
       " 'video': 127,\n",
       " 'nation': 128,\n",
       " 'going': 129,\n",
       " 'love': 130,\n",
       " 'health': 131,\n",
       " 'or': 132,\n",
       " 'last': 133,\n",
       " 'state': 134,\n",
       " 'hillary': 135,\n",
       " 'big': 136,\n",
       " 'parents': 137,\n",
       " 'may': 138,\n",
       " 'too': 139,\n",
       " 'against': 140,\n",
       " 'every': 141,\n",
       " 'she': 142,\n",
       " 'mom': 143,\n",
       " 'kids': 144,\n",
       " 'campaign': 145,\n",
       " 'cou': 146,\n",
       " 'need': 147,\n",
       " 'gets': 148,\n",
       " 'these': 149,\n",
       " 'getting': 150,\n",
       " 'suppo': 151,\n",
       " '10': 152,\n",
       " 'little': 153,\n",
       " 'some': 154,\n",
       " '3': 155,\n",
       " 'work': 156,\n",
       " 'right': 157,\n",
       " 'change': 158,\n",
       " 'take': 159,\n",
       " 'sta': 160,\n",
       " 'our': 161,\n",
       " 'dead': 162,\n",
       " 'dont': 163,\n",
       " 'makes': 164,\n",
       " 'america': 165,\n",
       " 'calls': 166,\n",
       " 'news': 167,\n",
       " 'doesnt': 168,\n",
       " 'other': 169,\n",
       " 'john': 170,\n",
       " 'through': 171,\n",
       " 'while': 172,\n",
       " 'own': 173,\n",
       " 'heres': 174,\n",
       " 'want': 175,\n",
       " 'never': 176,\n",
       " 'look': 177,\n",
       " 'child': 178,\n",
       " 'takes': 179,\n",
       " 'war': 180,\n",
       " 'nations': 181,\n",
       " 'see': 182,\n",
       " 'gay': 183,\n",
       " 'next': 184,\n",
       " 'where': 185,\n",
       " 'local': 186,\n",
       " 'go': 187,\n",
       " 'stop': 188,\n",
       " 'hes': 189,\n",
       " 'star': 190,\n",
       " 'even': 191,\n",
       " 'real': 192,\n",
       " 'guy': 193,\n",
       " 'election': 194,\n",
       " 'again': 195,\n",
       " 'college': 196,\n",
       " 'bush': 197,\n",
       " 'office': 198,\n",
       " '2': 199,\n",
       " 'plan': 200,\n",
       " 'another': 201,\n",
       " 'got': 202,\n",
       " 'thing': 203,\n",
       " 'dad': 204,\n",
       " 'around': 205,\n",
       " 'game': 206,\n",
       " 'hea': 207,\n",
       " 'made': 208,\n",
       " 'them': 209,\n",
       " 'help': 210,\n",
       " 'dog': 211,\n",
       " 'baby': 212,\n",
       " 'week': 213,\n",
       " 'wants': 214,\n",
       " 'bi': 215,\n",
       " 'gun': 216,\n",
       " 'job': 217,\n",
       " 'debate': 218,\n",
       " 'million': 219,\n",
       " 'live': 220,\n",
       " 'actually': 221,\n",
       " 'care': 222,\n",
       " 'congress': 223,\n",
       " 'friends': 224,\n",
       " 'high': 225,\n",
       " 'finally': 226,\n",
       " 'much': 227,\n",
       " 'been': 228,\n",
       " 'me': 229,\n",
       " 'ment': 230,\n",
       " 'ever': 231,\n",
       " 'sex': 232,\n",
       " 'under': 233,\n",
       " 'national': 234,\n",
       " 'students': 235,\n",
       " 'mans': 236,\n",
       " 'couple': 237,\n",
       " 'ways': 238,\n",
       " 'climate': 239,\n",
       " '7': 240,\n",
       " 'bad': 241,\n",
       " 'money': 242,\n",
       " 'wont': 243,\n",
       " 'god': 244,\n",
       " 'two': 245,\n",
       " 'shows': 246,\n",
       " 'better': 247,\n",
       " 'top': 248,\n",
       " 'give': 249,\n",
       " 'season': 250,\n",
       " '6': 251,\n",
       " 'there': 252,\n",
       " 'night': 253,\n",
       " 'media': 254,\n",
       " 'teen': 255,\n",
       " 'shooting': 256,\n",
       " 'had': 257,\n",
       " 'men': 258,\n",
       " '4': 259,\n",
       " 'were': 260,\n",
       " 'story': 261,\n",
       " 'trying': 262,\n",
       " 'sexual': 263,\n",
       " 'reveals': 264,\n",
       " 'paul': 265,\n",
       " 'senate': 266,\n",
       " 'without': 267,\n",
       " 'away': 268,\n",
       " 'city': 269,\n",
       " 'supreme': 270,\n",
       " 'history': 271,\n",
       " 'old': 272,\n",
       " 'food': 273,\n",
       " 'announces': 274,\n",
       " 'making': 275,\n",
       " 'everyone': 276,\n",
       " 'children': 277,\n",
       " 'attack': 278,\n",
       " 'fight': 279,\n",
       " 'business': 280,\n",
       " 'any': 281,\n",
       " 'deal': 282,\n",
       " 'enough': 283,\n",
       " 'facebook': 284,\n",
       " 'york': 285,\n",
       " 'face': 286,\n",
       " 'movie': 287,\n",
       " 'end': 288,\n",
       " 'introduces': 289,\n",
       " 'great': 290,\n",
       " 'pope': 291,\n",
       " 'son': 292,\n",
       " 'sanders': 293,\n",
       " 'law': 294,\n",
       " 'does': 295,\n",
       " 'friend': 296,\n",
       " 'tell': 297,\n",
       " 'call': 298,\n",
       " 'tv': 299,\n",
       " 'former': 300,\n",
       " 'ing': 301,\n",
       " 'entire': 302,\n",
       " 'er': 303,\n",
       " 'fire': 304,\n",
       " 'wedding': 305,\n",
       " 'film': 306,\n",
       " 'found': 307,\n",
       " 'find': 308,\n",
       " 'book': 309,\n",
       " 'body': 310,\n",
       " 'government': 311,\n",
       " 'think': 312,\n",
       " 'come': 313,\n",
       " 'email': 314,\n",
       " 'girl': 315,\n",
       " 'pretty': 316,\n",
       " 'republican': 317,\n",
       " 'speech': 318,\n",
       " 'single': 319,\n",
       " 'coming': 320,\n",
       " 'depa': 321,\n",
       " 'morning': 322,\n",
       " 'self': 323,\n",
       " 'photos': 324,\n",
       " 'presidential': 325,\n",
       " 'james': 326,\n",
       " 'car': 327,\n",
       " 'future': 328,\n",
       " 'republicans': 329,\n",
       " 'use': 330,\n",
       " 'keep': 331,\n",
       " 'power': 332,\n",
       " 'thinks': 333,\n",
       " 'public': 334,\n",
       " 'run': 335,\n",
       " 'very': 336,\n",
       " 'didnt': 337,\n",
       " 'rights': 338,\n",
       " 'christmas': 339,\n",
       " 'name': 340,\n",
       " 'already': 341,\n",
       " '8': 342,\n",
       " 'democrats': 343,\n",
       " 'talk': 344,\n",
       " 'case': 345,\n",
       " 'company': 346,\n",
       " 'fans': 347,\n",
       " 'marriage': 348,\n",
       " 'violence': 349,\n",
       " 'girls': 350,\n",
       " 'voters': 351,\n",
       " 'behind': 352,\n",
       " 'line': 353,\n",
       " 'im': 354,\n",
       " 'between': 355,\n",
       " '2016': 356,\n",
       " 'releases': 357,\n",
       " 'worlds': 358,\n",
       " 'tax': 359,\n",
       " 'race': 360,\n",
       " 'killed': 361,\n",
       " 'ea': 362,\n",
       " 'security': 363,\n",
       " 'vote': 364,\n",
       " 'human': 365,\n",
       " 'states': 366,\n",
       " 'doing': 367,\n",
       " 'secret': 368,\n",
       " 'used': 369,\n",
       " 'goes': 370,\n",
       " 'having': 371,\n",
       " 'long': 372,\n",
       " 'might': 373,\n",
       " 'something': 374,\n",
       " 'must': 375,\n",
       " 'group': 376,\n",
       " '20': 377,\n",
       " 'days': 378,\n",
       " 'asks': 379,\n",
       " 'room': 380,\n",
       " 'ed': 381,\n",
       " 'free': 382,\n",
       " 'ban': 383,\n",
       " 'win': 384,\n",
       " 'bernie': 385,\n",
       " 'twitter': 386,\n",
       " 'student': 387,\n",
       " 'team': 388,\n",
       " 'times': 389,\n",
       " 'boy': 390,\n",
       " 'open': 391,\n",
       " 'looking': 392,\n",
       " 'poll': 393,\n",
       " 'because': 394,\n",
       " 'ad': 395,\n",
       " 'once': 396,\n",
       " 'ryan': 397,\n",
       " 'sure': 398,\n",
       " 'middle': 399,\n",
       " 'each': 400,\n",
       " 'political': 401,\n",
       " 'inside': 402,\n",
       " 'teacher': 403,\n",
       " 'breaking': 404,\n",
       " 'minutes': 405,\n",
       " 'claims': 406,\n",
       " '1': 407,\n",
       " 'control': 408,\n",
       " 'super': 409,\n",
       " 'ers': 410,\n",
       " 'judge': 411,\n",
       " 'many': 412,\n",
       " 'country': 413,\n",
       " 'forced': 414,\n",
       " 'lets': 415,\n",
       " 'music': 416,\n",
       " 'perfect': 417,\n",
       " 'save': 418,\n",
       " 'meet': 419,\n",
       " 'plans': 420,\n",
       " 'missing': 421,\n",
       " 'running': 422,\n",
       " 'here': 423,\n",
       " 'unveils': 424,\n",
       " 'obamacare': 425,\n",
       " 'second': 426,\n",
       " 'living': 427,\n",
       " '12': 428,\n",
       " 'everything': 429,\n",
       " 'same': 430,\n",
       " 'scientists': 431,\n",
       " 'social': 432,\n",
       " 'put': 433,\n",
       " 'wife': 434,\n",
       " 'phone': 435,\n",
       " 'youre': 436,\n",
       " 'tells': 437,\n",
       " 'california': 438,\n",
       " 'always': 439,\n",
       " 'justice': 440,\n",
       " 'photo': 441,\n",
       " 'person': 442,\n",
       " 'summer': 443,\n",
       " 'red': 444,\n",
       " 'dies': 445,\n",
       " 'until': 446,\n",
       " 'let': 447,\n",
       " 'texas': 448,\n",
       " 'female': 449,\n",
       " 'full': 450,\n",
       " 'looks': 451,\n",
       " 'less': 452,\n",
       " 'talks': 453,\n",
       " 'candidate': 454,\n",
       " 'did': 455,\n",
       " 'pay': 456,\n",
       " 'ready': 457,\n",
       " 'list': 458,\n",
       " 'comes': 459,\n",
       " 'head': 460,\n",
       " 'michael': 461,\n",
       " 'age': 462,\n",
       " 'secretary': 463,\n",
       " 'employee': 464,\n",
       " 'mother': 465,\n",
       " 'needs': 466,\n",
       " 'warns': 467,\n",
       " 'water': 468,\n",
       " 'father': 469,\n",
       " 'lives': 470,\n",
       " 'past': 471,\n",
       " 'admits': 472,\n",
       " 'mike': 473,\n",
       " 'taking': 474,\n",
       " 'wall': 475,\n",
       " 'ceo': 476,\n",
       " 'working': 477,\n",
       " 'womens': 478,\n",
       " 'cancer': 479,\n",
       " 'set': 480,\n",
       " 'wrong': 481,\n",
       " 'crisis': 482,\n",
       " 'record': 483,\n",
       " 'gives': 484,\n",
       " 'today': 485,\n",
       " 'biden': 486,\n",
       " 'ma': 487,\n",
       " 'idea': 488,\n",
       " 'thought': 489,\n",
       " 'kim': 490,\n",
       " 'letter': 491,\n",
       " 'george': 492,\n",
       " 'shot': 493,\n",
       " 'hot': 494,\n",
       " 'cruz': 495,\n",
       " 'wins': 496,\n",
       " 'stars': 497,\n",
       " 'left': 498,\n",
       " 'town': 499,\n",
       " 'hours': 500,\n",
       " 'dream': 501,\n",
       " 'probably': 502,\n",
       " 'romney': 503,\n",
       " 'young': 504,\n",
       " 'meeting': 505,\n",
       " 'south': 506,\n",
       " 'korea': 507,\n",
       " 'lost': 508,\n",
       " 'daughter': 509,\n",
       " 'percent': 510,\n",
       " 'education': 511,\n",
       " 'sho': 512,\n",
       " 'tips': 513,\n",
       " 'service': 514,\n",
       " 'apa': 515,\n",
       " 'impo': 516,\n",
       " 'nothing': 517,\n",
       " 'moms': 518,\n",
       " 'fbi': 519,\n",
       " 'street': 520,\n",
       " 'spo': 521,\n",
       " 'obamas': 522,\n",
       " 'place': 523,\n",
       " 'kill': 524,\n",
       " 'three': 525,\n",
       " 'isis': 526,\n",
       " 'shes': 527,\n",
       " 'russia': 528,\n",
       " 'thousands': 529,\n",
       " 'fucking': 530,\n",
       " 'ion': 531,\n",
       " 'few': 532,\n",
       " 'believe': 533,\n",
       " 'tweets': 534,\n",
       " 'together': 535,\n",
       " 'someone': 536,\n",
       " 'rock': 537,\n",
       " 'eating': 538,\n",
       " 'chief': 539,\n",
       " 'march': 540,\n",
       " 'yet': 541,\n",
       " 'washington': 542,\n",
       " 'officials': 543,\n",
       " 'restaurant': 544,\n",
       " 'administration': 545,\n",
       " 'talking': 546,\n",
       " 'online': 547,\n",
       " 'feel': 548,\n",
       " 'cat': 549,\n",
       " 'leaves': 550,\n",
       " 'ted': 551,\n",
       " 'francis': 552,\n",
       " 'questions': 553,\n",
       " 'military': 554,\n",
       " 'fan': 555,\n",
       " 'class': 556,\n",
       " 'po': 557,\n",
       " 'guide': 558,\n",
       " 'order': 559,\n",
       " 'owner': 560,\n",
       " 'director': 561,\n",
       " 'months': 562,\n",
       " 'federal': 563,\n",
       " 'chris': 564,\n",
       " 'attacks': 565,\n",
       " 'hday': 566,\n",
       " 'move': 567,\n",
       " 'whats': 568,\n",
       " 'internet': 569,\n",
       " 'giving': 570,\n",
       " 'air': 571,\n",
       " 'problem': 572,\n",
       " 'hollywood': 573,\n",
       " 'florida': 574,\n",
       " 'ask': 575,\n",
       " 'beautiful': 576,\n",
       " 'small': 577,\n",
       " 'king': 578,\n",
       " 'reason': 579,\n",
       " 'sleep': 580,\n",
       " 'latest': 581,\n",
       " 'series': 582,\n",
       " 'happy': 583,\n",
       " 'nuclear': 584,\n",
       " 'americas': 585,\n",
       " 'congressman': 586,\n",
       " 'drug': 587,\n",
       " 'different': 588,\n",
       " 'assault': 589,\n",
       " '15': 590,\n",
       " 'word': 591,\n",
       " 'buy': 592,\n",
       " 'personal': 593,\n",
       " 'rules': 594,\n",
       " 'majority': 595,\n",
       " 'prison': 596,\n",
       " 'told': 597,\n",
       " 'democratic': 598,\n",
       " 'outside': 599,\n",
       " 'lot': 600,\n",
       " 'those': 601,\n",
       " 'shit': 602,\n",
       " 'moment': 603,\n",
       " 'isnt': 604,\n",
       " 'iran': 605,\n",
       " 'reasons': 606,\n",
       " 'leaders': 607,\n",
       " 'holiday': 608,\n",
       " '2015': 609,\n",
       " 'fox': 610,\n",
       " 'community': 611,\n",
       " 'leave': 612,\n",
       " 'travel': 613,\n",
       " 'kind': 614,\n",
       " 'system': 615,\n",
       " '9': 616,\n",
       " 'rise': 617,\n",
       " 'hard': 618,\n",
       " 'play': 619,\n",
       " 'victims': 620,\n",
       " 'fun': 621,\n",
       " 'abo': 622,\n",
       " 'favorite': 623,\n",
       " 'mark': 624,\n",
       " 'issues': 625,\n",
       " 'interview': 626,\n",
       " 'relationship': 627,\n",
       " 'hell': 628,\n",
       " 'response': 629,\n",
       " 'jimmy': 630,\n",
       " 'month': 631,\n",
       " 'huge': 632,\n",
       " 'box': 633,\n",
       " 'celebrates': 634,\n",
       " 'wo': 635,\n",
       " 'special': 636,\n",
       " 'mothers': 637,\n",
       " 'excited': 638,\n",
       " 'kid': 639,\n",
       " 'huffpost': 640,\n",
       " 'read': 641,\n",
       " 'immigration': 642,\n",
       " 'protest': 643,\n",
       " 'bar': 644,\n",
       " 'scott': 645,\n",
       " 'gift': 646,\n",
       " 'following': 647,\n",
       " 'hope': 648,\n",
       " 'cops': 649,\n",
       " 'using': 650,\n",
       " 'offers': 651,\n",
       " 'thinking': 652,\n",
       " 'message': 653,\n",
       " 'trailer': 654,\n",
       " 'well': 655,\n",
       " 'trip': 656,\n",
       " 'knows': 657,\n",
       " 'politics': 658,\n",
       " 'weekend': 659,\n",
       " 'ice': 660,\n",
       " 'watching': 661,\n",
       " 'candidates': 662,\n",
       " 'break': 663,\n",
       " 'visit': 664,\n",
       " 'stephen': 665,\n",
       " 'muslim': 666,\n",
       " 'straight': 667,\n",
       " 'lessons': 668,\n",
       " 'david': 669,\n",
       " 'union': 670,\n",
       " 'hate': 671,\n",
       " 'tom': 672,\n",
       " 'since': 673,\n",
       " 'china': 674,\n",
       " '911': 675,\n",
       " 'hit': 676,\n",
       " 'russian': 677,\n",
       " 'cover': 678,\n",
       " 'robe': 679,\n",
       " 'accused': 680,\n",
       " 'taylor': 681,\n",
       " 'front': 682,\n",
       " 'bring': 683,\n",
       " '11': 684,\n",
       " 'anything': 685,\n",
       " 'senator': 686,\n",
       " 'schools': 687,\n",
       " 'himself': 688,\n",
       " 'conversation': 689,\n",
       " 'hair': 690,\n",
       " 'millions': 691,\n",
       " 'un': 692,\n",
       " 'queer': 693,\n",
       " 'drunk': 694,\n",
       " 'least': 695,\n",
       " '50': 696,\n",
       " 'date': 697,\n",
       " 'employees': 698,\n",
       " 'chinese': 699,\n",
       " 'adorable': 700,\n",
       " '30': 701,\n",
       " 'cop': 702,\n",
       " 'words': 703,\n",
       " 'joe': 704,\n",
       " 'syria': 705,\n",
       " 'powerful': 706,\n",
       " 'expe': 707,\n",
       " 'theyre': 708,\n",
       " 'united': 709,\n",
       " 'reality': 710,\n",
       " 'leader': 711,\n",
       " 'mass': 712,\n",
       " 'billion': 713,\n",
       " 'become': 714,\n",
       " 'investigation': 715,\n",
       " 'opens': 716,\n",
       " 'whole': 717,\n",
       " 'third': 718,\n",
       " 'am': 719,\n",
       " 'theres': 720,\n",
       " 'learned': 721,\n",
       " 'totally': 722,\n",
       " 'edly': 723,\n",
       " 'career': 724,\n",
       " 'fall': 725,\n",
       " 'true': 726,\n",
       " 'waiting': 727,\n",
       " 'returns': 728,\n",
       " 'early': 729,\n",
       " 'syrian': 730,\n",
       " 'massive': 731,\n",
       " 'almost': 732,\n",
       " 'wars': 733,\n",
       " 'fashion': 734,\n",
       " 'turn': 735,\n",
       " 'workers': 736,\n",
       " 'breaks': 737,\n",
       " 'point': 738,\n",
       " 'able': 739,\n",
       " 'wearing': 740,\n",
       " 'feels': 741,\n",
       " 'ant': 742,\n",
       " 'girlfriend': 743,\n",
       " 'policy': 744,\n",
       " 'stage': 745,\n",
       " 'die': 746,\n",
       " 'hits': 747,\n",
       " 'killing': 748,\n",
       " 'apple': 749,\n",
       " 'awards': 750,\n",
       " 'worried': 751,\n",
       " 'kills': 752,\n",
       " 'iraq': 753,\n",
       " 'song': 754,\n",
       " 'dance': 755,\n",
       " 'dating': 756,\n",
       " 'turns': 757,\n",
       " 'teens': 758,\n",
       " 'completely': 759,\n",
       " 'puts': 760,\n",
       " 'spends': 761,\n",
       " 'dinner': 762,\n",
       " 'vows': 763,\n",
       " 'sick': 764,\n",
       " 'late': 765,\n",
       " 'crash': 766,\n",
       " 'worst': 767,\n",
       " 'names': 768,\n",
       " 'al': 769,\n",
       " 'final': 770,\n",
       " 'global': 771,\n",
       " 'weird': 772,\n",
       " 'signs': 773,\n",
       " 'sign': 774,\n",
       " 'murder': 775,\n",
       " 'host': 776,\n",
       " 'pence': 777,\n",
       " 'prince': 778,\n",
       " 'trans': 779,\n",
       " 'experience': 780,\n",
       " 'decision': 781,\n",
       " 'adds': 782,\n",
       " 'fighting': 783,\n",
       " 'surprise': 784,\n",
       " 'hands': 785,\n",
       " 'transgender': 786,\n",
       " 'key': 787,\n",
       " 'anniversary': 788,\n",
       " 'moving': 789,\n",
       " 'ca': 790,\n",
       " 'seen': 791,\n",
       " 'called': 792,\n",
       " 'center': 793,\n",
       " 'force': 794,\n",
       " 'paris': 795,\n",
       " 'members': 796,\n",
       " 'advice': 797,\n",
       " 'bus': 798,\n",
       " 'road': 799,\n",
       " 'post': 800,\n",
       " 'struggling': 801,\n",
       " 'discover': 802,\n",
       " 'nfl': 803,\n",
       " 'act': 804,\n",
       " 'across': 805,\n",
       " 'kardashian': 806,\n",
       " 'return': 807,\n",
       " 'keeps': 808,\n",
       " 'users': 809,\n",
       " '2017': 810,\n",
       " 'official': 811,\n",
       " 'store': 812,\n",
       " 'fear': 813,\n",
       " 'lose': 814,\n",
       " '100': 815,\n",
       " 'longer': 816,\n",
       " 'voice': 817,\n",
       " 'rubio': 818,\n",
       " 'peace': 819,\n",
       " 'brings': 820,\n",
       " 'boys': 821,\n",
       " 'planned': 822,\n",
       " 'lead': 823,\n",
       " 'weeks': 824,\n",
       " 'walking': 825,\n",
       " 'university': 826,\n",
       " 'reform': 827,\n",
       " 'coworker': 828,\n",
       " 'light': 829,\n",
       " 'ferguson': 830,\n",
       " 'industry': 831,\n",
       " 'suicide': 832,\n",
       " 'program': 833,\n",
       " 'ist': 834,\n",
       " 'oil': 835,\n",
       " 'coffee': 836,\n",
       " '2014': 837,\n",
       " 'whether': 838,\n",
       " 'weight': 839,\n",
       " 'eat': 840,\n",
       " 'west': 841,\n",
       " 'oscars': 842,\n",
       " 'audience': 843,\n",
       " 'hoping': 844,\n",
       " 'steve': 845,\n",
       " 'jobs': 846,\n",
       " 'wait': 847,\n",
       " 'suspect': 848,\n",
       " 'harry': 849,\n",
       " 'given': 850,\n",
       " 'stand': 851,\n",
       " 'magazine': 852,\n",
       " 'question': 853,\n",
       " 'band': 854,\n",
       " 'biggest': 855,\n",
       " 'hall': 856,\n",
       " 'nyc': 857,\n",
       " 'which': 858,\n",
       " 'major': 859,\n",
       " 'michelle': 860,\n",
       " 'beauty': 861,\n",
       " 'risk': 862,\n",
       " 'remember': 863,\n",
       " 'chicago': 864,\n",
       " 'possible': 865,\n",
       " 'test': 866,\n",
       " 'hand': 867,\n",
       " 'governor': 868,\n",
       " 'iowa': 869,\n",
       " 'executive': 870,\n",
       " 'success': 871,\n",
       " 'cut': 872,\n",
       " 'mind': 873,\n",
       " 'chance': 874,\n",
       " 'amazon': 875,\n",
       " 'protesters': 876,\n",
       " 'ideas': 877,\n",
       " 'refugees': 878,\n",
       " 'williams': 879,\n",
       " 'abuse': 880,\n",
       " 'clearly': 881,\n",
       " 'role': 882,\n",
       " 'google': 883,\n",
       " 'hurricane': 884,\n",
       " 'space': 885,\n",
       " 'moore': 886,\n",
       " 'carolina': 887,\n",
       " 'allegations': 888,\n",
       " 'sma': 889,\n",
       " 'halloween': 890,\n",
       " 'poor': 891,\n",
       " 'five': 892,\n",
       " 'planet': 893,\n",
       " '13': 894,\n",
       " 'playing': 895,\n",
       " 'cool': 896,\n",
       " 'mental': 897,\n",
       " 'try': 898,\n",
       " 'tour': 899,\n",
       " 'hear': 900,\n",
       " 'colbe': 901,\n",
       " 'demands': 902,\n",
       " 'press': 903,\n",
       " 'side': 904,\n",
       " 'wishes': 905,\n",
       " 'green': 906,\n",
       " 'problems': 907,\n",
       " 'asking': 908,\n",
       " 'celebrate': 909,\n",
       " 'push': 910,\n",
       " 'fuck': 911,\n",
       " 'oscar': 912,\n",
       " 'park': 913,\n",
       " 'far': 914,\n",
       " 'homeless': 915,\n",
       " 'plane': 916,\n",
       " 'football': 917,\n",
       " 'eyes': 918,\n",
       " 'general': 919,\n",
       " 'jr': 920,\n",
       " 'doctor': 921,\n",
       " 'vacation': 922,\n",
       " 'throws': 923,\n",
       " 'ben': 924,\n",
       " 'table': 925,\n",
       " 'hilarious': 926,\n",
       " 'pregnant': 927,\n",
       " 'dying': 928,\n",
       " 'urges': 929,\n",
       " 'airpo': 930,\n",
       " 'reveal': 931,\n",
       " 'simple': 932,\n",
       " 'economy': 933,\n",
       " 'emotional': 934,\n",
       " 'building': 935,\n",
       " 'learn': 936,\n",
       " 'number': 937,\n",
       " 'rest': 938,\n",
       " 'album': 939,\n",
       " 'church': 940,\n",
       " 'begins': 941,\n",
       " 'deadly': 942,\n",
       " 'happened': 943,\n",
       " 'uses': 944,\n",
       " 'families': 945,\n",
       " 'card': 946,\n",
       " 'kerry': 947,\n",
       " 'picture': 948,\n",
       " 'marijuana': 949,\n",
       " 'fails': 950,\n",
       " 'sean': 951,\n",
       " 'voter': 952,\n",
       " 'proud': 953,\n",
       " 'humans': 954,\n",
       " 'board': 955,\n",
       " 'shares': 956,\n",
       " 'leads': 957,\n",
       " 'feeling': 958,\n",
       " 'suggests': 959,\n",
       " 'amazing': 960,\n",
       " 'results': 961,\n",
       " 'guys': 962,\n",
       " 'worse': 963,\n",
       " 'hour': 964,\n",
       " 'check': 965,\n",
       " 'queen': 966,\n",
       " 'jenner': 967,\n",
       " 'racist': 968,\n",
       " 'hu': 969,\n",
       " 'arrested': 970,\n",
       " 'driving': 971,\n",
       " 'male': 972,\n",
       " 'leaving': 973,\n",
       " 'address': 974,\n",
       " 'performance': 975,\n",
       " 'receives': 976,\n",
       " 'amid': 977,\n",
       " 'epa': 978,\n",
       " 'finding': 979,\n",
       " 'door': 980,\n",
       " 'movies': 981,\n",
       " 'officer': 982,\n",
       " 'netflix': 983,\n",
       " 'easy': 984,\n",
       " 'desperate': 985,\n",
       " 'hero': 986,\n",
       " 'quietly': 987,\n",
       " 'data': 988,\n",
       " 'cnn': 989,\n",
       " 'demand': 990,\n",
       " 'website': 991,\n",
       " 'explains': 992,\n",
       " 'older': 993,\n",
       " 'lgbt': 994,\n",
       " 'st': 995,\n",
       " 'pizza': 996,\n",
       " 'close': 997,\n",
       " 'rally': 998,\n",
       " 'sales': 999,\n",
       " 'apparently': 1000,\n",
       " ...}"
      ]
     },
     "execution_count": 29,
     "metadata": {
      "tags": []
     },
     "output_type": "execute_result"
    }
   ],
   "source": [
    "tokenizer.word_index"
   ]
  },
  {
   "cell_type": "markdown",
   "metadata": {
    "id": "VRiNX58Rb3oJ"
   },
   "source": [
    "### **Set number of words (Size of Vocabulary)**\n",
    "- Since the above 0th index doesn't have a word, add 1 to the length of the vocabulary"
   ]
  },
  {
   "cell_type": "code",
   "execution_count": 30,
   "metadata": {
    "colab": {
     "base_uri": "https://localhost:8080/"
    },
    "id": "Dfwq6ou8ck2f",
    "outputId": "a6e45e17-76e4-466c-c243-75088dbb6c03"
   },
   "outputs": [
    {
     "name": "stdout",
     "output_type": "stream",
     "text": [
      "28168\n"
     ]
    }
   ],
   "source": [
    "num_words = len(tokenizer.word_index) + 1\n",
    "print(num_words)"
   ]
  },
  {
   "cell_type": "markdown",
   "metadata": {
    "id": "fURFUvmJ6ti8"
   },
   "source": [
    "### **This is the size of the vocabulary -> 28168**"
   ]
  },
  {
   "cell_type": "markdown",
   "metadata": {
    "id": "bUF1TuQa8ux0"
   },
   "source": [
    "## **Load Glove Word Embeddings (5 Marks)**"
   ]
  },
  {
   "cell_type": "code",
   "execution_count": 31,
   "metadata": {
    "id": "vq5AIfRtMeZh"
   },
   "outputs": [],
   "source": [
    "path = '/content/drive/My Drive/'\n",
    "\n",
    "glove_file = datapath(path + 'glove.6B.200d.txt') # This is a GloVe model\n",
    "tmp_file = get_tmpfile(path + 'word2vec.glove.6B.200d.txt') #creating a tempfile for extraction\n",
    "\n",
    "\n",
    "glove2word2vec(glove_file, tmp_file)  # Converting the GloVe file into a Word2Vec file\n",
    "word2vec_model = KeyedVectors.load_word2vec_format(tmp_file)"
   ]
  },
  {
   "cell_type": "markdown",
   "metadata": {
    "id": "QUi8pMv_rNpP"
   },
   "source": [
    "### **Checking out the Glove Model**"
   ]
  },
  {
   "cell_type": "code",
   "execution_count": 32,
   "metadata": {
    "colab": {
     "base_uri": "https://localhost:8080/"
    },
    "id": "BMKdnbbVXnbl",
    "outputId": "38c0ce73-f687-41e7-e1cb-9437db784372"
   },
   "outputs": [
    {
     "name": "stdout",
     "output_type": "stream",
     "text": [
      "(200,)\n",
      "[ 0.14823   -0.53152   -0.25973   -0.44095    0.38555   -0.4114\n",
      " -0.56649   -0.024739  -0.2788    -0.051034   0.3704    -0.20881\n",
      " -0.30809    0.3041    -0.3933    -0.18335   -0.59395    0.57039\n",
      " -0.16796    0.42368   -0.048687   0.95404    0.65675   -0.61759\n",
      "  0.41923   -0.42904    0.2082    -0.33186   -0.0037637 -0.20592\n",
      "  0.18708    0.06889   -0.28935   -0.7552     0.29278   -0.43407\n",
      "  0.034869   0.081405  -0.14095   -0.34705    0.081686   0.40679\n",
      " -0.27834    0.93623   -0.63422    0.77979    0.29497   -0.14873\n",
      "  0.5111     0.96405   -0.072559  -0.064779   0.20619   -0.46259\n",
      "  0.49824   -0.40328   -0.92244    0.4663    -0.39433    0.64215\n",
      " -0.062508  -0.71985   -0.43478    0.34995   -0.6297    -0.21176\n",
      " -0.21179   -0.57816    0.84528    0.097692   0.22564   -0.2639\n",
      " -0.66842    0.40833   -0.35098   -0.67009   -0.55379   -0.10228\n",
      " -0.29934   -0.1074     0.14203    0.15513    0.39948   -0.42975\n",
      " -0.0077463 -0.21278    0.27161   -0.25162    0.41348   -0.72031\n",
      " -0.65133   -0.27737   -0.28648    0.57291    0.58322    0.12049\n",
      "  0.16949   -0.030383  -0.19531    0.17134    0.24653   -0.074402\n",
      "  0.031003  -0.24611    0.05381   -0.32948    0.18748    0.41717\n",
      "  0.37552   -0.32425    0.1466    -0.42316   -0.28619    0.074981\n",
      " -0.16341   -0.0065323 -0.26126    0.77523   -0.57712   -0.21996\n",
      "  0.54187   -0.2461     0.1342    -0.25397    0.86189    0.1943\n",
      " -0.15021    0.51947    0.24617    0.42387   -0.33632   -0.47628\n",
      " -0.078156  -0.12692    0.13622   -0.60974    0.074139  -0.345\n",
      "  0.31824    0.067552   0.40193    0.13591    0.49467   -0.28253\n",
      "  0.8607     0.20257    0.35323   -0.41212    0.42008    0.068603\n",
      " -0.14119    0.78997   -0.085534   0.21593   -0.021334   0.72779\n",
      "  0.41576   -0.22854   -1.1916    -0.65992    0.35291    0.20929\n",
      "  0.36662   -0.33283    0.0071927 -0.094414  -0.18066    0.050505\n",
      "  0.078872  -0.20484   -0.58977    0.21243    0.15176    0.37207\n",
      " -0.066005   0.085195  -0.16371   -0.21486   -0.079647   0.45019\n",
      "  1.2587    -0.10143   -0.49657    0.18285   -0.64169   -0.25987\n",
      "  0.31181    0.12747    0.40518   -0.25493    0.054752  -0.39208\n",
      "  0.10762   -0.30074   -0.35237    0.33923   -0.071309   0.33717\n",
      " -0.0037631 -0.23328  ]\n"
     ]
    }
   ],
   "source": [
    "wordEmbed = word2vec_model['cat']\n",
    "print(wordEmbed.shape)\n",
    "print(wordEmbed)"
   ]
  },
  {
   "cell_type": "code",
   "execution_count": 33,
   "metadata": {
    "colab": {
     "base_uri": "https://localhost:8080/"
    },
    "id": "8LwxaIB9YIHG",
    "outputId": "85a8bb42-8daa-400d-c886-9a9566a3caf2"
   },
   "outputs": [
    {
     "name": "stdout",
     "output_type": "stream",
     "text": [
      "apple is in the model\n"
     ]
    }
   ],
   "source": [
    "word = 'apple'\n",
    "if word in word2vec_model:\n",
    "    print('{0} is in the model'.format(word))\n",
    "else:\n",
    "    print('{0} is NOT in the model'.format(word))"
   ]
  },
  {
   "cell_type": "code",
   "execution_count": 34,
   "metadata": {
    "colab": {
     "base_uri": "https://localhost:8080/"
    },
    "id": "GtQr8XKFYUL5",
    "outputId": "b677ed81-2764-45f9-fe54-5f1167ec2f80"
   },
   "outputs": [
    {
     "name": "stdout",
     "output_type": "stream",
     "text": [
      "[('iphone', 0.6271389126777649), ('microsoft', 0.6061939001083374), ('intel', 0.5992331504821777), ('macintosh', 0.5989754796028137), ('ipod', 0.5908078551292419), ('ibm', 0.5888804793357849), ('ipad', 0.5876859426498413), ('software', 0.5711662769317627), ('google', 0.5554560422897339), ('itunes', 0.5478185415267944)]\n"
     ]
    }
   ],
   "source": [
    "print(word2vec_model.most_similar(positive=['apple']))"
   ]
  },
  {
   "cell_type": "code",
   "execution_count": 35,
   "metadata": {
    "colab": {
     "base_uri": "https://localhost:8080/"
    },
    "id": "grhKh02BYcUk",
    "outputId": "afea41a8-ea04-4815-c54c-859d4407668c"
   },
   "outputs": [
    {
     "name": "stdout",
     "output_type": "stream",
     "text": [
      "[('software', 0.6169228553771973), ('google', 0.5910393595695496), ('aol', 0.572910487651825), ('itunes', 0.5522023439407349), ('netscape', 0.5507913827896118), ('browser', 0.5498033761978149), ('windows', 0.5322011113166809), ('users', 0.5299777388572693), ('iphone', 0.5295134782791138), ('internet', 0.5271527767181396)]\n"
     ]
    }
   ],
   "source": [
    "print(word2vec_model.most_similar(positive=['microsoft', 'apple'], negative=['intel']))"
   ]
  },
  {
   "cell_type": "code",
   "execution_count": 36,
   "metadata": {
    "colab": {
     "base_uri": "https://localhost:8080/"
    },
    "id": "TB9Y2Fi7Ys54",
    "outputId": "8a844eb9-47d2-4602-91a0-d8681550f10a"
   },
   "outputs": [
    {
     "data": {
      "text/plain": [
       "[('microsoft', 0.7563050389289856),\n",
       " ('apple', 0.6661206483840942),\n",
       " ('ibm', 0.6530752182006836),\n",
       " ('intel', 0.64974445104599),\n",
       " ('hewlett', 0.6136899590492249),\n",
       " ('packard', 0.5853277444839478),\n",
       " ('software', 0.5449655055999756),\n",
       " ('netscape', 0.537883996963501),\n",
       " ('oracle', 0.5367306470870972),\n",
       " ('compaq', 0.5244184732437134)]"
      ]
     },
     "execution_count": 36,
     "metadata": {
      "tags": []
     },
     "output_type": "execute_result"
    }
   ],
   "source": [
    "word2vec_model.similar_by_vector(word2vec_model['apple'] - word2vec_model['itunes'] + word2vec_model['microsoft'])"
   ]
  },
  {
   "cell_type": "markdown",
   "metadata": {
    "id": "prHSzdQUcZhm"
   },
   "source": [
    "### **Create embedding matrix**"
   ]
  },
  {
   "cell_type": "code",
   "execution_count": 37,
   "metadata": {
    "id": "elZ-T5aFGZmZ"
   },
   "outputs": [],
   "source": [
    "EMBEDDING_FILE = './glove.6B.200d.txt'\n",
    "\n",
    "embeddings = {}\n",
    "for o in open(EMBEDDING_FILE):\n",
    "    word = o.split(\" \")[0]\n",
    "    # print(word)\n",
    "    embd = o.split(\" \")[1:]\n",
    "    embd = np.asarray(embd, dtype='float32')\n",
    "    # print(embd)\n",
    "    embeddings[word] = embd\n",
    "\n",
    "# create a weight matrix for words in training docs\n",
    "embedding_matrix = np.zeros((num_words, 200))\n",
    "\n",
    "for word, i in tokenizer.word_index.items():\n",
    "    embedding_vector = embeddings.get(word)\n",
    "    if embedding_vector is not None:\n",
    "        embedding_matrix[i] = embedding_vector"
   ]
  },
  {
   "cell_type": "code",
   "execution_count": 38,
   "metadata": {
    "colab": {
     "base_uri": "https://localhost:8080/"
    },
    "id": "K_Ncqwq35v5D",
    "outputId": "604070c3-e58a-45ce-bf75-b18d1d71e712"
   },
   "outputs": [
    {
     "data": {
      "text/plain": [
       "(28168, 200)"
      ]
     },
     "execution_count": 38,
     "metadata": {
      "tags": []
     },
     "output_type": "execute_result"
    }
   ],
   "source": [
    "embedding_matrix.shape"
   ]
  },
  {
   "cell_type": "markdown",
   "metadata": {
    "id": "u7IbWuEX82Ra"
   },
   "source": [
    "## **Define model (10 Marks)**\n",
    "- Hint: Use Sequential model instance and then add Embedding layer, Bidirectional(LSTM) layer, flatten it, then dense and dropout layers as required. \n",
    "In the end add a final dense layer with sigmoid activation for binary classification."
   ]
  },
  {
   "cell_type": "code",
   "execution_count": 39,
   "metadata": {
    "id": "4tv168Gmc3PY"
   },
   "outputs": [],
   "source": [
    "#### Add your code here ####\n",
    "model = Sequential() #adding sequential layer\n",
    "model.add(Embedding(input_dim = max_features, output_dim = 100, input_length = maxlen)) #adding embedding layer \n",
    "model.add(SpatialDropout1D(0.4)) #added for robustness\n",
    "model.add(Bidirectional(LSTM(units = 100, return_sequences = True, recurrent_dropout = 0.1))) #adding LSTM layer\n",
    "model.add(Flatten())# Flatten \n",
    "#model.add(TimeDistributed(Dense(100, activation = \"softmax\"))) # timedistributed layer\n",
    "# timedistributed layer removed as we have not been asked for it\n",
    "model.add(Dense(33, activation = \"relu\")) # Dense layer\n",
    "model.add(Dropout(0.2))\n",
    "model.add(Dense(units=1,activation=\"sigmoid\")) #Dense layer"
   ]
  },
  {
   "cell_type": "code",
   "execution_count": 40,
   "metadata": {
    "id": "74yLL9OIBHj7"
   },
   "outputs": [],
   "source": [
    "#### Add your code here ####\n",
    "model_pretrained = Sequential() #adding sequential layer\n",
    "#we dont have a spatial layer here as it comes at a significant cost of accuracy\n",
    "model_pretrained.add(Embedding(input_dim = num_words, weights=[embedding_matrix], output_dim = 200, input_length = maxlen, trainable=False)) #adding embedding layer \n",
    "model_pretrained.add(Bidirectional(LSTM(units = 100, return_sequences = True, recurrent_dropout = 0.2,))) #adding LSTM layer\n",
    "model_pretrained.add(Flatten())# Flatten \n",
    "#model.add(TimeDistributed(Dense(100, activation = \"softmax\"))) \n",
    "# timedistributed layer removed as we have not been asked for it\n",
    "model_pretrained.add(Dense(33, activation = \"relu\")) # Dense layer\n",
    "model_pretrained.add(Dropout(0.2))\n",
    "model_pretrained.add(Dense(units=1,activation=\"sigmoid\")) #Dense layer"
   ]
  },
  {
   "cell_type": "markdown",
   "metadata": {
    "id": "xoI7_8Y1cqTj"
   },
   "source": [
    "## **Compile the model (5 Marks)**"
   ]
  },
  {
   "cell_type": "markdown",
   "metadata": {
    "id": "SgUdWSonrwsr"
   },
   "source": [
    "### **Creating 2 models, 1 for the pretrained embedding from the glove file, and 1 for non pre trained**"
   ]
  },
  {
   "cell_type": "code",
   "execution_count": 41,
   "metadata": {
    "id": "-jJiPHeNoJ3U"
   },
   "outputs": [],
   "source": [
    "#### Add your code here ####\n",
    "model.compile(optimizer= \"adam\", loss =\"binary_crossentropy\",metrics =[\"accuracy\"])"
   ]
  },
  {
   "cell_type": "code",
   "execution_count": 42,
   "metadata": {
    "id": "11i2xl2TBpXO"
   },
   "outputs": [],
   "source": [
    "model_pretrained.compile(optimizer= \"adam\", loss =\"binary_crossentropy\",metrics =[\"accuracy\"])"
   ]
  },
  {
   "cell_type": "code",
   "execution_count": 43,
   "metadata": {
    "colab": {
     "base_uri": "https://localhost:8080/"
    },
    "id": "AQhQNiYFimb2",
    "outputId": "9e146fed-2914-4a55-9fee-20b4cc33e8e5"
   },
   "outputs": [
    {
     "name": "stdout",
     "output_type": "stream",
     "text": [
      "Model: \"sequential\"\n",
      "_________________________________________________________________\n",
      "Layer (type)                 Output Shape              Param #   \n",
      "=================================================================\n",
      "embedding (Embedding)        (None, 25, 100)           1000000   \n",
      "_________________________________________________________________\n",
      "spatial_dropout1d (SpatialDr (None, 25, 100)           0         \n",
      "_________________________________________________________________\n",
      "bidirectional (Bidirectional (None, 25, 200)           160800    \n",
      "_________________________________________________________________\n",
      "flatten (Flatten)            (None, 5000)              0         \n",
      "_________________________________________________________________\n",
      "dense (Dense)                (None, 33)                165033    \n",
      "_________________________________________________________________\n",
      "dropout (Dropout)            (None, 33)                0         \n",
      "_________________________________________________________________\n",
      "dense_1 (Dense)              (None, 1)                 34        \n",
      "=================================================================\n",
      "Total params: 1,325,867\n",
      "Trainable params: 1,325,867\n",
      "Non-trainable params: 0\n",
      "_________________________________________________________________\n"
     ]
    }
   ],
   "source": [
    "#### Add your code here ####\n",
    "model.summary()"
   ]
  },
  {
   "cell_type": "code",
   "execution_count": 44,
   "metadata": {
    "colab": {
     "base_uri": "https://localhost:8080/"
    },
    "id": "Dv6Ug5feBt9X",
    "outputId": "db372c40-7caa-4ad0-aa3b-51a7d72c918b"
   },
   "outputs": [
    {
     "name": "stdout",
     "output_type": "stream",
     "text": [
      "Model: \"sequential_1\"\n",
      "_________________________________________________________________\n",
      "Layer (type)                 Output Shape              Param #   \n",
      "=================================================================\n",
      "embedding_1 (Embedding)      (None, 25, 200)           5633600   \n",
      "_________________________________________________________________\n",
      "bidirectional_1 (Bidirection (None, 25, 200)           240800    \n",
      "_________________________________________________________________\n",
      "flatten_1 (Flatten)          (None, 5000)              0         \n",
      "_________________________________________________________________\n",
      "dense_2 (Dense)              (None, 33)                165033    \n",
      "_________________________________________________________________\n",
      "dropout_1 (Dropout)          (None, 33)                0         \n",
      "_________________________________________________________________\n",
      "dense_3 (Dense)              (None, 1)                 34        \n",
      "=================================================================\n",
      "Total params: 6,039,467\n",
      "Trainable params: 405,867\n",
      "Non-trainable params: 5,633,600\n",
      "_________________________________________________________________\n"
     ]
    }
   ],
   "source": [
    "model_pretrained.summary()"
   ]
  },
  {
   "cell_type": "markdown",
   "metadata": {
    "id": "7s4nmqcecw3a"
   },
   "source": [
    "## **Fit the model (5 Marks)**"
   ]
  },
  {
   "cell_type": "markdown",
   "metadata": {
    "id": "R4Ia8to3r42w"
   },
   "source": [
    "### **Creating Early Stopping Callback**"
   ]
  },
  {
   "cell_type": "code",
   "execution_count": 45,
   "metadata": {
    "id": "k4wk02ui4vz5"
   },
   "outputs": [],
   "source": [
    "es = EarlyStopping(monitor='val_loss', mode='min', verbose=1)"
   ]
  },
  {
   "cell_type": "markdown",
   "metadata": {
    "id": "yVljGoI_sfGM"
   },
   "source": [
    "### **Fitting the non pre-trained model**"
   ]
  },
  {
   "cell_type": "code",
   "execution_count": 46,
   "metadata": {
    "colab": {
     "base_uri": "https://localhost:8080/"
    },
    "id": "NN789zNnJ5PL",
    "outputId": "c67114c7-55b3-4251-fa29-a2c8c412db0c"
   },
   "outputs": [
    {
     "name": "stdout",
     "output_type": "stream",
     "text": [
      "Epoch 1/5\n",
      "468/468 [==============================] - 56s 119ms/step - loss: 0.4410 - accuracy: 0.7906 - val_loss: 0.3386 - val_accuracy: 0.8549\n",
      "Epoch 2/5\n",
      "468/468 [==============================] - 55s 118ms/step - loss: 0.2427 - accuracy: 0.9041 - val_loss: 0.3434 - val_accuracy: 0.8551\n",
      "Epoch 00002: early stopping\n"
     ]
    }
   ],
   "source": [
    "#### Add your code here ####\n",
    "fitted_model1 = model.fit(x_train, y_train, batch_size = 32, epochs=5, validation_split=0.3, verbose=1, callbacks = [es])"
   ]
  },
  {
   "cell_type": "markdown",
   "metadata": {
    "id": "SxSkLVPMr8uQ"
   },
   "source": [
    "### **Printing the layer by layer output**"
   ]
  },
  {
   "cell_type": "code",
   "execution_count": 47,
   "metadata": {
    "colab": {
     "base_uri": "https://localhost:8080/"
    },
    "id": "wH--Uz8sNyX3",
    "outputId": "e0765db5-1846-4ab7-cf93-3806db7a1bfe"
   },
   "outputs": [
    {
     "name": "stdout",
     "output_type": "stream",
     "text": [
      "Input to layer  1 :  Tensor(\"embedding_input:0\", shape=(None, 25), dtype=float32)\n",
      "Output from layer  1 :  Tensor(\"embedding/embedding_lookup/Identity_1:0\", shape=(None, 25, 100), dtype=float32)\n",
      "Input to layer  2 :  Tensor(\"embedding/embedding_lookup/Identity_1:0\", shape=(None, 25, 100), dtype=float32)\n",
      "Output from layer  2 :  Tensor(\"spatial_dropout1d/cond/Identity:0\", shape=(None, 25, 100), dtype=float32)\n",
      "Input to layer  3 :  Tensor(\"spatial_dropout1d/cond/Identity:0\", shape=(None, 25, 100), dtype=float32)\n",
      "Output from layer  3 :  Tensor(\"bidirectional/concat:0\", shape=(None, 25, 200), dtype=float32)\n",
      "Input to layer  4 :  Tensor(\"bidirectional/concat:0\", shape=(None, 25, 200), dtype=float32)\n",
      "Output from layer  4 :  Tensor(\"flatten/Reshape:0\", shape=(None, 5000), dtype=float32)\n",
      "Input to layer  5 :  Tensor(\"flatten/Reshape:0\", shape=(None, 5000), dtype=float32)\n",
      "Output from layer  5 :  Tensor(\"dense/Relu:0\", shape=(None, 33), dtype=float32)\n",
      "Input to layer  6 :  Tensor(\"dense/Relu:0\", shape=(None, 33), dtype=float32)\n",
      "Output from layer  6 :  Tensor(\"dropout/cond/Identity:0\", shape=(None, 33), dtype=float32)\n",
      "Input to layer  7 :  Tensor(\"dropout/cond/Identity:0\", shape=(None, 33), dtype=float32)\n",
      "Output from layer  7 :  Tensor(\"dense_1/Sigmoid:0\", shape=(None, 1), dtype=float32)\n"
     ]
    }
   ],
   "source": [
    "count = 0\n",
    "for l in model.layers:\n",
    "    count = count + 1\n",
    "    print (\"Input to layer \", count, \": \", l.input)\n",
    "    print (\"Output from layer \", count, \": \", l.output)"
   ]
  },
  {
   "cell_type": "markdown",
   "metadata": {
    "id": "PSmmTqMvsBzi"
   },
   "source": [
    "### **Check Model History to understand progress**"
   ]
  },
  {
   "cell_type": "code",
   "execution_count": 48,
   "metadata": {
    "colab": {
     "base_uri": "https://localhost:8080/"
    },
    "id": "acPd3neOUsF5",
    "outputId": "b98849cd-9d63-41b5-f051-7d73d1cbf21a"
   },
   "outputs": [
    {
     "data": {
      "text/plain": [
       "{'accuracy': [0.7905856966972351, 0.9041187763214111],\n",
       " 'loss': [0.4410315155982971, 0.24271517992019653],\n",
       " 'val_accuracy': [0.8549368381500244, 0.8550928235054016],\n",
       " 'val_loss': [0.3386043608188629, 0.3433974087238312]}"
      ]
     },
     "execution_count": 48,
     "metadata": {
      "tags": []
     },
     "output_type": "execute_result"
    }
   ],
   "source": [
    "fitted_model1.history"
   ]
  },
  {
   "cell_type": "markdown",
   "metadata": {
    "id": "1BkF--5bsDPe"
   },
   "source": [
    "### **Visualize the accuracy plot**"
   ]
  },
  {
   "cell_type": "code",
   "execution_count": 49,
   "metadata": {
    "colab": {
     "base_uri": "https://localhost:8080/",
     "height": 300
    },
    "id": "6I71NJVacfD3",
    "outputId": "8f22b169-bd64-45ce-e399-eb2e825b9d30"
   },
   "outputs": [
    {
     "data": {
      "text/plain": [
       "[<matplotlib.lines.Line2D at 0x7f2f3d822518>]"
      ]
     },
     "execution_count": 49,
     "metadata": {
      "tags": []
     },
     "output_type": "execute_result"
    },
    {
     "data": {
      "image/png": "[encoded data removed]",
      "text/plain": [
       "<Figure size 432x288 with 1 Axes>"
      ]
     },
     "metadata": {
      "needs_background": "light",
      "tags": []
     },
     "output_type": "display_data"
    }
   ],
   "source": [
    "plt.xlabel(\"accuracy\")\n",
    "plt.ylabel(\"val_accuracy\")\n",
    "plt.plot(fitted_model1.history[\"accuracy\"],fitted_model1.history[\"val_accuracy\"], ls = \"-\", marker = \".\", markersize = \"10\")"
   ]
  },
  {
   "cell_type": "markdown",
   "metadata": {
    "id": "1D1WHUG5sEyq"
   },
   "source": [
    "### **Fit the pretrained model**"
   ]
  },
  {
   "cell_type": "code",
   "execution_count": 50,
   "metadata": {
    "colab": {
     "base_uri": "https://localhost:8080/"
    },
    "id": "g3361eEqB1Ra",
    "outputId": "48fd9738-cf5b-44ea-f8a0-5d10ffaf2847"
   },
   "outputs": [
    {
     "name": "stdout",
     "output_type": "stream",
     "text": [
      "Epoch 1/5\n",
      "468/468 [==============================] - 51s 110ms/step - loss: 0.4937 - accuracy: 0.7621 - val_loss: 0.4208 - val_accuracy: 0.8053\n",
      "Epoch 2/5\n",
      "468/468 [==============================] - 51s 108ms/step - loss: 0.3459 - accuracy: 0.8485 - val_loss: 0.3575 - val_accuracy: 0.8439\n",
      "Epoch 3/5\n",
      "468/468 [==============================] - 51s 109ms/step - loss: 0.2737 - accuracy: 0.8870 - val_loss: 0.3905 - val_accuracy: 0.8284\n",
      "Epoch 00003: early stopping\n"
     ]
    }
   ],
   "source": [
    "#### Add your code here ####\n",
    "fitted_model2 = model_pretrained.fit(x_train, y_train, batch_size = 32, epochs=5, validation_split=0.3, verbose=1, callbacks = [es])"
   ]
  },
  {
   "cell_type": "markdown",
   "metadata": {
    "id": "2F0j1KlnsGHj"
   },
   "source": [
    "### **Printing the layer by layer output**"
   ]
  },
  {
   "cell_type": "code",
   "execution_count": 51,
   "metadata": {
    "colab": {
     "base_uri": "https://localhost:8080/"
    },
    "id": "pJPrMLeAUlVO",
    "outputId": "b3480517-0a10-4e50-b2af-bbdff8955b86"
   },
   "outputs": [
    {
     "name": "stdout",
     "output_type": "stream",
     "text": [
      "Input to layer  1 :  Tensor(\"embedding_1_input:0\", shape=(None, 25), dtype=float32)\n",
      "Output from layer  1 :  Tensor(\"embedding_1/embedding_lookup/Identity_1:0\", shape=(None, 25, 200), dtype=float32)\n",
      "Input to layer  2 :  Tensor(\"embedding_1/embedding_lookup/Identity_1:0\", shape=(None, 25, 200), dtype=float32)\n",
      "Output from layer  2 :  Tensor(\"bidirectional_1/concat:0\", shape=(None, 25, 200), dtype=float32)\n",
      "Input to layer  3 :  Tensor(\"bidirectional_1/concat:0\", shape=(None, 25, 200), dtype=float32)\n",
      "Output from layer  3 :  Tensor(\"flatten_1/Reshape:0\", shape=(None, 5000), dtype=float32)\n",
      "Input to layer  4 :  Tensor(\"flatten_1/Reshape:0\", shape=(None, 5000), dtype=float32)\n",
      "Output from layer  4 :  Tensor(\"dense_2/Relu:0\", shape=(None, 33), dtype=float32)\n",
      "Input to layer  5 :  Tensor(\"dense_2/Relu:0\", shape=(None, 33), dtype=float32)\n",
      "Output from layer  5 :  Tensor(\"dropout_1/cond/Identity:0\", shape=(None, 33), dtype=float32)\n",
      "Input to layer  6 :  Tensor(\"dropout_1/cond/Identity:0\", shape=(None, 33), dtype=float32)\n",
      "Output from layer  6 :  Tensor(\"dense_3/Sigmoid:0\", shape=(None, 1), dtype=float32)\n"
     ]
    }
   ],
   "source": [
    "count = 0\n",
    "for l in model_pretrained.layers:\n",
    "    count = count + 1\n",
    "    print (\"Input to layer \", count, \": \", l.input)\n",
    "    print (\"Output from layer \", count, \": \", l.output)"
   ]
  },
  {
   "cell_type": "markdown",
   "metadata": {
    "id": "lGrckBB7srPC"
   },
   "source": [
    "### **Check Pre trained Model History to understand progress**"
   ]
  },
  {
   "cell_type": "code",
   "execution_count": 52,
   "metadata": {
    "colab": {
     "base_uri": "https://localhost:8080/"
    },
    "id": "KwScO5gysoMP",
    "outputId": "2ce84d2e-ffbc-4e96-d5a4-6ecae8285da6"
   },
   "outputs": [
    {
     "data": {
      "text/plain": [
       "{'accuracy': [0.7621021866798401, 0.8484889268875122, 0.8870018720626831],\n",
       " 'loss': [0.4937100112438202, 0.34588202834129333, 0.27365052700042725],\n",
       " 'val_accuracy': [0.8053345680236816, 0.8438621163368225, 0.8284199237823486],\n",
       " 'val_loss': [0.420802503824234, 0.35754650831222534, 0.39050522446632385]}"
      ]
     },
     "execution_count": 52,
     "metadata": {
      "tags": []
     },
     "output_type": "execute_result"
    }
   ],
   "source": [
    "fitted_model2.history"
   ]
  },
  {
   "cell_type": "markdown",
   "metadata": {
    "id": "XEYVPJwmsHcd"
   },
   "source": [
    "### **Visualize the output**"
   ]
  },
  {
   "cell_type": "code",
   "execution_count": 53,
   "metadata": {
    "colab": {
     "base_uri": "https://localhost:8080/",
     "height": 296
    },
    "id": "CSFhSHnif8hz",
    "outputId": "caab59b0-8d89-4bc7-bc67-afd2aa1d2b18"
   },
   "outputs": [
    {
     "data": {
      "text/plain": [
       "[<matplotlib.lines.Line2D at 0x7f2f3de0bcf8>]"
      ]
     },
     "execution_count": 53,
     "metadata": {
      "tags": []
     },
     "output_type": "execute_result"
    },
    {
     "data": {
      "image/png": "[encoded data removed]",
      "text/plain": [
       "<Figure size 432x288 with 1 Axes>"
      ]
     },
     "metadata": {
      "needs_background": "light",
      "tags": []
     },
     "output_type": "display_data"
    }
   ],
   "source": [
    "plt.xlabel(\"accuracy\")\n",
    "plt.ylabel(\"val_accuracy\")\n",
    "plt.plot(fitted_model2.history[\"accuracy\"],fitted_model2.history[\"val_accuracy\"], ls = \"-\", marker = \".\", markersize = \"10\")"
   ]
  },
  {
   "cell_type": "markdown",
   "metadata": {
    "id": "AIGumuqpsItd"
   },
   "source": [
    "## **Evaluate and score the models**"
   ]
  },
  {
   "cell_type": "code",
   "execution_count": 54,
   "metadata": {
    "colab": {
     "base_uri": "https://localhost:8080/"
    },
    "id": "P479hK4IxxDS",
    "outputId": "d84ff02f-bb33-4808-b346-df97c455b7d7"
   },
   "outputs": [
    {
     "name": "stdout",
     "output_type": "stream",
     "text": [
      "167/167 [==============================] - 3s 16ms/step - loss: 0.3434 - accuracy: 0.8536\n"
     ]
    }
   ],
   "source": [
    "#### Add your code here ####\n",
    "score, acc = model.evaluate(x_test, y_test,verbose = 1)"
   ]
  },
  {
   "cell_type": "code",
   "execution_count": 55,
   "metadata": {
    "colab": {
     "base_uri": "https://localhost:8080/"
    },
    "id": "Xy5LSphBB5wI",
    "outputId": "a3daf383-7fb7-485a-c499-7c0307f34e51"
   },
   "outputs": [
    {
     "name": "stdout",
     "output_type": "stream",
     "text": [
      "167/167 [==============================] - 3s 20ms/step - loss: 0.3668 - accuracy: 0.8420\n"
     ]
    }
   ],
   "source": [
    "#### Add your code here ####\n",
    "score1, acc1 = model_pretrained.evaluate(x_test, y_test,verbose = 1)"
   ]
  },
  {
   "cell_type": "code",
   "execution_count": 56,
   "metadata": {
    "colab": {
     "base_uri": "https://localhost:8080/"
    },
    "id": "_9LqwrIcyGvP",
    "outputId": "7b154c91-1c3a-49c2-8ccf-c77cf5845a26"
   },
   "outputs": [
    {
     "name": "stdout",
     "output_type": "stream",
     "text": [
      "score was 0.34338995814323425  accuracy was 0.8536128997802734\n"
     ]
    }
   ],
   "source": [
    "print(\"score was\", score, \" accuracy was\", acc)"
   ]
  },
  {
   "cell_type": "code",
   "execution_count": 57,
   "metadata": {
    "colab": {
     "base_uri": "https://localhost:8080/"
    },
    "id": "wKUofDUtCCH9",
    "outputId": "75d1afea-44e3-49de-85d6-905b9b615188"
   },
   "outputs": [
    {
     "name": "stdout",
     "output_type": "stream",
     "text": [
      "score was 0.3668050169944763  accuracy was 0.8420067429542542\n"
     ]
    }
   ],
   "source": [
    "print(\"score was\", score1, \" accuracy was\", acc1)"
   ]
  },
  {
   "cell_type": "markdown",
   "metadata": {
    "id": "9s70wjoMuFGm"
   },
   "source": [
    "The accuracies of both models are comparable. However, we saw a lower loss in the non pretrained model. "
   ]
  },
  {
   "cell_type": "markdown",
   "metadata": {
    "id": "JyMCE30nsK6s"
   },
   "source": [
    "### **Make the predictions for both models**"
   ]
  },
  {
   "cell_type": "code",
   "execution_count": 58,
   "metadata": {
    "id": "8jPVKQ1ryIyO"
   },
   "outputs": [],
   "source": [
    "y_pred = model.predict(x_test)"
   ]
  },
  {
   "cell_type": "code",
   "execution_count": 59,
   "metadata": {
    "id": "p4nX7LHKCERx"
   },
   "outputs": [],
   "source": [
    "y_pred_pretrained = model_pretrained.predict(x_test)"
   ]
  },
  {
   "cell_type": "code",
   "execution_count": 60,
   "metadata": {
    "colab": {
     "base_uri": "https://localhost:8080/"
    },
    "id": "Q0P69z9DyKXw",
    "outputId": "c77d7a35-b3c9-4015-b4fd-022ca721bb2d"
   },
   "outputs": [
    {
     "name": "stdout",
     "output_type": "stream",
     "text": [
      "(5342, 1)\n",
      "(5342, 1)\n"
     ]
    }
   ],
   "source": [
    "print(y_pred.shape)\n",
    "print(y_pred_pretrained.shape)"
   ]
  },
  {
   "cell_type": "code",
   "execution_count": 61,
   "metadata": {
    "colab": {
     "base_uri": "https://localhost:8080/"
    },
    "id": "psMg-A0fyL6m",
    "outputId": "ad7b6fa0-3279-42f9-d2f1-5a859e3571ba"
   },
   "outputs": [
    {
     "data": {
      "text/plain": [
       "array([[0.19387889],\n",
       "       [0.6597003 ],\n",
       "       [0.7120677 ],\n",
       "       ...,\n",
       "       [0.02308303],\n",
       "       [0.05400106],\n",
       "       [0.00830638]], dtype=float32)"
      ]
     },
     "execution_count": 61,
     "metadata": {
      "tags": []
     },
     "output_type": "execute_result"
    }
   ],
   "source": [
    "y_pred"
   ]
  },
  {
   "cell_type": "code",
   "execution_count": 62,
   "metadata": {
    "colab": {
     "base_uri": "https://localhost:8080/"
    },
    "id": "3xj_2leNCTd2",
    "outputId": "f994d470-56b8-4fc5-cc5d-fbbdefca5078"
   },
   "outputs": [
    {
     "data": {
      "text/plain": [
       "array([[0.03395334],\n",
       "       [0.39011702],\n",
       "       [0.4078194 ],\n",
       "       ...,\n",
       "       [0.08842075],\n",
       "       [0.07385054],\n",
       "       [0.30910298]], dtype=float32)"
      ]
     },
     "execution_count": 62,
     "metadata": {
      "tags": []
     },
     "output_type": "execute_result"
    }
   ],
   "source": [
    "y_pred_pretrained"
   ]
  },
  {
   "cell_type": "markdown",
   "metadata": {
    "id": "lKgpO_rHsM16"
   },
   "source": [
    "### **Binarizing the predictions**"
   ]
  },
  {
   "cell_type": "code",
   "execution_count": 63,
   "metadata": {
    "id": "LRnW9yjfyOF-"
   },
   "outputs": [],
   "source": [
    "y_pred_new = binarize(y_pred, 0.5)\n",
    "y_pred_pretrained_new = binarize(y_pred_pretrained, 0.5)"
   ]
  },
  {
   "cell_type": "code",
   "execution_count": 64,
   "metadata": {
    "id": "Tqp0JRU2yQJn"
   },
   "outputs": [],
   "source": [
    "y_pred_new = [item for sublist in y_pred_new for item in sublist]\n",
    "y_pred_pretrained_new = [item for sublist in y_pred_pretrained_new for item in sublist]"
   ]
  },
  {
   "cell_type": "code",
   "execution_count": 65,
   "metadata": {
    "id": "aukrilKvyR9R"
   },
   "outputs": [],
   "source": [
    "y_pred_new = np.array(y_pred_new)\n",
    "y_pred_pretrained_new = np.array(y_pred_pretrained_new)"
   ]
  },
  {
   "cell_type": "markdown",
   "metadata": {
    "id": "TxC2QnmBsQSg"
   },
   "source": [
    "### **Printing the classification report**"
   ]
  },
  {
   "cell_type": "code",
   "execution_count": 66,
   "metadata": {
    "colab": {
     "base_uri": "https://localhost:8080/"
    },
    "id": "_OOuoYUfyTXU",
    "outputId": "aea7e5c4-237b-4960-bf5b-428edf0535ac"
   },
   "outputs": [
    {
     "name": "stdout",
     "output_type": "stream",
     "text": [
      "              precision    recall  f1-score   support\n",
      "\n",
      "           0       0.85      0.89      0.87      2972\n",
      "           1       0.86      0.81      0.83      2370\n",
      "\n",
      "    accuracy                           0.85      5342\n",
      "   macro avg       0.85      0.85      0.85      5342\n",
      "weighted avg       0.85      0.85      0.85      5342\n",
      "\n"
     ]
    }
   ],
   "source": [
    "print(classification_report(y_test,y_pred_new))"
   ]
  },
  {
   "cell_type": "code",
   "execution_count": 67,
   "metadata": {
    "colab": {
     "base_uri": "https://localhost:8080/"
    },
    "id": "1FM0CwS2CeXM",
    "outputId": "53b28253-f7f8-4db6-e1c7-8c34b890a9fa"
   },
   "outputs": [
    {
     "name": "stdout",
     "output_type": "stream",
     "text": [
      "              precision    recall  f1-score   support\n",
      "\n",
      "           0       0.90      0.80      0.85      2972\n",
      "           1       0.78      0.89      0.83      2370\n",
      "\n",
      "    accuracy                           0.84      5342\n",
      "   macro avg       0.84      0.85      0.84      5342\n",
      "weighted avg       0.85      0.84      0.84      5342\n",
      "\n"
     ]
    }
   ],
   "source": [
    "print(classification_report(y_test,y_pred_pretrained_new))"
   ]
  },
  {
   "cell_type": "markdown",
   "metadata": {
    "id": "xE03-oK1sPFc"
   },
   "source": [
    "### **Doing Sample Predictions**"
   ]
  },
  {
   "cell_type": "code",
   "execution_count": 68,
   "metadata": {
    "id": "6OwfXbn3unT4"
   },
   "outputs": [],
   "source": [
    "sentiment_dict = dict({1:\"Sarcastic\",0:\"Non Sarcastic\"})"
   ]
  },
  {
   "cell_type": "code",
   "execution_count": 75,
   "metadata": {
    "colab": {
     "base_uri": "https://localhost:8080/"
    },
    "id": "o_x8tFfEyWO5",
    "outputId": "d3da5271-31d7-4d90-ad7e-b77db93975a3"
   },
   "outputs": [
    {
     "data": {
      "text/plain": [
       "array([[0.05938148]], dtype=float32)"
      ]
     },
     "execution_count": 75,
     "metadata": {
      "tags": []
     },
     "output_type": "execute_result"
    }
   ],
   "source": [
    "SAMPLE_INDEX = 44\n",
    "p = model.predict(np.array([x_test[SAMPLE_INDEX]]))\n",
    "p"
   ]
  },
  {
   "cell_type": "code",
   "execution_count": 76,
   "metadata": {
    "colab": {
     "base_uri": "https://localhost:8080/"
    },
    "id": "ru-N9ocVyXrp",
    "outputId": "fcf9b655-ec3d-40db-9d84-56e65971864f"
   },
   "outputs": [
    {
     "name": "stdout",
     "output_type": "stream",
     "text": [
      "Non Sarcastic\n"
     ]
    }
   ],
   "source": [
    "if p > 0.5:\n",
    "    print(\"Sarcastic\")\n",
    "else:\n",
    "    print(\"Non Sarcastic\")"
   ]
  },
  {
   "cell_type": "code",
   "execution_count": 77,
   "metadata": {
    "colab": {
     "base_uri": "https://localhost:8080/"
    },
    "id": "HNThtH9VyZfp",
    "outputId": "a46720a4-3c0b-47e4-d1e5-d2b658c9b45d"
   },
   "outputs": [
    {
     "name": "stdout",
     "output_type": "stream",
     "text": [
      "Non Sarcastic\n"
     ]
    }
   ],
   "source": [
    "print(sentiment_dict.get(y_test[SAMPLE_INDEX]))"
   ]
  },
  {
   "cell_type": "code",
   "execution_count": 72,
   "metadata": {
    "colab": {
     "base_uri": "https://localhost:8080/"
    },
    "id": "f0p4H-nTE1mc",
    "outputId": "3586ac9c-e9be-43b4-b9e1-81e1a3f08f6b"
   },
   "outputs": [
    {
     "data": {
      "text/plain": [
       "array([[0.8142681]], dtype=float32)"
      ]
     },
     "execution_count": 72,
     "metadata": {
      "tags": []
     },
     "output_type": "execute_result"
    }
   ],
   "source": [
    "SAMPLE_INDEX = 45\n",
    "p = model_pretrained.predict(np.array([x_test[SAMPLE_INDEX]]))\n",
    "p"
   ]
  },
  {
   "cell_type": "code",
   "execution_count": 73,
   "metadata": {
    "colab": {
     "base_uri": "https://localhost:8080/"
    },
    "id": "HnS1z-AjE8yB",
    "outputId": "bd51b316-4716-4c6d-c6f8-6d2e091cf128"
   },
   "outputs": [
    {
     "name": "stdout",
     "output_type": "stream",
     "text": [
      "Sarcastic\n"
     ]
    }
   ],
   "source": [
    "if p > 0.5:\n",
    "    print(\"Sarcastic\")\n",
    "else:\n",
    "    print(\"Non Sarcastic\")"
   ]
  },
  {
   "cell_type": "code",
   "execution_count": 74,
   "metadata": {
    "colab": {
     "base_uri": "https://localhost:8080/"
    },
    "id": "I-m4m0NrFADs",
    "outputId": "008e5d6f-d463-44f8-9fea-34e141f5edc2"
   },
   "outputs": [
    {
     "name": "stdout",
     "output_type": "stream",
     "text": [
      "Sarcastic\n"
     ]
    }
   ],
   "source": [
    "print(sentiment_dict.get(y_test[SAMPLE_INDEX]))"
   ]
  },
  {
   "cell_type": "markdown",
   "metadata": {
    "id": "in6VAQFO4zC4"
   },
   "source": [
    "# **Assignment 11 End**"
   ]
  }
 ],
 "metadata": {
  "colab": {
   "collapsed_sections": [],
   "name": "Questions - Project 2 - Sequential Models in NLP - Sarcasm Detection.ipynb",
   "provenance": [],
   "toc_visible": true
  },
  "kernelspec": {
   "display_name": "Python 3",
   "language": "python",
   "name": "python3"
  },
  "language_info": {
   "codemirror_mode": {
    "name": "ipython",
    "version": 3
   },
   "file_extension": ".py",
   "mimetype": "text/x-python",
   "name": "python",
   "nbconvert_exporter": "python",
   "pygments_lexer": "ipython3",
   "version": "3.7.3"
  }
 },
 "nbformat": 4,
 "nbformat_minor": 1
}
