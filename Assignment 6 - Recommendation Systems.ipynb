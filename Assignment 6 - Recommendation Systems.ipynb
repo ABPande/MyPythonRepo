{
 "cells": [
  {
   "cell_type": "markdown",
   "metadata": {},
   "source": [
    "# <font color = \"blue\"> Assignment 6- Recommendation Systems"
   ]
  },
  {
   "cell_type": "markdown",
   "metadata": {},
   "source": [
    "### <font color = \"green\"> Make the necessary imports"
   ]
  },
  {
   "cell_type": "code",
   "execution_count": 1,
   "metadata": {},
   "outputs": [],
   "source": [
    "import numpy as np\n",
    "import pandas as pd\n",
    "import matplotlib.pyplot as plt\n",
    "import seaborn as sns\n",
    "%matplotlib inline\n",
    "\n",
    "from sklearn.metrics.pairwise import cosine_distances, cosine_similarity\n",
    "from sklearn.feature_extraction.text import CountVectorizer\n",
    "from sklearn.metrics import mean_squared_error\n",
    "from sklearn.model_selection import train_test_split as sklearn_train_test\n",
    "from math import sqrt\n",
    "\n",
    "from collections import defaultdict\n",
    "from surprise import SVD\n",
    "from surprise import Dataset\n",
    "\n",
    "from surprise import KNNWithMeans\n",
    "#from surprise import Dataset\n",
    "from surprise import accuracy\n",
    "from surprise.model_selection import train_test_split\n",
    "from surprise import Reader\n",
    "from surprise import BaselineOnly\n",
    "from surprise.model_selection import cross_validate\n",
    "\n",
    "from apyori import apriori\n",
    "from scipy.linalg import svd\n",
    "\n",
    "from sklearn.metrics import accuracy_score, roc_auc_score, roc_curve, auc, confusion_matrix, classification_report\n",
    "import os"
   ]
  },
  {
   "cell_type": "markdown",
   "metadata": {},
   "source": [
    "# <font color = \"blue\"> Q1. Read and explore the given dataset."
   ]
  },
  {
   "cell_type": "markdown",
   "metadata": {},
   "source": [
    "### <font color = \"green\"> Read the data"
   ]
  },
  {
   "cell_type": "code",
   "execution_count": 2,
   "metadata": {},
   "outputs": [
    {
     "data": {
      "text/html": [
       "<div>\n",
       "<style scoped>\n",
       "    .dataframe tbody tr th:only-of-type {\n",
       "        vertical-align: middle;\n",
       "    }\n",
       "\n",
       "    .dataframe tbody tr th {\n",
       "        vertical-align: top;\n",
       "    }\n",
       "\n",
       "    .dataframe thead th {\n",
       "        text-align: right;\n",
       "    }\n",
       "</style>\n",
       "<table border=\"1\" class=\"dataframe\">\n",
       "  <thead>\n",
       "    <tr style=\"text-align: right;\">\n",
       "      <th></th>\n",
       "      <th>userId</th>\n",
       "      <th>productId</th>\n",
       "      <th>ratings</th>\n",
       "      <th>timestamp</th>\n",
       "    </tr>\n",
       "  </thead>\n",
       "  <tbody>\n",
       "    <tr>\n",
       "      <th>0</th>\n",
       "      <td>AKM1MP6P0OYPR</td>\n",
       "      <td>0132793040</td>\n",
       "      <td>5.0</td>\n",
       "      <td>1365811200</td>\n",
       "    </tr>\n",
       "    <tr>\n",
       "      <th>1</th>\n",
       "      <td>A2CX7LUOHB2NDG</td>\n",
       "      <td>0321732944</td>\n",
       "      <td>5.0</td>\n",
       "      <td>1341100800</td>\n",
       "    </tr>\n",
       "    <tr>\n",
       "      <th>2</th>\n",
       "      <td>A2NWSAGRHCP8N5</td>\n",
       "      <td>0439886341</td>\n",
       "      <td>1.0</td>\n",
       "      <td>1367193600</td>\n",
       "    </tr>\n",
       "    <tr>\n",
       "      <th>3</th>\n",
       "      <td>A2WNBOD3WNDNKT</td>\n",
       "      <td>0439886341</td>\n",
       "      <td>3.0</td>\n",
       "      <td>1374451200</td>\n",
       "    </tr>\n",
       "    <tr>\n",
       "      <th>4</th>\n",
       "      <td>A1GI0U4ZRJA8WN</td>\n",
       "      <td>0439886341</td>\n",
       "      <td>1.0</td>\n",
       "      <td>1334707200</td>\n",
       "    </tr>\n",
       "  </tbody>\n",
       "</table>\n",
       "</div>"
      ],
      "text/plain": [
       "           userId   productId  ratings   timestamp\n",
       "0   AKM1MP6P0OYPR  0132793040      5.0  1365811200\n",
       "1  A2CX7LUOHB2NDG  0321732944      5.0  1341100800\n",
       "2  A2NWSAGRHCP8N5  0439886341      1.0  1367193600\n",
       "3  A2WNBOD3WNDNKT  0439886341      3.0  1374451200\n",
       "4  A1GI0U4ZRJA8WN  0439886341      1.0  1334707200"
      ]
     },
     "execution_count": 2,
     "metadata": {},
     "output_type": "execute_result"
    }
   ],
   "source": [
    "electronic_df = pd.read_csv(\"ratings_Electronics.csv\", names = [\"userId\", \"productId\", \"ratings\", \"timestamp\"])\n",
    "electronic_df.head()"
   ]
  },
  {
   "cell_type": "markdown",
   "metadata": {},
   "source": [
    "### <font color = \"green\"> Explore the data"
   ]
  },
  {
   "cell_type": "code",
   "execution_count": 3,
   "metadata": {},
   "outputs": [
    {
     "data": {
      "text/plain": [
       "(7824482, 4)"
      ]
     },
     "execution_count": 3,
     "metadata": {},
     "output_type": "execute_result"
    }
   ],
   "source": [
    "electronic_df.shape"
   ]
  },
  {
   "cell_type": "code",
   "execution_count": 4,
   "metadata": {},
   "outputs": [
    {
     "data": {
      "text/plain": [
       "476002"
      ]
     },
     "execution_count": 4,
     "metadata": {},
     "output_type": "execute_result"
    }
   ],
   "source": [
    "electronic_df[\"productId\"].nunique()"
   ]
  },
  {
   "cell_type": "code",
   "execution_count": 5,
   "metadata": {},
   "outputs": [
    {
     "data": {
      "text/plain": [
       "4201696"
      ]
     },
     "execution_count": 5,
     "metadata": {},
     "output_type": "execute_result"
    }
   ],
   "source": [
    "electronic_df[\"userId\"].nunique()"
   ]
  },
  {
   "cell_type": "code",
   "execution_count": 6,
   "metadata": {},
   "outputs": [
    {
     "data": {
      "text/plain": [
       "5"
      ]
     },
     "execution_count": 6,
     "metadata": {},
     "output_type": "execute_result"
    }
   ],
   "source": [
    "electronic_df[\"ratings\"].nunique()"
   ]
  },
  {
   "cell_type": "code",
   "execution_count": 7,
   "metadata": {},
   "outputs": [
    {
     "data": {
      "text/plain": [
       "array([5., 1., 3., 2., 4.])"
      ]
     },
     "execution_count": 7,
     "metadata": {},
     "output_type": "execute_result"
    }
   ],
   "source": [
    "electronic_df[\"ratings\"].unique()"
   ]
  },
  {
   "cell_type": "markdown",
   "metadata": {},
   "source": [
    "### OBSERVATIONS\n",
    "\n",
    "<font color = \"purple\"> 1. We see that there are 5 ratings 1-5 </font>\n",
    "\n",
    "<font color = \"purple\"> 2. Number of users is almost 10 times as many as products 4201696 vs 476002 </font>"
   ]
  },
  {
   "cell_type": "markdown",
   "metadata": {},
   "source": [
    "### <font color = \"green\"> Dropping the timestamp as it doesnt add value"
   ]
  },
  {
   "cell_type": "code",
   "execution_count": 8,
   "metadata": {},
   "outputs": [],
   "source": [
    "electronic_df.drop([\"timestamp\"], axis = 1, inplace = True)"
   ]
  },
  {
   "cell_type": "code",
   "execution_count": 9,
   "metadata": {},
   "outputs": [
    {
     "data": {
      "text/html": [
       "<div>\n",
       "<style scoped>\n",
       "    .dataframe tbody tr th:only-of-type {\n",
       "        vertical-align: middle;\n",
       "    }\n",
       "\n",
       "    .dataframe tbody tr th {\n",
       "        vertical-align: top;\n",
       "    }\n",
       "\n",
       "    .dataframe thead th {\n",
       "        text-align: right;\n",
       "    }\n",
       "</style>\n",
       "<table border=\"1\" class=\"dataframe\">\n",
       "  <thead>\n",
       "    <tr style=\"text-align: right;\">\n",
       "      <th></th>\n",
       "      <th>userId</th>\n",
       "      <th>productId</th>\n",
       "      <th>ratings</th>\n",
       "    </tr>\n",
       "  </thead>\n",
       "  <tbody>\n",
       "    <tr>\n",
       "      <th>0</th>\n",
       "      <td>AKM1MP6P0OYPR</td>\n",
       "      <td>0132793040</td>\n",
       "      <td>5.0</td>\n",
       "    </tr>\n",
       "    <tr>\n",
       "      <th>1</th>\n",
       "      <td>A2CX7LUOHB2NDG</td>\n",
       "      <td>0321732944</td>\n",
       "      <td>5.0</td>\n",
       "    </tr>\n",
       "    <tr>\n",
       "      <th>2</th>\n",
       "      <td>A2NWSAGRHCP8N5</td>\n",
       "      <td>0439886341</td>\n",
       "      <td>1.0</td>\n",
       "    </tr>\n",
       "    <tr>\n",
       "      <th>3</th>\n",
       "      <td>A2WNBOD3WNDNKT</td>\n",
       "      <td>0439886341</td>\n",
       "      <td>3.0</td>\n",
       "    </tr>\n",
       "    <tr>\n",
       "      <th>4</th>\n",
       "      <td>A1GI0U4ZRJA8WN</td>\n",
       "      <td>0439886341</td>\n",
       "      <td>1.0</td>\n",
       "    </tr>\n",
       "  </tbody>\n",
       "</table>\n",
       "</div>"
      ],
      "text/plain": [
       "           userId   productId  ratings\n",
       "0   AKM1MP6P0OYPR  0132793040      5.0\n",
       "1  A2CX7LUOHB2NDG  0321732944      5.0\n",
       "2  A2NWSAGRHCP8N5  0439886341      1.0\n",
       "3  A2WNBOD3WNDNKT  0439886341      3.0\n",
       "4  A1GI0U4ZRJA8WN  0439886341      1.0"
      ]
     },
     "execution_count": 9,
     "metadata": {},
     "output_type": "execute_result"
    }
   ],
   "source": [
    "electronic_df.head()"
   ]
  },
  {
   "cell_type": "code",
   "execution_count": 10,
   "metadata": {},
   "outputs": [
    {
     "data": {
      "text/plain": [
       "<matplotlib.axes._subplots.AxesSubplot at 0x1810fe95278>"
      ]
     },
     "execution_count": 10,
     "metadata": {},
     "output_type": "execute_result"
    },
    {
     "data": {
      "image/png": "[encoded data removed]",
      "text/plain": [
       "<Figure size 432x288 with 1 Axes>"
      ]
     },
     "metadata": {
      "needs_background": "light"
     },
     "output_type": "display_data"
    }
   ],
   "source": [
    "sns.boxplot(\"ratings\", data = electronic_df)"
   ]
  },
  {
   "cell_type": "code",
   "execution_count": 11,
   "metadata": {},
   "outputs": [
    {
     "data": {
      "text/plain": [
       "<matplotlib.axes._subplots.AxesSubplot at 0x1810ff60860>"
      ]
     },
     "execution_count": 11,
     "metadata": {},
     "output_type": "execute_result"
    },
    {
     "data": {
      "image/png": "[encoded data removed]",
      "text/plain": [
       "<Figure size 432x288 with 1 Axes>"
      ]
     },
     "metadata": {
      "needs_background": "light"
     },
     "output_type": "display_data"
    }
   ],
   "source": [
    "electronic_df[\"ratings\"].hist()"
   ]
  },
  {
   "cell_type": "code",
   "execution_count": 12,
   "metadata": {},
   "outputs": [
    {
     "data": {
      "text/plain": [
       "<matplotlib.axes._subplots.AxesSubplot at 0x18110000470>"
      ]
     },
     "execution_count": 12,
     "metadata": {},
     "output_type": "execute_result"
    },
    {
     "data": {
      "image/png": "[encoded data removed]",
      "text/plain": [
       "<Figure size 432x288 with 1 Axes>"
      ]
     },
     "metadata": {
      "needs_background": "light"
     },
     "output_type": "display_data"
    }
   ],
   "source": [
    "sns.kdeplot(electronic_df[\"ratings\"])"
   ]
  },
  {
   "cell_type": "markdown",
   "metadata": {},
   "source": [
    "### OBSERVATIONS\n",
    "\n",
    "<font color = \"purple\"> 1. The largest number of ratings are at 5 </font>\n",
    "\n",
    "<font color = \"purple\"> 2. 2 is the least popular rating </font>\n",
    "\n",
    "<font color = \"purple\"> 3. The set is biased towards the higher ratings </font>"
   ]
  },
  {
   "cell_type": "markdown",
   "metadata": {},
   "source": [
    "# <font color = \"blue\"> Q2. Take a subset of the dataset to make it less sparse/ denser. ( For example, keep the users only who has given 50 or more number of ratings )"
   ]
  },
  {
   "cell_type": "markdown",
   "metadata": {},
   "source": [
    "### <font color = \"green\"> Group the data by users"
   ]
  },
  {
   "cell_type": "code",
   "execution_count": 13,
   "metadata": {},
   "outputs": [],
   "source": [
    "user_ratings_df = pd.DataFrame(electronic_df.groupby(\"userId\")[\"ratings\"].count())"
   ]
  },
  {
   "cell_type": "markdown",
   "metadata": {},
   "source": [
    "### <font color = \"green\"> Subset the data"
   ]
  },
  {
   "cell_type": "code",
   "execution_count": 14,
   "metadata": {},
   "outputs": [
    {
     "data": {
      "text/html": [
       "<div>\n",
       "<style scoped>\n",
       "    .dataframe tbody tr th:only-of-type {\n",
       "        vertical-align: middle;\n",
       "    }\n",
       "\n",
       "    .dataframe tbody tr th {\n",
       "        vertical-align: top;\n",
       "    }\n",
       "\n",
       "    .dataframe thead th {\n",
       "        text-align: right;\n",
       "    }\n",
       "</style>\n",
       "<table border=\"1\" class=\"dataframe\">\n",
       "  <thead>\n",
       "    <tr style=\"text-align: right;\">\n",
       "      <th></th>\n",
       "      <th>ratings</th>\n",
       "    </tr>\n",
       "    <tr>\n",
       "      <th>userId</th>\n",
       "      <th></th>\n",
       "    </tr>\n",
       "  </thead>\n",
       "  <tbody>\n",
       "    <tr>\n",
       "      <th>A00000262KYZUE4J55XGL</th>\n",
       "      <td>1</td>\n",
       "    </tr>\n",
       "    <tr>\n",
       "      <th>A000063614T1OE0BUSKUT</th>\n",
       "      <td>2</td>\n",
       "    </tr>\n",
       "    <tr>\n",
       "      <th>A00009182QVLSWIGHLS1B</th>\n",
       "      <td>1</td>\n",
       "    </tr>\n",
       "    <tr>\n",
       "      <th>A00009661LC9LQPGKJ24G</th>\n",
       "      <td>1</td>\n",
       "    </tr>\n",
       "    <tr>\n",
       "      <th>A00010809P09NUU6ZP6H</th>\n",
       "      <td>1</td>\n",
       "    </tr>\n",
       "  </tbody>\n",
       "</table>\n",
       "</div>"
      ],
      "text/plain": [
       "                       ratings\n",
       "userId                        \n",
       "A00000262KYZUE4J55XGL        1\n",
       "A000063614T1OE0BUSKUT        2\n",
       "A00009182QVLSWIGHLS1B        1\n",
       "A00009661LC9LQPGKJ24G        1\n",
       "A00010809P09NUU6ZP6H         1"
      ]
     },
     "execution_count": 14,
     "metadata": {},
     "output_type": "execute_result"
    }
   ],
   "source": [
    "user_ratings_df.head()"
   ]
  },
  {
   "cell_type": "code",
   "execution_count": 15,
   "metadata": {},
   "outputs": [
    {
     "data": {
      "text/plain": [
       "<matplotlib.axes._subplots.AxesSubplot at 0x18110051b00>"
      ]
     },
     "execution_count": 15,
     "metadata": {},
     "output_type": "execute_result"
    },
    {
     "data": {
      "image/png": "[encoded data removed]",
      "text/plain": [
       "<Figure size 432x288 with 1 Axes>"
      ]
     },
     "metadata": {
      "needs_background": "light"
     },
     "output_type": "display_data"
    }
   ],
   "source": [
    "sns.kdeplot(user_ratings_df[\"ratings\"])"
   ]
  },
  {
   "cell_type": "code",
   "execution_count": 16,
   "metadata": {},
   "outputs": [
    {
     "data": {
      "text/plain": [
       "520"
      ]
     },
     "execution_count": 16,
     "metadata": {},
     "output_type": "execute_result"
    }
   ],
   "source": [
    "user_ratings_df[\"ratings\"].max()"
   ]
  },
  {
   "cell_type": "code",
   "execution_count": 17,
   "metadata": {},
   "outputs": [
    {
     "data": {
      "text/plain": [
       "1.0"
      ]
     },
     "execution_count": 17,
     "metadata": {},
     "output_type": "execute_result"
    }
   ],
   "source": [
    "user_ratings_df[\"ratings\"].median()"
   ]
  },
  {
   "cell_type": "code",
   "execution_count": 18,
   "metadata": {},
   "outputs": [
    {
     "name": "stdout",
     "output_type": "stream",
     "text": [
      "number of ratings = 20: ratings    12011\n",
      "dtype: int64\n",
      "number of ratings = 40: ratings    2519\n",
      "dtype: int64\n",
      "number of ratings = 60: ratings    951\n",
      "dtype: int64\n",
      "number of ratings = 80: ratings    479\n",
      "dtype: int64\n",
      "number of ratings = 100: ratings    280\n",
      "dtype: int64\n"
     ]
    }
   ],
   "source": [
    "for i in [20, 40, 60, 80, 100]:\n",
    "    print(\"number of ratings = \" + str(i) + \": \" + str(user_ratings_df[user_ratings_df[\"ratings\"]>i].count()))"
   ]
  },
  {
   "cell_type": "markdown",
   "metadata": {},
   "source": [
    "### OBSERVATIONS\n",
    "\n",
    "<font color = \"purple\"> 1. A large majority of the set has less than 50 ratings </font>\n",
    "\n",
    "<font color = \"purple\"> 2. The maximum number of ratings for an object is 520 </font>\n",
    "\n",
    "<font color = \"purple\"> 3. The distribution has a very long right tail </font>"
   ]
  },
  {
   "cell_type": "markdown",
   "metadata": {},
   "source": [
    "### <font color = \"green\"> Due to memory restrictions, keeping the data limited"
   ]
  },
  {
   "cell_type": "code",
   "execution_count": 19,
   "metadata": {},
   "outputs": [],
   "source": [
    "user_ratings_df = user_ratings_df[user_ratings_df[\"ratings\"]>100]"
   ]
  },
  {
   "cell_type": "markdown",
   "metadata": {},
   "source": [
    "### <font color = \"green\"> Creating a dataset which only has the above selected users"
   ]
  },
  {
   "cell_type": "code",
   "execution_count": 20,
   "metadata": {},
   "outputs": [],
   "source": [
    "user_ratings_df = user_ratings_df.reset_index()"
   ]
  },
  {
   "cell_type": "code",
   "execution_count": 21,
   "metadata": {},
   "outputs": [
    {
     "data": {
      "text/html": [
       "<div>\n",
       "<style scoped>\n",
       "    .dataframe tbody tr th:only-of-type {\n",
       "        vertical-align: middle;\n",
       "    }\n",
       "\n",
       "    .dataframe tbody tr th {\n",
       "        vertical-align: top;\n",
       "    }\n",
       "\n",
       "    .dataframe thead th {\n",
       "        text-align: right;\n",
       "    }\n",
       "</style>\n",
       "<table border=\"1\" class=\"dataframe\">\n",
       "  <thead>\n",
       "    <tr style=\"text-align: right;\">\n",
       "      <th></th>\n",
       "      <th>userId</th>\n",
       "      <th>ratings</th>\n",
       "    </tr>\n",
       "  </thead>\n",
       "  <tbody>\n",
       "    <tr>\n",
       "      <th>0</th>\n",
       "      <td>A100UD67AHFODS</td>\n",
       "      <td>116</td>\n",
       "    </tr>\n",
       "    <tr>\n",
       "      <th>1</th>\n",
       "      <td>A100WO06OQR8BQ</td>\n",
       "      <td>132</td>\n",
       "    </tr>\n",
       "    <tr>\n",
       "      <th>2</th>\n",
       "      <td>A10PEXB6XAQ5XF</td>\n",
       "      <td>107</td>\n",
       "    </tr>\n",
       "    <tr>\n",
       "      <th>3</th>\n",
       "      <td>A10Y058K7B96C6</td>\n",
       "      <td>123</td>\n",
       "    </tr>\n",
       "    <tr>\n",
       "      <th>4</th>\n",
       "      <td>A10ZFE6YE0UHW8</td>\n",
       "      <td>130</td>\n",
       "    </tr>\n",
       "    <tr>\n",
       "      <th>...</th>\n",
       "      <td>...</td>\n",
       "      <td>...</td>\n",
       "    </tr>\n",
       "    <tr>\n",
       "      <th>275</th>\n",
       "      <td>AY6A8KPYCE6B0</td>\n",
       "      <td>115</td>\n",
       "    </tr>\n",
       "    <tr>\n",
       "      <th>276</th>\n",
       "      <td>AYB4ELCS5AM8P</td>\n",
       "      <td>168</td>\n",
       "    </tr>\n",
       "    <tr>\n",
       "      <th>277</th>\n",
       "      <td>AZ515FFZ7I2P7</td>\n",
       "      <td>144</td>\n",
       "    </tr>\n",
       "    <tr>\n",
       "      <th>278</th>\n",
       "      <td>AZAC8O310IK4E</td>\n",
       "      <td>103</td>\n",
       "    </tr>\n",
       "    <tr>\n",
       "      <th>279</th>\n",
       "      <td>AZMY6E8B52L2T</td>\n",
       "      <td>189</td>\n",
       "    </tr>\n",
       "  </tbody>\n",
       "</table>\n",
       "<p>280 rows × 2 columns</p>\n",
       "</div>"
      ],
      "text/plain": [
       "             userId  ratings\n",
       "0    A100UD67AHFODS      116\n",
       "1    A100WO06OQR8BQ      132\n",
       "2    A10PEXB6XAQ5XF      107\n",
       "3    A10Y058K7B96C6      123\n",
       "4    A10ZFE6YE0UHW8      130\n",
       "..              ...      ...\n",
       "275   AY6A8KPYCE6B0      115\n",
       "276   AYB4ELCS5AM8P      168\n",
       "277   AZ515FFZ7I2P7      144\n",
       "278   AZAC8O310IK4E      103\n",
       "279   AZMY6E8B52L2T      189\n",
       "\n",
       "[280 rows x 2 columns]"
      ]
     },
     "execution_count": 21,
     "metadata": {},
     "output_type": "execute_result"
    }
   ],
   "source": [
    "user_ratings_df"
   ]
  },
  {
   "cell_type": "markdown",
   "metadata": {},
   "source": [
    "### <font color = \"green\"> Checking if users in base dataset match users in the dataset with users over 100 ratings. Creating a column for true/false based on this existence"
   ]
  },
  {
   "cell_type": "code",
   "execution_count": 22,
   "metadata": {},
   "outputs": [],
   "source": [
    "electronic_df[\"users_selected_col\"] = \"\"\n",
    "electronic_df = electronic_df.assign(users_selected_col = electronic_df[\"userId\"].isin(user_ratings_df[\"userId\"]))"
   ]
  },
  {
   "cell_type": "markdown",
   "metadata": {},
   "source": [
    "### <font color = \"green\"> Reducing the dataset on basis of existence in the dataset"
   ]
  },
  {
   "cell_type": "code",
   "execution_count": 23,
   "metadata": {},
   "outputs": [],
   "source": [
    "electronic_df = electronic_df[electronic_df[\"users_selected_col\"] == True]"
   ]
  },
  {
   "cell_type": "markdown",
   "metadata": {},
   "source": [
    "### <font color = \"green\"> Dropping the selection column as it is no longer required"
   ]
  },
  {
   "cell_type": "code",
   "execution_count": 24,
   "metadata": {},
   "outputs": [],
   "source": [
    "electronic_df.drop([\"users_selected_col\"],inplace = True, axis = 1)"
   ]
  },
  {
   "cell_type": "markdown",
   "metadata": {},
   "source": [
    "# <font color = \"blue\"> Q3. Build Popularity Recommender model"
   ]
  },
  {
   "cell_type": "markdown",
   "metadata": {},
   "source": [
    "### <font color = \"green\"> Build Recommender model. Group by product based on ratings median, mean and count"
   ]
  },
  {
   "cell_type": "code",
   "execution_count": 25,
   "metadata": {},
   "outputs": [],
   "source": [
    "product_df = pd.DataFrame(electronic_df.groupby(\"productId\")[\"ratings\"].count())"
   ]
  },
  {
   "cell_type": "markdown",
   "metadata": {},
   "source": [
    "### <font color = \"green\"> Add median rating as a column"
   ]
  },
  {
   "cell_type": "code",
   "execution_count": 26,
   "metadata": {},
   "outputs": [],
   "source": [
    "product_df[\"median_rating\"] = pd.DataFrame(electronic_df.groupby(\"productId\")[\"ratings\"].median())"
   ]
  },
  {
   "cell_type": "markdown",
   "metadata": {},
   "source": [
    "### <font color = \"green\"> Add mean rating as a column"
   ]
  },
  {
   "cell_type": "code",
   "execution_count": 27,
   "metadata": {},
   "outputs": [],
   "source": [
    "product_df[\"mean_rating\"] = pd.DataFrame(electronic_df.groupby(\"productId\")[\"ratings\"].mean())"
   ]
  },
  {
   "cell_type": "markdown",
   "metadata": {},
   "source": [
    "### <font color = \"green\"> Calculate a weighted rating based on number of users who have rated product"
   ]
  },
  {
   "cell_type": "code",
   "execution_count": 28,
   "metadata": {},
   "outputs": [],
   "source": [
    "def pop_recommender(k, returnall):\n",
    "    max_ratings = product_df[\"ratings\"].max()\n",
    "    # taking max of median and mean\n",
    "    product_df [\"calculated_rating\"] = np.where(product_df[\"mean_rating\"] > product_df[\"median_rating\"], product_df[\"mean_rating\"], product_df[\"median_rating\"])\n",
    "    ## applying a penalty for lower number of ratings\n",
    "    ## The perfect rating would be the one with maximum ratings in the set\n",
    "    ## maximum ratings/maximum ratings needs no penalty\n",
    "    ## (maximum ratings - received ratings) / maximum ratings should be the penalty\n",
    "    product_df [\"calculated_rating\"] = product_df[\"calculated_rating\"] - (((max_ratings - product_df[\"ratings\"])/max_ratings)* (product_df[\"calculated_rating\"]/2) )\n",
    "    if returnall:\n",
    "        return product_df.sort_values(by = \"calculated_rating\", ascending = False)\n",
    "    else:\n",
    "        return (product_df.sort_values(by = \"calculated_rating\", ascending = False) [:k])"
   ]
  },
  {
   "cell_type": "markdown",
   "metadata": {},
   "source": [
    "### <font color = \"green\"> Extracting the top 5"
   ]
  },
  {
   "cell_type": "code",
   "execution_count": 29,
   "metadata": {},
   "outputs": [
    {
     "data": {
      "text/html": [
       "<div>\n",
       "<style scoped>\n",
       "    .dataframe tbody tr th:only-of-type {\n",
       "        vertical-align: middle;\n",
       "    }\n",
       "\n",
       "    .dataframe tbody tr th {\n",
       "        vertical-align: top;\n",
       "    }\n",
       "\n",
       "    .dataframe thead th {\n",
       "        text-align: right;\n",
       "    }\n",
       "</style>\n",
       "<table border=\"1\" class=\"dataframe\">\n",
       "  <thead>\n",
       "    <tr style=\"text-align: right;\">\n",
       "      <th></th>\n",
       "      <th>ratings</th>\n",
       "      <th>median_rating</th>\n",
       "      <th>mean_rating</th>\n",
       "      <th>calculated_rating</th>\n",
       "    </tr>\n",
       "    <tr>\n",
       "      <th>productId</th>\n",
       "      <th></th>\n",
       "      <th></th>\n",
       "      <th></th>\n",
       "      <th></th>\n",
       "    </tr>\n",
       "  </thead>\n",
       "  <tbody>\n",
       "    <tr>\n",
       "      <th>B003ES5ZUU</th>\n",
       "      <td>54</td>\n",
       "      <td>5.0</td>\n",
       "      <td>5.000000</td>\n",
       "      <td>4.401408</td>\n",
       "    </tr>\n",
       "    <tr>\n",
       "      <th>B004CLYEDC</th>\n",
       "      <td>49</td>\n",
       "      <td>5.0</td>\n",
       "      <td>4.673469</td>\n",
       "      <td>4.225352</td>\n",
       "    </tr>\n",
       "    <tr>\n",
       "      <th>B00829TIEK</th>\n",
       "      <td>49</td>\n",
       "      <td>5.0</td>\n",
       "      <td>4.510204</td>\n",
       "      <td>4.225352</td>\n",
       "    </tr>\n",
       "    <tr>\n",
       "      <th>B0088CJT4U</th>\n",
       "      <td>71</td>\n",
       "      <td>4.0</td>\n",
       "      <td>4.225352</td>\n",
       "      <td>4.225352</td>\n",
       "    </tr>\n",
       "    <tr>\n",
       "      <th>B000N99BBC</th>\n",
       "      <td>47</td>\n",
       "      <td>5.0</td>\n",
       "      <td>4.765957</td>\n",
       "      <td>4.154930</td>\n",
       "    </tr>\n",
       "  </tbody>\n",
       "</table>\n",
       "</div>"
      ],
      "text/plain": [
       "            ratings  median_rating  mean_rating  calculated_rating\n",
       "productId                                                         \n",
       "B003ES5ZUU       54            5.0     5.000000           4.401408\n",
       "B004CLYEDC       49            5.0     4.673469           4.225352\n",
       "B00829TIEK       49            5.0     4.510204           4.225352\n",
       "B0088CJT4U       71            4.0     4.225352           4.225352\n",
       "B000N99BBC       47            5.0     4.765957           4.154930"
      ]
     },
     "execution_count": 29,
     "metadata": {},
     "output_type": "execute_result"
    }
   ],
   "source": [
    "pop_recommender(5, False)"
   ]
  },
  {
   "cell_type": "markdown",
   "metadata": {},
   "source": [
    "### <font color = \"green\"> To validate the results, we will build another popularity based model which considers 5 star ratings"
   ]
  },
  {
   "cell_type": "code",
   "execution_count": 30,
   "metadata": {},
   "outputs": [],
   "source": [
    "five_star_df = pd.DataFrame(electronic_df.groupby([\"productId\", \"ratings\"])[\"userId\"].count())\n",
    "total_ratings_df = pd.DataFrame(electronic_df.groupby([\"productId\"])[\"userId\"].count())"
   ]
  },
  {
   "cell_type": "code",
   "execution_count": 31,
   "metadata": {},
   "outputs": [],
   "source": [
    "five_star_df.reset_index(inplace = True)\n",
    "five_star_df = five_star_df[five_star_df[\"ratings\"] == 5]\n",
    "five_star_df.columns = [\"productId\", \"rating\", \"ratings\"]"
   ]
  },
  {
   "cell_type": "code",
   "execution_count": 32,
   "metadata": {},
   "outputs": [],
   "source": [
    "total_ratings_df.reset_index(inplace=True)\n",
    "total_ratings_df.columns = [\"productId\", \"total_ratings\"] "
   ]
  },
  {
   "cell_type": "code",
   "execution_count": 33,
   "metadata": {},
   "outputs": [],
   "source": [
    "five_star_df.set_index(\"productId\",inplace=True)\n",
    "total_ratings_df.set_index(\"productId\",inplace=True)"
   ]
  },
  {
   "cell_type": "code",
   "execution_count": 34,
   "metadata": {},
   "outputs": [],
   "source": [
    "five_star_df = five_star_df.join([total_ratings_df], how='inner')"
   ]
  },
  {
   "cell_type": "markdown",
   "metadata": {},
   "source": [
    "### <font color = \"green\"> The model uses the ratio of 5 star ratings to total ratings and rationalizes them with a penalty based on number of ratings. The lesser the number of ratings, the lesser the value of 5 stars"
   ]
  },
  {
   "cell_type": "code",
   "execution_count": 35,
   "metadata": {},
   "outputs": [],
   "source": [
    "max_5_star = five_star_df[\"ratings\"].max()\n",
    "five_star_df[\"five_Star_index\"] = 5 - ((max_5_star - five_star_df[\"ratings\"])/max_5_star)"
   ]
  },
  {
   "cell_type": "code",
   "execution_count": 36,
   "metadata": {},
   "outputs": [],
   "source": [
    "five_star_df = five_star_df.sort_values(by = \"five_Star_index\", ascending = False)"
   ]
  },
  {
   "cell_type": "code",
   "execution_count": 37,
   "metadata": {},
   "outputs": [],
   "source": [
    "pop_recommender_1 = pop_recommender(100, False)\n",
    "pop_recommender_2 = five_star_df[:100]\n",
    "pop_recommender_2.reset_index(inplace= True)\n",
    "pop_recommender_1.reset_index(inplace= True)"
   ]
  },
  {
   "cell_type": "markdown",
   "metadata": {},
   "source": [
    "### <font color = \"green\"> Now we compare these models"
   ]
  },
  {
   "cell_type": "code",
   "execution_count": 38,
   "metadata": {},
   "outputs": [],
   "source": [
    "accuracy = (pop_recommender_1[\"productId\"].isin(pop_recommender_2[\"productId\"])).astype(int)"
   ]
  },
  {
   "cell_type": "code",
   "execution_count": 39,
   "metadata": {},
   "outputs": [
    {
     "data": {
      "text/plain": [
       "0.84"
      ]
     },
     "execution_count": 39,
     "metadata": {},
     "output_type": "execute_result"
    }
   ],
   "source": [
    "accuracy.sum()/100"
   ]
  },
  {
   "cell_type": "markdown",
   "metadata": {},
   "source": [
    "### OBSERVATIONS\n",
    "\n",
    "<font color = \"purple\"> 1. Both our models have 84% coherence. The first 100 have 84 entries that overlap. Though not in the same positions </font>\n",
    "\n",
    "<font color = \"purple\"> 2. This goes to show that popularity models will work similarly regardless of their basic premise </font>\n",
    "\n",
    "<font color = \"purple\"> 3. The other thing to note is that these models are user independent. So there is no contextualization </font>\n",
    "\n",
    "<font color = \"purple\"> 4. Finally, it is important to note that unlike the collaborative filtering model, there is no training sets here. The popularity is gauged on data already available. So there can be no measurement metrics for it </font>"
   ]
  },
  {
   "cell_type": "markdown",
   "metadata": {},
   "source": [
    "# <font color = \"blue\"> Q4. Split the data randomly into a train and test dataset. ( For example, split it in 70/30 ratio)"
   ]
  },
  {
   "cell_type": "markdown",
   "metadata": {},
   "source": [
    "### <font color = \"green\"> Load the data"
   ]
  },
  {
   "cell_type": "code",
   "execution_count": 40,
   "metadata": {},
   "outputs": [],
   "source": [
    "reader = Reader(line_format=\"user item rating\", rating_scale=(1, 5))\n",
    "data = Dataset.load_from_df(electronic_df, reader)"
   ]
  },
  {
   "cell_type": "markdown",
   "metadata": {},
   "source": [
    "### <font color = \"green\"> Train Test Split"
   ]
  },
  {
   "cell_type": "code",
   "execution_count": 41,
   "metadata": {},
   "outputs": [],
   "source": [
    "train, test = train_test_split(data, test_size = .3)"
   ]
  },
  {
   "cell_type": "markdown",
   "metadata": {},
   "source": [
    "# <font color = \"blue\"> Q5. Build Collaborative Filtering model"
   ]
  },
  {
   "cell_type": "markdown",
   "metadata": {},
   "source": [
    "### <font color = \"green\"> Build Collaborative Filtering model"
   ]
  },
  {
   "cell_type": "markdown",
   "metadata": {},
   "source": [
    "### <font color = \"green\"> Create KNN with Means algorithm set up with user user filtering"
   ]
  },
  {
   "cell_type": "code",
   "execution_count": 42,
   "metadata": {},
   "outputs": [
    {
     "name": "stdout",
     "output_type": "stream",
     "text": [
      "Estimating biases using als...\n",
      "Computing the pearson_baseline similarity matrix...\n",
      "Done computing similarity matrix.\n"
     ]
    },
    {
     "data": {
      "text/plain": [
       "<surprise.prediction_algorithms.knns.KNNWithMeans at 0x1811018b5f8>"
      ]
     },
     "execution_count": 42,
     "metadata": {},
     "output_type": "execute_result"
    }
   ],
   "source": [
    "algo = KNNWithMeans(k = 50, sim_options = {\"name\": \"pearson_baseline\", \"user_based\":True})\n",
    "algo.fit(train)"
   ]
  },
  {
   "cell_type": "markdown",
   "metadata": {},
   "source": [
    "### <font color = \"green\"> Build Collaborative Filtering model using the algo created"
   ]
  },
  {
   "cell_type": "code",
   "execution_count": 43,
   "metadata": {},
   "outputs": [],
   "source": [
    "def collab_recommender_user(user, k, fullset, estimated):\n",
    "    prediction = algo.test(test)\n",
    "    recommended_df = pd.DataFrame(columns = [\"user\",\"product\", \"rating\",\"estimated\", \"k\"])\n",
    "    \n",
    "    # collect items that are predicted for this user\n",
    "    i = 0\n",
    "    for pred in prediction:\n",
    "        if (pred.uid == user) and (pred.est>3.5):\n",
    "            if \"actual_k\" in pred.details.keys():                \n",
    "                recommended_df.loc[i] = [pred.uid, pred.iid, pred.r_ui, pred.est, pred.details[\"actual_k\"]]\n",
    "            else:\n",
    "                recommended_df.loc[i] = [pred.uid, pred.iid, pred.r_ui, pred.est, 0]\n",
    "            i = i + 1\n",
    "    \n",
    "    ## factoring for number of neighbours and applying penalty for single observations\n",
    "    max_k = recommended_df[\"k\"].max()\n",
    "    recommended_df [\"calculated_rating\"] = recommended_df[\"estimated\"] - (((max_k - recommended_df[\"k\"])/max_k)* (recommended_df[\"estimated\"]/2) ) \n",
    "    # sort items as per rating\n",
    "    if estimated:\n",
    "        recommended_df = recommended_df.sort_values(by = \"calculated_rating\", ascending = False)\n",
    "    else:\n",
    "        recommended_df = recommended_df.sort_values(by = \"rating\", ascending = False)\n",
    "    \n",
    "    #return the dataset selected\n",
    "    if fullset:\n",
    "        return recommended_df\n",
    "    else:\n",
    "        return recommended_df[:k]"
   ]
  },
  {
   "cell_type": "markdown",
   "metadata": {},
   "source": [
    "### OBSERVATIONS\n",
    "\n",
    "<font color = \"purple\"> 1. Without using a penalty, this method will return the products which have had only a few ratings </font>\n"
   ]
  },
  {
   "cell_type": "markdown",
   "metadata": {},
   "source": [
    "### <font color = \"green\"> Call the model for a test"
   ]
  },
  {
   "cell_type": "code",
   "execution_count": 44,
   "metadata": {},
   "outputs": [
    {
     "data": {
      "text/html": [
       "<div>\n",
       "<style scoped>\n",
       "    .dataframe tbody tr th:only-of-type {\n",
       "        vertical-align: middle;\n",
       "    }\n",
       "\n",
       "    .dataframe tbody tr th {\n",
       "        vertical-align: top;\n",
       "    }\n",
       "\n",
       "    .dataframe thead th {\n",
       "        text-align: right;\n",
       "    }\n",
       "</style>\n",
       "<table border=\"1\" class=\"dataframe\">\n",
       "  <thead>\n",
       "    <tr style=\"text-align: right;\">\n",
       "      <th></th>\n",
       "      <th>user</th>\n",
       "      <th>product</th>\n",
       "      <th>rating</th>\n",
       "      <th>estimated</th>\n",
       "      <th>k</th>\n",
       "      <th>calculated_rating</th>\n",
       "    </tr>\n",
       "  </thead>\n",
       "  <tbody>\n",
       "    <tr>\n",
       "      <th>10</th>\n",
       "      <td>A100UD67AHFODS</td>\n",
       "      <td>B00F0DD0I6</td>\n",
       "      <td>5.0</td>\n",
       "      <td>4.937411</td>\n",
       "      <td>5</td>\n",
       "      <td>4.93741</td>\n",
       "    </tr>\n",
       "    <tr>\n",
       "      <th>15</th>\n",
       "      <td>A100UD67AHFODS</td>\n",
       "      <td>B00HHRP11C</td>\n",
       "      <td>5.0</td>\n",
       "      <td>5.000000</td>\n",
       "      <td>3</td>\n",
       "      <td>4</td>\n",
       "    </tr>\n",
       "    <tr>\n",
       "      <th>13</th>\n",
       "      <td>A100UD67AHFODS</td>\n",
       "      <td>B000Q8UAWY</td>\n",
       "      <td>5.0</td>\n",
       "      <td>4.491033</td>\n",
       "      <td>3</td>\n",
       "      <td>3.59283</td>\n",
       "    </tr>\n",
       "    <tr>\n",
       "      <th>17</th>\n",
       "      <td>A100UD67AHFODS</td>\n",
       "      <td>B000HZDF8W</td>\n",
       "      <td>5.0</td>\n",
       "      <td>4.869688</td>\n",
       "      <td>2</td>\n",
       "      <td>3.40878</td>\n",
       "    </tr>\n",
       "    <tr>\n",
       "      <th>30</th>\n",
       "      <td>A100UD67AHFODS</td>\n",
       "      <td>B002HZW7CK</td>\n",
       "      <td>5.0</td>\n",
       "      <td>4.443093</td>\n",
       "      <td>2</td>\n",
       "      <td>3.11017</td>\n",
       "    </tr>\n",
       "  </tbody>\n",
       "</table>\n",
       "</div>"
      ],
      "text/plain": [
       "              user     product  rating  estimated  k calculated_rating\n",
       "10  A100UD67AHFODS  B00F0DD0I6     5.0   4.937411  5           4.93741\n",
       "15  A100UD67AHFODS  B00HHRP11C     5.0   5.000000  3                 4\n",
       "13  A100UD67AHFODS  B000Q8UAWY     5.0   4.491033  3           3.59283\n",
       "17  A100UD67AHFODS  B000HZDF8W     5.0   4.869688  2           3.40878\n",
       "30  A100UD67AHFODS  B002HZW7CK     5.0   4.443093  2           3.11017"
      ]
     },
     "execution_count": 44,
     "metadata": {},
     "output_type": "execute_result"
    }
   ],
   "source": [
    "uid = \"A100UD67AHFODS\"\n",
    "user_collab = collab_recommender_user(uid, 5, False, True)\n",
    "user_collab"
   ]
  },
  {
   "cell_type": "markdown",
   "metadata": {},
   "source": [
    "### OBSERVATIONS\n",
    "\n",
    "<font color = \"purple\"> 1. The reduction of the data has reduced the number of neighbours available, however, the items with largest number of neighbours and estimated ratings are coming to the front. This is a good thing in terms of our recommendation accuracy</font>\n"
   ]
  },
  {
   "cell_type": "markdown",
   "metadata": {},
   "source": [
    "### <font color = \"green\"> Create KNN with Means algorithm set up with item item filtering"
   ]
  },
  {
   "cell_type": "code",
   "execution_count": 45,
   "metadata": {},
   "outputs": [
    {
     "name": "stdout",
     "output_type": "stream",
     "text": [
      "Estimating biases using als...\n",
      "Computing the pearson_baseline similarity matrix...\n",
      "Done computing similarity matrix.\n"
     ]
    },
    {
     "data": {
      "text/plain": [
       "<surprise.prediction_algorithms.knns.KNNWithMeans at 0x1811012f3c8>"
      ]
     },
     "execution_count": 45,
     "metadata": {},
     "output_type": "execute_result"
    }
   ],
   "source": [
    "prod_algo = KNNWithMeans(k = 50, sim_options = {\"name\": \"pearson_baseline\", \"user_based\":False})\n",
    "prod_algo.fit(train)"
   ]
  },
  {
   "cell_type": "markdown",
   "metadata": {},
   "source": [
    "### <font color = \"green\"> Build Collaborative Filtering model using the algo created"
   ]
  },
  {
   "cell_type": "code",
   "execution_count": 46,
   "metadata": {},
   "outputs": [],
   "source": [
    "def collab_recommender_prod(product, k, fullset, estimated):\n",
    "    prediction = prod_algo.test(test)\n",
    "    recommended_df = pd.DataFrame(columns = [\"user\",\"product\", \"rating\",\"estimated\",\"k\"])\n",
    "    # collect items\n",
    "    i = 0\n",
    "    for pred in prediction:\n",
    "        if (pred.iid != product) and (pred.est>3.5):\n",
    "            if \"actual_k\" in pred.details.keys():                \n",
    "                recommended_df.loc[i] = [pred.uid, pred.iid, pred.r_ui, pred.est, pred.details[\"actual_k\"]]\n",
    "            else:\n",
    "                recommended_df.loc[i] = [pred.uid, pred.iid, pred.r_ui, pred.est, 0]\n",
    "            i = i + 1\n",
    "    \n",
    "    ## factoring for number of neighbours and applying penalty for single observations\n",
    "    max_k = recommended_df[\"k\"].max()\n",
    "    recommended_df [\"calculated_rating\"] = recommended_df[\"estimated\"] - (((max_k - recommended_df[\"k\"])/max_k)* (recommended_df[\"estimated\"]/2) ) \n",
    "\n",
    "    # sort items as per rating\n",
    "    if estimated: \n",
    "        recommended_df = recommended_df.sort_values(by = \"calculated_rating\", ascending = False)\n",
    "    else:\n",
    "        recommended_df = recommended_df.sort_values(by = \"rating\", ascending = False)\n",
    "    if fullset:\n",
    "        return recommended_df\n",
    "    else:\n",
    "        return recommended_df[:k]"
   ]
  },
  {
   "cell_type": "markdown",
   "metadata": {},
   "source": [
    "### OBSERVATIONS\n",
    "\n",
    "<font color = \"purple\"> 1. Adding a penalty here ensures that high rating items with low confidence do not get prioritized over others with larger number of ratings </font>\n"
   ]
  },
  {
   "cell_type": "markdown",
   "metadata": {},
   "source": [
    "### <font color = \"green\"> Call the model for a test"
   ]
  },
  {
   "cell_type": "code",
   "execution_count": 47,
   "metadata": {},
   "outputs": [
    {
     "data": {
      "text/html": [
       "<div>\n",
       "<style scoped>\n",
       "    .dataframe tbody tr th:only-of-type {\n",
       "        vertical-align: middle;\n",
       "    }\n",
       "\n",
       "    .dataframe tbody tr th {\n",
       "        vertical-align: top;\n",
       "    }\n",
       "\n",
       "    .dataframe thead th {\n",
       "        text-align: right;\n",
       "    }\n",
       "</style>\n",
       "<table border=\"1\" class=\"dataframe\">\n",
       "  <thead>\n",
       "    <tr style=\"text-align: right;\">\n",
       "      <th></th>\n",
       "      <th>user</th>\n",
       "      <th>product</th>\n",
       "      <th>rating</th>\n",
       "      <th>estimated</th>\n",
       "      <th>k</th>\n",
       "      <th>calculated_rating</th>\n",
       "    </tr>\n",
       "  </thead>\n",
       "  <tbody>\n",
       "    <tr>\n",
       "      <th>4359</th>\n",
       "      <td>A22CW0ZHY3NJH8</td>\n",
       "      <td>B0082E9K7U</td>\n",
       "      <td>4.0</td>\n",
       "      <td>4.693092</td>\n",
       "      <td>29</td>\n",
       "      <td>4.69309</td>\n",
       "    </tr>\n",
       "    <tr>\n",
       "      <th>8381</th>\n",
       "      <td>A25C2M3QF9G7OQ</td>\n",
       "      <td>B00FSA8VQ2</td>\n",
       "      <td>5.0</td>\n",
       "      <td>4.752935</td>\n",
       "      <td>27</td>\n",
       "      <td>4.58904</td>\n",
       "    </tr>\n",
       "    <tr>\n",
       "      <th>427</th>\n",
       "      <td>A25C2M3QF9G7OQ</td>\n",
       "      <td>B00DTZYHX4</td>\n",
       "      <td>5.0</td>\n",
       "      <td>4.802022</td>\n",
       "      <td>26</td>\n",
       "      <td>4.55364</td>\n",
       "    </tr>\n",
       "    <tr>\n",
       "      <th>2098</th>\n",
       "      <td>A25C2M3QF9G7OQ</td>\n",
       "      <td>B00GMTN96U</td>\n",
       "      <td>5.0</td>\n",
       "      <td>4.816269</td>\n",
       "      <td>25</td>\n",
       "      <td>4.48411</td>\n",
       "    </tr>\n",
       "    <tr>\n",
       "      <th>2914</th>\n",
       "      <td>A36K2N527TXXJN</td>\n",
       "      <td>B0082E9K7U</td>\n",
       "      <td>4.0</td>\n",
       "      <td>4.809302</td>\n",
       "      <td>25</td>\n",
       "      <td>4.47763</td>\n",
       "    </tr>\n",
       "  </tbody>\n",
       "</table>\n",
       "</div>"
      ],
      "text/plain": [
       "                user     product  rating  estimated   k calculated_rating\n",
       "4359  A22CW0ZHY3NJH8  B0082E9K7U     4.0   4.693092  29           4.69309\n",
       "8381  A25C2M3QF9G7OQ  B00FSA8VQ2     5.0   4.752935  27           4.58904\n",
       "427   A25C2M3QF9G7OQ  B00DTZYHX4     5.0   4.802022  26           4.55364\n",
       "2098  A25C2M3QF9G7OQ  B00GMTN96U     5.0   4.816269  25           4.48411\n",
       "2914  A36K2N527TXXJN  B0082E9K7U     4.0   4.809302  25           4.47763"
      ]
     },
     "execution_count": 47,
     "metadata": {},
     "output_type": "execute_result"
    }
   ],
   "source": [
    "pid = \"B003ES5ZUU\"\n",
    "product_collab = collab_recommender_prod(pid, 5, False, True)\n",
    "product_collab"
   ]
  },
  {
   "cell_type": "markdown",
   "metadata": {},
   "source": [
    "### OBSERVATIONS\n",
    "\n",
    "<font color = \"purple\"> 1. The reduction of the data has reduced the number of neighbours available, however, the items with largest number of neighbours and estimated ratings are coming to the front. This is a good thing in terms of our recommendation accuracy</font>\n"
   ]
  },
  {
   "cell_type": "markdown",
   "metadata": {},
   "source": [
    "# <font color = \"blue\"> Q6. Evaluate the above model. ( Once the model is trained on the training data, it can be used to compute the error (like RMSE) on predictions made on the test data.) You can also use a different method to evaluate the models."
   ]
  },
  {
   "cell_type": "markdown",
   "metadata": {},
   "source": [
    "### <font color = \"green\"> Determine metrics"
   ]
  },
  {
   "cell_type": "code",
   "execution_count": 65,
   "metadata": {},
   "outputs": [],
   "source": [
    "product_collab_pred = collab_recommender_prod(pid, 0, True, True)\n",
    "user_collab_pred = collab_recommender_user(uid, 0, True, True)"
   ]
  },
  {
   "cell_type": "code",
   "execution_count": 66,
   "metadata": {},
   "outputs": [],
   "source": [
    "rms_product = sqrt(mean_squared_error(product_collab_pred[\"rating\"],product_collab_pred[\"estimated\"]))\n",
    "rms_user = sqrt(mean_squared_error(user_collab_pred[\"rating\"],user_collab_pred[\"estimated\"]))"
   ]
  },
  {
   "cell_type": "code",
   "execution_count": 67,
   "metadata": {},
   "outputs": [
    {
     "data": {
      "text/plain": [
       "0.7918173615970596"
      ]
     },
     "execution_count": 67,
     "metadata": {},
     "output_type": "execute_result"
    }
   ],
   "source": [
    "rms_product"
   ]
  },
  {
   "cell_type": "code",
   "execution_count": 68,
   "metadata": {},
   "outputs": [
    {
     "data": {
      "text/plain": [
       "0.345384477961416"
      ]
     },
     "execution_count": 68,
     "metadata": {},
     "output_type": "execute_result"
    }
   ],
   "source": [
    "rms_user"
   ]
  },
  {
   "cell_type": "code",
   "execution_count": 69,
   "metadata": {},
   "outputs": [
    {
     "name": "stdout",
     "output_type": "stream",
     "text": [
      "0.6176903751191198\n"
     ]
    }
   ],
   "source": [
    "from sklearn.metrics import accuracy_score\n",
    "print(accuracy_score(product_collab_pred[\"rating\"], np.round(product_collab_pred[\"estimated\"])))"
   ]
  },
  {
   "cell_type": "markdown",
   "metadata": {},
   "source": [
    "### OBSERVATIONS\n",
    "\n",
    "<font color = \"purple\"> 1. The accuracy is around 60%, which means we get it right around 60% of the times</font>\n",
    "\n",
    "<font color = \"purple\"> 2. The RMS for user is lower than RMS for products. This could stem from a larger number of samples against which to compare for users</font>\n"
   ]
  },
  {
   "cell_type": "markdown",
   "metadata": {},
   "source": [
    "### <font color = \"green\"> Run a cross validation for user user model"
   ]
  },
  {
   "cell_type": "code",
   "execution_count": 53,
   "metadata": {},
   "outputs": [
    {
     "name": "stdout",
     "output_type": "stream",
     "text": [
      "Estimating biases using als...\n",
      "Computing the pearson_baseline similarity matrix...\n",
      "Done computing similarity matrix.\n",
      "Estimating biases using als...\n",
      "Computing the pearson_baseline similarity matrix...\n",
      "Done computing similarity matrix.\n",
      "Estimating biases using als...\n",
      "Computing the pearson_baseline similarity matrix...\n",
      "Done computing similarity matrix.\n",
      "Estimating biases using als...\n",
      "Computing the pearson_baseline similarity matrix...\n",
      "Done computing similarity matrix.\n",
      "Estimating biases using als...\n",
      "Computing the pearson_baseline similarity matrix...\n",
      "Done computing similarity matrix.\n",
      "Evaluating RMSE, MAE of algorithm KNNWithMeans on 5 split(s).\n",
      "\n",
      "                  Fold 1  Fold 2  Fold 3  Fold 4  Fold 5  Mean    Std     \n",
      "RMSE (testset)    1.0197  1.0449  1.0241  1.0261  1.0167  1.0263  0.0099  \n",
      "MAE (testset)     0.7501  0.7624  0.7516  0.7530  0.7473  0.7529  0.0051  \n",
      "Fit time          0.19    0.23    0.21    0.22    0.16    0.20    0.03    \n",
      "Test time         0.13    0.14    0.14    0.11    0.10    0.12    0.02    \n"
     ]
    }
   ],
   "source": [
    "user_output = cross_validate(algo, data, measures=['RMSE', 'MAE'], cv=5, verbose=True)"
   ]
  },
  {
   "cell_type": "markdown",
   "metadata": {},
   "source": [
    "### OBSERVATIONS\n",
    "\n",
    "<font color = \"purple\"> 1. RMSE and MAE numbers are very stable for the user user collaborative filter</font>\n",
    "\n",
    "<font color = \"purple\"> 2. The standard deviation is quite low and the fit time is in acceptable bounds. However, this will increase exponentially as the number of cases increase</font>\n"
   ]
  },
  {
   "cell_type": "markdown",
   "metadata": {},
   "source": [
    "### <font color = \"green\"> Run a cross validation for item item model. Reduce the dataset to 50% its size using sampling to avoid out of memory errors"
   ]
  },
  {
   "cell_type": "code",
   "execution_count": 54,
   "metadata": {},
   "outputs": [
    {
     "name": "stdout",
     "output_type": "stream",
     "text": [
      "Estimating biases using als...\n",
      "Computing the pearson_baseline similarity matrix...\n",
      "Done computing similarity matrix.\n",
      "Estimating biases using als...\n",
      "Computing the pearson_baseline similarity matrix...\n",
      "Done computing similarity matrix.\n",
      "Estimating biases using als...\n",
      "Computing the pearson_baseline similarity matrix...\n",
      "Done computing similarity matrix.\n",
      "Estimating biases using als...\n",
      "Computing the pearson_baseline similarity matrix...\n",
      "Done computing similarity matrix.\n",
      "Estimating biases using als...\n",
      "Computing the pearson_baseline similarity matrix...\n",
      "Done computing similarity matrix.\n",
      "Evaluating RMSE, MAE of algorithm KNNWithMeans on 5 split(s).\n",
      "\n",
      "                  Fold 1  Fold 2  Fold 3  Fold 4  Fold 5  Mean    Std     \n",
      "RMSE (testset)    1.1218  1.0797  1.0714  1.0613  1.0948  1.0858  0.0211  \n",
      "MAE (testset)     0.8056  0.7853  0.7815  0.7726  0.7943  0.7879  0.0113  \n",
      "Fit time          8.44    7.78    8.35    7.23    7.50    7.86    0.47    \n",
      "Test time         0.84    0.29    0.41    0.25    0.46    0.45    0.21    \n"
     ]
    }
   ],
   "source": [
    "electronic_df_sampled = electronic_df.sample(frac = 0.5)\n",
    "data_reduced = Dataset.load_from_df(electronic_df_sampled, reader)\n",
    "prod_output = cross_validate(prod_algo, data_reduced, measures=['RMSE', 'MAE'], cv=5, verbose=True)"
   ]
  },
  {
   "cell_type": "markdown",
   "metadata": {},
   "source": [
    "### OBSERVATIONS\n",
    "\n",
    "<font color = \"purple\"> 1. RMSE and MAE numbers are very stable for the user user collaborative filter</font>\n",
    "\n",
    "<font color = \"purple\"> 2. The standard deviation is quite low and the fit time is in acceptable bounds. </font>\n",
    "\n",
    "<font color = \"purple\"> 3. The time consumed here is far more due to the larger number of items to examine (user inputs) </font>\n"
   ]
  },
  {
   "cell_type": "markdown",
   "metadata": {},
   "source": [
    "### <font color = \"green\"> Checking what the output looks like"
   ]
  },
  {
   "cell_type": "code",
   "execution_count": 55,
   "metadata": {},
   "outputs": [
    {
     "data": {
      "text/plain": [
       "{'test_rmse': array([1.12184958, 1.07966479, 1.0714453 , 1.06133688, 1.09484896]),\n",
       " 'test_mae': array([0.80556883, 0.78532478, 0.78154409, 0.77263278, 0.79434977]),\n",
       " 'fit_time': (8.442301988601685,\n",
       "  7.78322434425354,\n",
       "  8.34732699394226,\n",
       "  7.229888200759888,\n",
       "  7.504071950912476),\n",
       " 'test_time': (0.8417649269104004,\n",
       "  0.28524231910705566,\n",
       "  0.4135017395019531,\n",
       "  0.2473444938659668,\n",
       "  0.45579099655151367)}"
      ]
     },
     "execution_count": 55,
     "metadata": {},
     "output_type": "execute_result"
    }
   ],
   "source": [
    "prod_output"
   ]
  },
  {
   "cell_type": "code",
   "execution_count": 56,
   "metadata": {},
   "outputs": [
    {
     "data": {
      "text/plain": [
       "{'test_rmse': array([1.0196533 , 1.04491534, 1.02406862, 1.02605211, 1.01669712]),\n",
       " 'test_mae': array([0.75005115, 0.76235637, 0.75157114, 0.75298903, 0.74733617]),\n",
       " 'fit_time': (0.18849802017211914,\n",
       "  0.23338007926940918,\n",
       "  0.21243500709533691,\n",
       "  0.21941733360290527,\n",
       "  0.15957283973693848),\n",
       " 'test_time': (0.12766122817993164,\n",
       "  0.13563919067382812,\n",
       "  0.14162421226501465,\n",
       "  0.10970664024353027,\n",
       "  0.10072970390319824)}"
      ]
     },
     "execution_count": 56,
     "metadata": {},
     "output_type": "execute_result"
    }
   ],
   "source": [
    "user_output"
   ]
  },
  {
   "cell_type": "markdown",
   "metadata": {},
   "source": [
    "### <font color = \"green\"> Compare models"
   ]
  },
  {
   "cell_type": "code",
   "execution_count": 57,
   "metadata": {},
   "outputs": [
    {
     "data": {
      "text/plain": [
       "<matplotlib.legend.Legend at 0x1811008ef98>"
      ]
     },
     "execution_count": 57,
     "metadata": {},
     "output_type": "execute_result"
    },
    {
     "data": {
      "image/png": "[encoded data removed]",
      "text/plain": [
       "<Figure size 720x504 with 1 Axes>"
      ]
     },
     "metadata": {
      "needs_background": "light"
     },
     "output_type": "display_data"
    }
   ],
   "source": [
    "plt.figure(figsize = (10,7))\n",
    "plt.plot(range(1,6), prod_output[\"test_rmse\"],\"g--\", label = \"Item-Item (Product)\")\n",
    "plt.plot(range(1,6), user_output[\"test_rmse\"],\"r--\", label = \"User-User (User)\")\n",
    "plt.xlabel(\"Iteration\")\n",
    "plt.ylabel(\"RMSE\")\n",
    "plt.title(\"RMSE Comparison\")\n",
    "plt.legend()"
   ]
  },
  {
   "cell_type": "code",
   "execution_count": 58,
   "metadata": {},
   "outputs": [
    {
     "data": {
      "text/plain": [
       "<matplotlib.legend.Legend at 0x18113096c18>"
      ]
     },
     "execution_count": 58,
     "metadata": {},
     "output_type": "execute_result"
    },
    {
     "data": {
      "image/png": "[encoded data removed]",
      "text/plain": [
       "<Figure size 720x504 with 1 Axes>"
      ]
     },
     "metadata": {
      "needs_background": "light"
     },
     "output_type": "display_data"
    }
   ],
   "source": [
    "plt.figure(figsize = (10,7))\n",
    "plt.plot(range(1,6), prod_output[\"test_mae\"],\"g--\", label = \"Item-Item (Product)\")\n",
    "plt.plot(range(1,6), user_output[\"test_mae\"],\"r--\", label = \"User-User (User)\")\n",
    "plt.xlabel(\"Iteration\")\n",
    "plt.ylabel(\"MAE\")\n",
    "plt.title(\"MAE Comparison\")\n",
    "plt.legend()"
   ]
  },
  {
   "cell_type": "markdown",
   "metadata": {},
   "source": [
    "### OBSERVATIONS\n",
    "\n",
    "<font color = \"purple\"> 1. The user - user filter is doing much better over a validation. This means that we should try and leverage the dimension with the higher number of entries</font>\n"
   ]
  },
  {
   "cell_type": "code",
   "execution_count": 59,
   "metadata": {},
   "outputs": [
    {
     "name": "stdout",
     "output_type": "stream",
     "text": [
      "Item-Item (Product) mean of MAE:  0.7878840519621484\n",
      "User-User (User) mean of MAE:  0.7528607729228052\n",
      "Item-Item (Product) mean of RMSE:  1.0858291018675756\n",
      "User-User (User) mean of RMSE:  1.0262772983756843\n",
      "Item-Item (Product) std of MAE:  0.011259692667085819\n",
      "User-User (User) std of MAE:  0.005104139509314754\n",
      "Item-Item (Product) std of RMSE:  0.021088356797198365\n",
      "User-User (User) std of RMSE:  0.009878894569786467\n"
     ]
    }
   ],
   "source": [
    "print(\"Item-Item (Product) mean of MAE: \", np.mean(prod_output[\"test_mae\"]))\n",
    "print(\"User-User (User) mean of MAE: \", np.mean(user_output[\"test_mae\"]))\n",
    "print(\"Item-Item (Product) mean of RMSE: \", np.mean(prod_output[\"test_rmse\"]))\n",
    "print(\"User-User (User) mean of RMSE: \", np.mean(user_output[\"test_rmse\"]))\n",
    "print(\"Item-Item (Product) std of MAE: \", np.std(prod_output[\"test_mae\"]))\n",
    "print(\"User-User (User) std of MAE: \", np.std(user_output[\"test_mae\"]))\n",
    "print(\"Item-Item (Product) std of RMSE: \", np.std(prod_output[\"test_rmse\"]))\n",
    "print(\"User-User (User) std of RMSE: \", np.std(user_output[\"test_rmse\"]))"
   ]
  },
  {
   "cell_type": "markdown",
   "metadata": {},
   "source": [
    "# <font color = \"blue\"> Q7. Get top - K ( K = 5) recommendations. Since our goal is to recommend new products to each user based on his/her habits, we will recommend 5 new products"
   ]
  },
  {
   "cell_type": "markdown",
   "metadata": {},
   "source": [
    "### <font color = \"green\"> Get top 5 from popularity recommender system"
   ]
  },
  {
   "cell_type": "code",
   "execution_count": 60,
   "metadata": {},
   "outputs": [
    {
     "data": {
      "text/html": [
       "<div>\n",
       "<style scoped>\n",
       "    .dataframe tbody tr th:only-of-type {\n",
       "        vertical-align: middle;\n",
       "    }\n",
       "\n",
       "    .dataframe tbody tr th {\n",
       "        vertical-align: top;\n",
       "    }\n",
       "\n",
       "    .dataframe thead th {\n",
       "        text-align: right;\n",
       "    }\n",
       "</style>\n",
       "<table border=\"1\" class=\"dataframe\">\n",
       "  <thead>\n",
       "    <tr style=\"text-align: right;\">\n",
       "      <th></th>\n",
       "      <th>ratings</th>\n",
       "      <th>median_rating</th>\n",
       "      <th>mean_rating</th>\n",
       "      <th>calculated_rating</th>\n",
       "    </tr>\n",
       "    <tr>\n",
       "      <th>productId</th>\n",
       "      <th></th>\n",
       "      <th></th>\n",
       "      <th></th>\n",
       "      <th></th>\n",
       "    </tr>\n",
       "  </thead>\n",
       "  <tbody>\n",
       "    <tr>\n",
       "      <th>B003ES5ZUU</th>\n",
       "      <td>54</td>\n",
       "      <td>5.0</td>\n",
       "      <td>5.000000</td>\n",
       "      <td>4.401408</td>\n",
       "    </tr>\n",
       "    <tr>\n",
       "      <th>B004CLYEDC</th>\n",
       "      <td>49</td>\n",
       "      <td>5.0</td>\n",
       "      <td>4.673469</td>\n",
       "      <td>4.225352</td>\n",
       "    </tr>\n",
       "    <tr>\n",
       "      <th>B00829TIEK</th>\n",
       "      <td>49</td>\n",
       "      <td>5.0</td>\n",
       "      <td>4.510204</td>\n",
       "      <td>4.225352</td>\n",
       "    </tr>\n",
       "    <tr>\n",
       "      <th>B0088CJT4U</th>\n",
       "      <td>71</td>\n",
       "      <td>4.0</td>\n",
       "      <td>4.225352</td>\n",
       "      <td>4.225352</td>\n",
       "    </tr>\n",
       "    <tr>\n",
       "      <th>B000N99BBC</th>\n",
       "      <td>47</td>\n",
       "      <td>5.0</td>\n",
       "      <td>4.765957</td>\n",
       "      <td>4.154930</td>\n",
       "    </tr>\n",
       "  </tbody>\n",
       "</table>\n",
       "</div>"
      ],
      "text/plain": [
       "            ratings  median_rating  mean_rating  calculated_rating\n",
       "productId                                                         \n",
       "B003ES5ZUU       54            5.0     5.000000           4.401408\n",
       "B004CLYEDC       49            5.0     4.673469           4.225352\n",
       "B00829TIEK       49            5.0     4.510204           4.225352\n",
       "B0088CJT4U       71            4.0     4.225352           4.225352\n",
       "B000N99BBC       47            5.0     4.765957           4.154930"
      ]
     },
     "execution_count": 60,
     "metadata": {},
     "output_type": "execute_result"
    }
   ],
   "source": [
    "pop_recommender(5, False)"
   ]
  },
  {
   "cell_type": "markdown",
   "metadata": {},
   "source": [
    "### <font color = \"green\"> Get top 5 from Item Item Collaborative Filtering Recommender system "
   ]
  },
  {
   "cell_type": "code",
   "execution_count": 61,
   "metadata": {},
   "outputs": [
    {
     "data": {
      "text/html": [
       "<div>\n",
       "<style scoped>\n",
       "    .dataframe tbody tr th:only-of-type {\n",
       "        vertical-align: middle;\n",
       "    }\n",
       "\n",
       "    .dataframe tbody tr th {\n",
       "        vertical-align: top;\n",
       "    }\n",
       "\n",
       "    .dataframe thead th {\n",
       "        text-align: right;\n",
       "    }\n",
       "</style>\n",
       "<table border=\"1\" class=\"dataframe\">\n",
       "  <thead>\n",
       "    <tr style=\"text-align: right;\">\n",
       "      <th></th>\n",
       "      <th>user</th>\n",
       "      <th>product</th>\n",
       "      <th>rating</th>\n",
       "      <th>estimated</th>\n",
       "      <th>k</th>\n",
       "      <th>calculated_rating</th>\n",
       "    </tr>\n",
       "  </thead>\n",
       "  <tbody>\n",
       "    <tr>\n",
       "      <th>1871</th>\n",
       "      <td>AWPODHOB4GFWL</td>\n",
       "      <td>B0082E9K7U</td>\n",
       "      <td>5.0</td>\n",
       "      <td>4.996124</td>\n",
       "      <td>23</td>\n",
       "      <td>4.99612</td>\n",
       "    </tr>\n",
       "    <tr>\n",
       "      <th>4871</th>\n",
       "      <td>A3A4ZAIBQWKOZS</td>\n",
       "      <td>B00HZWJGS8</td>\n",
       "      <td>5.0</td>\n",
       "      <td>5.000000</td>\n",
       "      <td>18</td>\n",
       "      <td>4.45652</td>\n",
       "    </tr>\n",
       "    <tr>\n",
       "      <th>3749</th>\n",
       "      <td>A3OXHLG6DIBRW8</td>\n",
       "      <td>B000VX6XL6</td>\n",
       "      <td>5.0</td>\n",
       "      <td>4.950098</td>\n",
       "      <td>18</td>\n",
       "      <td>4.41204</td>\n",
       "    </tr>\n",
       "    <tr>\n",
       "      <th>2048</th>\n",
       "      <td>A25C2M3QF9G7OQ</td>\n",
       "      <td>B00GMTN96U</td>\n",
       "      <td>5.0</td>\n",
       "      <td>5.000000</td>\n",
       "      <td>17</td>\n",
       "      <td>4.34783</td>\n",
       "    </tr>\n",
       "    <tr>\n",
       "      <th>4646</th>\n",
       "      <td>A3A4ZAIBQWKOZS</td>\n",
       "      <td>B00G4V0QSK</td>\n",
       "      <td>5.0</td>\n",
       "      <td>5.000000</td>\n",
       "      <td>16</td>\n",
       "      <td>4.23913</td>\n",
       "    </tr>\n",
       "  </tbody>\n",
       "</table>\n",
       "</div>"
      ],
      "text/plain": [
       "                user     product  rating  estimated   k calculated_rating\n",
       "1871   AWPODHOB4GFWL  B0082E9K7U     5.0   4.996124  23           4.99612\n",
       "4871  A3A4ZAIBQWKOZS  B00HZWJGS8     5.0   5.000000  18           4.45652\n",
       "3749  A3OXHLG6DIBRW8  B000VX6XL6     5.0   4.950098  18           4.41204\n",
       "2048  A25C2M3QF9G7OQ  B00GMTN96U     5.0   5.000000  17           4.34783\n",
       "4646  A3A4ZAIBQWKOZS  B00G4V0QSK     5.0   5.000000  16           4.23913"
      ]
     },
     "execution_count": 61,
     "metadata": {},
     "output_type": "execute_result"
    }
   ],
   "source": [
    "collab_recommender_prod(pid, 5, False, True)"
   ]
  },
  {
   "cell_type": "markdown",
   "metadata": {},
   "source": [
    "### <font color = \"green\"> Get top 5 from User User Collaborative Filtering Recommender system "
   ]
  },
  {
   "cell_type": "code",
   "execution_count": 62,
   "metadata": {},
   "outputs": [
    {
     "data": {
      "text/html": [
       "<div>\n",
       "<style scoped>\n",
       "    .dataframe tbody tr th:only-of-type {\n",
       "        vertical-align: middle;\n",
       "    }\n",
       "\n",
       "    .dataframe tbody tr th {\n",
       "        vertical-align: top;\n",
       "    }\n",
       "\n",
       "    .dataframe thead th {\n",
       "        text-align: right;\n",
       "    }\n",
       "</style>\n",
       "<table border=\"1\" class=\"dataframe\">\n",
       "  <thead>\n",
       "    <tr style=\"text-align: right;\">\n",
       "      <th></th>\n",
       "      <th>user</th>\n",
       "      <th>product</th>\n",
       "      <th>rating</th>\n",
       "      <th>estimated</th>\n",
       "      <th>k</th>\n",
       "      <th>calculated_rating</th>\n",
       "    </tr>\n",
       "  </thead>\n",
       "  <tbody>\n",
       "    <tr>\n",
       "      <th>9</th>\n",
       "      <td>A100UD67AHFODS</td>\n",
       "      <td>B00F0DD0I6</td>\n",
       "      <td>5.0</td>\n",
       "      <td>5.0</td>\n",
       "      <td>11</td>\n",
       "      <td>5</td>\n",
       "    </tr>\n",
       "    <tr>\n",
       "      <th>14</th>\n",
       "      <td>A100UD67AHFODS</td>\n",
       "      <td>B00HHRP11C</td>\n",
       "      <td>5.0</td>\n",
       "      <td>5.0</td>\n",
       "      <td>7</td>\n",
       "      <td>4.09091</td>\n",
       "    </tr>\n",
       "    <tr>\n",
       "      <th>12</th>\n",
       "      <td>A100UD67AHFODS</td>\n",
       "      <td>B000Q8UAWY</td>\n",
       "      <td>5.0</td>\n",
       "      <td>5.0</td>\n",
       "      <td>7</td>\n",
       "      <td>4.09091</td>\n",
       "    </tr>\n",
       "    <tr>\n",
       "      <th>27</th>\n",
       "      <td>A100UD67AHFODS</td>\n",
       "      <td>B005CLPP8E</td>\n",
       "      <td>5.0</td>\n",
       "      <td>5.0</td>\n",
       "      <td>5</td>\n",
       "      <td>3.63636</td>\n",
       "    </tr>\n",
       "    <tr>\n",
       "      <th>17</th>\n",
       "      <td>A100UD67AHFODS</td>\n",
       "      <td>B001W26TIW</td>\n",
       "      <td>5.0</td>\n",
       "      <td>5.0</td>\n",
       "      <td>2</td>\n",
       "      <td>2.95455</td>\n",
       "    </tr>\n",
       "  </tbody>\n",
       "</table>\n",
       "</div>"
      ],
      "text/plain": [
       "              user     product  rating  estimated   k calculated_rating\n",
       "9   A100UD67AHFODS  B00F0DD0I6     5.0        5.0  11                 5\n",
       "14  A100UD67AHFODS  B00HHRP11C     5.0        5.0   7           4.09091\n",
       "12  A100UD67AHFODS  B000Q8UAWY     5.0        5.0   7           4.09091\n",
       "27  A100UD67AHFODS  B005CLPP8E     5.0        5.0   5           3.63636\n",
       "17  A100UD67AHFODS  B001W26TIW     5.0        5.0   2           2.95455"
      ]
     },
     "execution_count": 62,
     "metadata": {},
     "output_type": "execute_result"
    }
   ],
   "source": [
    "collab_recommender_user(uid, 5, False, True)"
   ]
  },
  {
   "cell_type": "markdown",
   "metadata": {},
   "source": [
    "# <font color = \"blue\"> Q8. Summarise your insights"
   ]
  },
  {
   "cell_type": "markdown",
   "metadata": {},
   "source": [
    "### <font color = \"green\"> Lets take a look at the output for both collaborative models "
   ]
  },
  {
   "cell_type": "markdown",
   "metadata": {},
   "source": [
    "### <font color = \"green\"> Item Item Collaborative Filtering"
   ]
  },
  {
   "cell_type": "code",
   "execution_count": 63,
   "metadata": {
    "scrolled": false
   },
   "outputs": [
    {
     "data": {
      "text/plain": [
       "<matplotlib.legend.Legend at 0x18114714f98>"
      ]
     },
     "execution_count": 63,
     "metadata": {},
     "output_type": "execute_result"
    },
    {
     "data": {
      "image/png": "[encoded data removed]",
      "text/plain": [
       "<Figure size 720x504 with 1 Axes>"
      ]
     },
     "metadata": {
      "needs_background": "light"
     },
     "output_type": "display_data"
    }
   ],
   "source": [
    "plt.figure(figsize = (10,7))\n",
    "product_collab_pred = product_collab_pred.sample(frac=0.01)\n",
    "num_ratings = product_collab_pred [\"rating\"].count()\n",
    "product_collab_pred = product_collab_pred.sort_values(by = \"rating\", ascending = False)\n",
    "product_collab_pred = product_collab_pred.sort_values(by = \"estimated\", ascending = False)\n",
    "plt.plot(range(0,num_ratings), product_collab_pred [\"rating\"],\"y--\", label = \"Rating\")\n",
    "plt.plot(range(0,num_ratings), product_collab_pred [\"estimated\"],\"b--\", label = \"Estimated\")\n",
    "plt.xlabel(\"Iteration\")\n",
    "plt.ylabel(\"Value\")\n",
    "plt.title(\"Rating Vs Estimation\")\n",
    "plt.legend()"
   ]
  },
  {
   "cell_type": "markdown",
   "metadata": {},
   "source": [
    "### <font color = \"green\"> User User Collaborative Filtering"
   ]
  },
  {
   "cell_type": "code",
   "execution_count": 64,
   "metadata": {},
   "outputs": [
    {
     "data": {
      "text/plain": [
       "<matplotlib.legend.Legend at 0x18113009240>"
      ]
     },
     "execution_count": 64,
     "metadata": {},
     "output_type": "execute_result"
    },
    {
     "data": {
      "image/png": "[encoded data removed]",
      "text/plain": [
       "<Figure size 720x504 with 1 Axes>"
      ]
     },
     "metadata": {
      "needs_background": "light"
     },
     "output_type": "display_data"
    }
   ],
   "source": [
    "plt.figure(figsize = (10,7))\n",
    "num_ratings = user_collab_pred [\"rating\"].count()\n",
    "user_collab_pred = user_collab_pred.sort_values(by = \"rating\", ascending = False)\n",
    "user_collab_pred = user_collab_pred.sort_values(by = \"estimated\", ascending = False)\n",
    "plt.plot(range(0,num_ratings), user_collab_pred [\"rating\"],\"y--\", label = \"Rating\")\n",
    "plt.plot(range(0,num_ratings), user_collab_pred [\"estimated\"],\"b--\", label = \"Estimated\")\n",
    "plt.xlabel(\"Iteration\")\n",
    "plt.ylabel(\"Value\")\n",
    "plt.title(\"Rating Vs Estimation\")\n",
    "plt.legend()"
   ]
  },
  {
   "cell_type": "markdown",
   "metadata": {},
   "source": [
    "### OBSERVATIONS\n",
    "\n",
    "<font color = \"purple\"> 1. The user - user filter projects a smoother estimation against the user ratings. As pointed out previously, this implies that we can try and leverage the dimension with the higher number of entries for our recommendation system. i.e if the number of users is higher we use user user collaborative filtering, else we use item item collaborative filtering </font>\n"
   ]
  },
  {
   "cell_type": "markdown",
   "metadata": {},
   "source": [
    "### OUR INSIGHTS FROM THIS ASSIGNMENT\n",
    "\n",
    "<font color = \"purple\"> 1. We see that the collaborative filters do a better job of aligning with user interests than the pure popularity based recommender systems. However, the ease of implementation, the low computational complexity could mean that popularity based recommender systems can be used in certain opportunities. These systems could work very well if given a limited scope of product types, segments or user preferences to work inside.</font>\n",
    "\n",
    "<font color = \"purple\"> 2. What is also evident is that there is a certain degree of bias towards products with fewer ratings but higher values. This correlates well with what we see. A lot of recommender systems, especially Amazon, tend to show objects with few high ratings higher than those with multiple higher ratings.</font>\n",
    "\n",
    "<font color = \"purple\"> 3. To balance this out, we have introduced a penalty system that works backwards from the maximum times rated object. The penalty increases as the number of ratings decrease until the number of ratings available reaches 1. In which case, the penalty is almost half the value of the rating. This suppresses objects which have very few high ratings. </font>\n",
    "\n",
    "<font color = \"purple\"> 4. In real life, we will have to seek a balance between prioritizing objects that have more reviews and trying to increase the popularity of items that may have high ratings but only a few user reviews.</font>\n",
    "\n",
    "<font color = \"purple\"> 5. An ideal combination would be Content based recommendation systems for objects which are reviewed less, collaborative filtering for objects and users that have lots of ratings and preferences visible and popularity based filtering for users that have lower reviews/indicated interests. This would help us cover all frontiers</font>\n",
    "\n",
    "<font color = \"purple\"> 6. What is also an important point to note, is that there is a significant performance concern here. At a few thousand records, we observed python usage of 4GB upwards. This indicates that the data for this recommendation systems must be segregated as much as possible. Different categories, price ranges and user segments. That helps keep the performance requirement in check and reduces cost of operation</font>\n",
    "\n",
    "<font color = \"purple\"> 7. Further, there is the scope of optimizing the work done on the predictions returned. At this time, we are returning a subset from all the predictions. Instead, it could be fruitful to discover ways of inplace sorting and filtering from the subset data itself. </font>\n",
    "\n",
    "<font color = \"purple\"> 8. In terms of accuracy metrics, we see that RMSE, MAE and Accuracy scores are all applicable on the results. What we can also attempt is the use of classification measures. However, the clear issue there is the existence of multiclass outputs which most methods are unable to deal with. We may have to categorize the outcomes into such categories that make classification, ROC_Scores possible.</font>\n",
    "\n",
    "<font color = \"purple\"> 9. Since both popularity and collaborative filtering solutions may work well within defined boundaries and constraints, it becomes important to ask whether we actually need the additional customization offered by the collaborative filtering systems. It would depend on the cost of computation and development vs benefit analysis of the upsell/cross sell produced </font>"
   ]
  },
  {
   "cell_type": "markdown",
   "metadata": {},
   "source": [
    "# <font color = \"blue\"> Assignment 6 - Recommendation Systems END"
   ]
  }
 ],
 "metadata": {
  "kernelspec": {
   "display_name": "Python 3",
   "language": "python",
   "name": "python3"
  },
  "language_info": {
   "codemirror_mode": {
    "name": "ipython",
    "version": 3
   },
   "file_extension": ".py",
   "mimetype": "text/x-python",
   "name": "python",
   "nbconvert_exporter": "python",
   "pygments_lexer": "ipython3",
   "version": "3.7.3"
  }
 },
 "nbformat": 4,
 "nbformat_minor": 2
}
