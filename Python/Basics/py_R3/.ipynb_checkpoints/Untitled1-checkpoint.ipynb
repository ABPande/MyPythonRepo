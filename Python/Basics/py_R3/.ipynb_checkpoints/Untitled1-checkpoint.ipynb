{
 "cells": [
  {
   "cell_type": "code",
   "execution_count": 1,
   "metadata": {},
   "outputs": [],
   "source": [
    "import xlrd"
   ]
  },
  {
   "cell_type": "code",
   "execution_count": 2,
   "metadata": {},
   "outputs": [
    {
     "name": "stdout",
     "output_type": "stream",
     "text": [
      "   index  a    b  c  d\n",
      "0      0  1  444  x  1\n",
      "1      1  2  555  y  3\n",
      "2      2  3  666  x  5\n",
      "3      3  4  444  y  4\n",
      "   Unnamed: 0  index  a    b  c  d\n",
      "0           0      0  1  444  x  1\n",
      "1           1      1  2  555  y  3\n",
      "2           2      2  3  666  x  5\n",
      "3           3      3  4  444  y  4\n"
     ]
    }
   ],
   "source": [
    "import pandas as pd\n",
    "\n",
    "dfCsv = pd.read_csv(\"C://MLData/example.csv\")\n",
    "\n",
    "print (dfCsv)\n",
    "dfCsv.to_excel(\"C://MLData/exampleoutput.xlsx\", sheet_name = \"SheetOutput\", index = False)\n",
    "dfExcel = pd.read_excel(\"C://MLData/exampleoutput.xlsx\", sheet_name = \"SheetOutput\")\n",
    "print (dfExcel)"
   ]
  },
  {
   "cell_type": "code",
   "execution_count": null,
   "metadata": {},
   "outputs": [],
   "source": []
  }
 ],
 "metadata": {
  "kernelspec": {
   "display_name": "Python 3",
   "language": "python",
   "name": "python3"
  },
  "language_info": {
   "codemirror_mode": {
    "name": "ipython",
    "version": 3
   },
   "file_extension": ".py",
   "mimetype": "text/x-python",
   "name": "python",
   "nbconvert_exporter": "python",
   "pygments_lexer": "ipython3",
   "version": "3.7.3"
  }
 },
 "nbformat": 4,
 "nbformat_minor": 2
}
